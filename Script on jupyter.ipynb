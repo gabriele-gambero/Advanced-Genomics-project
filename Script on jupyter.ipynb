{
 "cells": [
  {
   "cell_type": "code",
   "execution_count": 136,
   "id": "5a13b77eaab17d26",
   "metadata": {
    "collapsed": false,
    "ExecuteTime": {
     "end_time": "2024-03-28T15:28:58.758881Z",
     "start_time": "2024-03-28T15:28:54.994397Z"
    }
   },
   "outputs": [],
   "source": [
    "import pandas as pd\n",
    "import re\n",
    "import matplotlib.pyplot as plt\n",
    "\n",
    "from IPython.core.interactiveshell import InteractiveShell\n",
    "InteractiveShell.ast_node_interactivity = \"all\""
   ]
  },
  {
   "cell_type": "markdown",
   "source": [
    "# Data import and transformation"
   ],
   "metadata": {
    "collapsed": false
   },
   "id": "4f8afdf38c97c69e"
  },
  {
   "cell_type": "code",
   "outputs": [
    {
     "data": {
      "text/plain": "  ecoli_b_id  control__wt_glc__1  control__wt_glc__2  fur__wt_dpd__1  \\\n0      b0002           -0.061772            0.061772        0.636527   \n1      b0003           -0.053742            0.053742        0.954439   \n2      b0004           -0.065095            0.065095       -0.202697   \n3      b0005            0.028802           -0.028802       -0.865171   \n4      b0006            0.009087           -0.009087       -0.131039   \n\n   fur__wt_dpd__2  fur__wt_fe__1  fur__wt_fe__2  fur__delfur_dpd__1  \\\n0        0.819793      -0.003615      -0.289353           -1.092023   \n1        1.334385       0.307588       0.128414           -0.872563   \n2        0.119195      -0.264995      -0.546017           -1.918349   \n3       -0.951179       0.428769       0.123564           -1.660351   \n4       -0.124079      -0.144870      -0.090152           -0.219917   \n\n   fur__delfur_dpd__2  fur__delfur_fe2__1  ...  efeU__menFentC_ale29__1  \\\n0           -0.777289            0.161343  ...                -0.797097   \n1           -0.277893            0.428542  ...                -0.309105   \n2           -1.577736           -0.474815  ...                -0.184898   \n3           -1.531147            0.240353  ...                -0.308221   \n4           -0.046648           -0.044537  ...                 1.464603   \n\n   efeU__menFentC_ale29__2  efeU__menFentC_ale30__1  efeU__menFentC_ale30__2  \\\n0                -0.791859                 0.080114                 0.102154   \n1                -0.352535                -0.155074                -0.077145   \n2                -0.225615                 0.019575                 0.063986   \n3                -0.581714                 0.018820                 0.004040   \n4                 1.415706                 1.230831                 1.165153   \n\n   efeU__menFentCubiC_ale36__1  efeU__menFentCubiC_ale36__2  \\\n0                     0.608180                     0.657673   \n1                     0.447030                     0.439881   \n2                     0.483343                     0.452754   \n3                    -1.228763                    -1.451750   \n4                     0.447447                     0.458852   \n\n   efeU__menFentCubiC_ale37__1  efeU__menFentCubiC_ale37__2  \\\n0                     0.813105                     0.854813   \n1                     0.554528                     0.569030   \n2                     0.524828                     0.581878   \n3                    -0.839203                    -0.529349   \n4                     0.421417                     0.408077   \n\n   efeU__menFentCubiC_ale38__1  efeU__menFentCubiC_ale38__2  \n0                     0.427986                     0.484338  \n1                     0.154905                     0.294799  \n2                     0.293239                     0.341040  \n3                    -0.413336                    -0.478682  \n4                     1.151066                     1.198529  \n\n[5 rows x 279 columns]",
      "text/html": "<div>\n<style scoped>\n    .dataframe tbody tr th:only-of-type {\n        vertical-align: middle;\n    }\n\n    .dataframe tbody tr th {\n        vertical-align: top;\n    }\n\n    .dataframe thead th {\n        text-align: right;\n    }\n</style>\n<table border=\"1\" class=\"dataframe\">\n  <thead>\n    <tr style=\"text-align: right;\">\n      <th></th>\n      <th>ecoli_b_id</th>\n      <th>control__wt_glc__1</th>\n      <th>control__wt_glc__2</th>\n      <th>fur__wt_dpd__1</th>\n      <th>fur__wt_dpd__2</th>\n      <th>fur__wt_fe__1</th>\n      <th>fur__wt_fe__2</th>\n      <th>fur__delfur_dpd__1</th>\n      <th>fur__delfur_dpd__2</th>\n      <th>fur__delfur_fe2__1</th>\n      <th>...</th>\n      <th>efeU__menFentC_ale29__1</th>\n      <th>efeU__menFentC_ale29__2</th>\n      <th>efeU__menFentC_ale30__1</th>\n      <th>efeU__menFentC_ale30__2</th>\n      <th>efeU__menFentCubiC_ale36__1</th>\n      <th>efeU__menFentCubiC_ale36__2</th>\n      <th>efeU__menFentCubiC_ale37__1</th>\n      <th>efeU__menFentCubiC_ale37__2</th>\n      <th>efeU__menFentCubiC_ale38__1</th>\n      <th>efeU__menFentCubiC_ale38__2</th>\n    </tr>\n  </thead>\n  <tbody>\n    <tr>\n      <th>0</th>\n      <td>b0002</td>\n      <td>-0.061772</td>\n      <td>0.061772</td>\n      <td>0.636527</td>\n      <td>0.819793</td>\n      <td>-0.003615</td>\n      <td>-0.289353</td>\n      <td>-1.092023</td>\n      <td>-0.777289</td>\n      <td>0.161343</td>\n      <td>...</td>\n      <td>-0.797097</td>\n      <td>-0.791859</td>\n      <td>0.080114</td>\n      <td>0.102154</td>\n      <td>0.608180</td>\n      <td>0.657673</td>\n      <td>0.813105</td>\n      <td>0.854813</td>\n      <td>0.427986</td>\n      <td>0.484338</td>\n    </tr>\n    <tr>\n      <th>1</th>\n      <td>b0003</td>\n      <td>-0.053742</td>\n      <td>0.053742</td>\n      <td>0.954439</td>\n      <td>1.334385</td>\n      <td>0.307588</td>\n      <td>0.128414</td>\n      <td>-0.872563</td>\n      <td>-0.277893</td>\n      <td>0.428542</td>\n      <td>...</td>\n      <td>-0.309105</td>\n      <td>-0.352535</td>\n      <td>-0.155074</td>\n      <td>-0.077145</td>\n      <td>0.447030</td>\n      <td>0.439881</td>\n      <td>0.554528</td>\n      <td>0.569030</td>\n      <td>0.154905</td>\n      <td>0.294799</td>\n    </tr>\n    <tr>\n      <th>2</th>\n      <td>b0004</td>\n      <td>-0.065095</td>\n      <td>0.065095</td>\n      <td>-0.202697</td>\n      <td>0.119195</td>\n      <td>-0.264995</td>\n      <td>-0.546017</td>\n      <td>-1.918349</td>\n      <td>-1.577736</td>\n      <td>-0.474815</td>\n      <td>...</td>\n      <td>-0.184898</td>\n      <td>-0.225615</td>\n      <td>0.019575</td>\n      <td>0.063986</td>\n      <td>0.483343</td>\n      <td>0.452754</td>\n      <td>0.524828</td>\n      <td>0.581878</td>\n      <td>0.293239</td>\n      <td>0.341040</td>\n    </tr>\n    <tr>\n      <th>3</th>\n      <td>b0005</td>\n      <td>0.028802</td>\n      <td>-0.028802</td>\n      <td>-0.865171</td>\n      <td>-0.951179</td>\n      <td>0.428769</td>\n      <td>0.123564</td>\n      <td>-1.660351</td>\n      <td>-1.531147</td>\n      <td>0.240353</td>\n      <td>...</td>\n      <td>-0.308221</td>\n      <td>-0.581714</td>\n      <td>0.018820</td>\n      <td>0.004040</td>\n      <td>-1.228763</td>\n      <td>-1.451750</td>\n      <td>-0.839203</td>\n      <td>-0.529349</td>\n      <td>-0.413336</td>\n      <td>-0.478682</td>\n    </tr>\n    <tr>\n      <th>4</th>\n      <td>b0006</td>\n      <td>0.009087</td>\n      <td>-0.009087</td>\n      <td>-0.131039</td>\n      <td>-0.124079</td>\n      <td>-0.144870</td>\n      <td>-0.090152</td>\n      <td>-0.219917</td>\n      <td>-0.046648</td>\n      <td>-0.044537</td>\n      <td>...</td>\n      <td>1.464603</td>\n      <td>1.415706</td>\n      <td>1.230831</td>\n      <td>1.165153</td>\n      <td>0.447447</td>\n      <td>0.458852</td>\n      <td>0.421417</td>\n      <td>0.408077</td>\n      <td>1.151066</td>\n      <td>1.198529</td>\n    </tr>\n  </tbody>\n</table>\n<p>5 rows × 279 columns</p>\n</div>"
     },
     "execution_count": 116,
     "metadata": {},
     "output_type": "execute_result"
    },
    {
     "data": {
      "text/plain": "(3923, 279)"
     },
     "execution_count": 116,
     "metadata": {},
     "output_type": "execute_result"
    }
   ],
   "source": [
    "log_tpm = pd.read_csv(\"./SBRG/data/log_tpm_norm.csv\")\n",
    "log_tpm = log_tpm.rename(columns={\"Unnamed: 0\":'ecoli_b_id'})\n",
    "log_tpm.head()\n",
    "log_tpm.shape"
   ],
   "metadata": {
    "collapsed": true,
    "ExecuteTime": {
     "end_time": "2024-03-28T12:12:48.311141Z",
     "start_time": "2024-03-28T12:12:47.850817Z"
    }
   },
   "id": "initial_id",
   "execution_count": 116
  },
  {
   "cell_type": "code",
   "outputs": [
    {
     "data": {
      "text/plain": "  ecoli_b_id  start  stop strand gene_name  length   operon  \\\n0      b0001    189   255      +      thrL      66  thrLABC   \n1      b0002    336  2799      +      thrA    2463  thrLABC   \n2      b0003   2800  3733      +      thrB     933  thrLABC   \n3      b0004   3733  5020      +      thrC    1287  thrLABC   \n4      b0005   5233  5530      +      yaaX     297     yaaX   \n\n                                   cog  \n0                    No COG Annotation  \n1  Amino acid transport and metabolism  \n2  Amino acid transport and metabolism  \n3  Amino acid transport and metabolism  \n4                     Function unknown  ",
      "text/html": "<div>\n<style scoped>\n    .dataframe tbody tr th:only-of-type {\n        vertical-align: middle;\n    }\n\n    .dataframe tbody tr th {\n        vertical-align: top;\n    }\n\n    .dataframe thead th {\n        text-align: right;\n    }\n</style>\n<table border=\"1\" class=\"dataframe\">\n  <thead>\n    <tr style=\"text-align: right;\">\n      <th></th>\n      <th>ecoli_b_id</th>\n      <th>start</th>\n      <th>stop</th>\n      <th>strand</th>\n      <th>gene_name</th>\n      <th>length</th>\n      <th>operon</th>\n      <th>cog</th>\n    </tr>\n  </thead>\n  <tbody>\n    <tr>\n      <th>0</th>\n      <td>b0001</td>\n      <td>189</td>\n      <td>255</td>\n      <td>+</td>\n      <td>thrL</td>\n      <td>66</td>\n      <td>thrLABC</td>\n      <td>No COG Annotation</td>\n    </tr>\n    <tr>\n      <th>1</th>\n      <td>b0002</td>\n      <td>336</td>\n      <td>2799</td>\n      <td>+</td>\n      <td>thrA</td>\n      <td>2463</td>\n      <td>thrLABC</td>\n      <td>Amino acid transport and metabolism</td>\n    </tr>\n    <tr>\n      <th>2</th>\n      <td>b0003</td>\n      <td>2800</td>\n      <td>3733</td>\n      <td>+</td>\n      <td>thrB</td>\n      <td>933</td>\n      <td>thrLABC</td>\n      <td>Amino acid transport and metabolism</td>\n    </tr>\n    <tr>\n      <th>3</th>\n      <td>b0004</td>\n      <td>3733</td>\n      <td>5020</td>\n      <td>+</td>\n      <td>thrC</td>\n      <td>1287</td>\n      <td>thrLABC</td>\n      <td>Amino acid transport and metabolism</td>\n    </tr>\n    <tr>\n      <th>4</th>\n      <td>b0005</td>\n      <td>5233</td>\n      <td>5530</td>\n      <td>+</td>\n      <td>yaaX</td>\n      <td>297</td>\n      <td>yaaX</td>\n      <td>Function unknown</td>\n    </tr>\n  </tbody>\n</table>\n</div>"
     },
     "execution_count": 117,
     "metadata": {},
     "output_type": "execute_result"
    },
    {
     "data": {
      "text/plain": "(4386, 8)"
     },
     "execution_count": 117,
     "metadata": {},
     "output_type": "execute_result"
    }
   ],
   "source": [
    "all_b = pd.read_csv(\"./SBRG/data/gene_info.csv\")\n",
    "all_b = all_b.rename(columns={\"Unnamed: 0\":'ecoli_b_id'})\n",
    "all_b.head()\n",
    "all_b.shape"
   ],
   "metadata": {
    "collapsed": false,
    "ExecuteTime": {
     "end_time": "2024-03-28T12:12:48.348457Z",
     "start_time": "2024-03-28T12:12:48.313144Z"
    }
   },
   "id": "a5d97023c81e72b9",
   "execution_count": 117
  },
  {
   "cell_type": "code",
   "outputs": [
    {
     "data": {
      "text/plain": "(3923, 281)"
     },
     "execution_count": 118,
     "metadata": {},
     "output_type": "execute_result"
    },
    {
     "data": {
      "text/plain": "  ecoli_b_id gene_name                                  cog  \\\n0      b0002      thrA  Amino acid transport and metabolism   \n1      b0003      thrB  Amino acid transport and metabolism   \n2      b0004      thrC  Amino acid transport and metabolism   \n3      b0005      yaaX                     Function unknown   \n4      b0006      yaaA                     Function unknown   \n\n   control__wt_glc__1  control__wt_glc__2  fur__wt_dpd__1  fur__wt_dpd__2  \\\n0           -0.061772            0.061772        0.636527        0.819793   \n1           -0.053742            0.053742        0.954439        1.334385   \n2           -0.065095            0.065095       -0.202697        0.119195   \n3            0.028802           -0.028802       -0.865171       -0.951179   \n4            0.009087           -0.009087       -0.131039       -0.124079   \n\n   fur__wt_fe__1  fur__wt_fe__2  fur__delfur_dpd__1  ...  \\\n0      -0.003615      -0.289353           -1.092023  ...   \n1       0.307588       0.128414           -0.872563  ...   \n2      -0.264995      -0.546017           -1.918349  ...   \n3       0.428769       0.123564           -1.660351  ...   \n4      -0.144870      -0.090152           -0.219917  ...   \n\n   efeU__menFentC_ale29__1  efeU__menFentC_ale29__2  efeU__menFentC_ale30__1  \\\n0                -0.797097                -0.791859                 0.080114   \n1                -0.309105                -0.352535                -0.155074   \n2                -0.184898                -0.225615                 0.019575   \n3                -0.308221                -0.581714                 0.018820   \n4                 1.464603                 1.415706                 1.230831   \n\n   efeU__menFentC_ale30__2  efeU__menFentCubiC_ale36__1  \\\n0                 0.102154                     0.608180   \n1                -0.077145                     0.447030   \n2                 0.063986                     0.483343   \n3                 0.004040                    -1.228763   \n4                 1.165153                     0.447447   \n\n   efeU__menFentCubiC_ale36__2  efeU__menFentCubiC_ale37__1  \\\n0                     0.657673                     0.813105   \n1                     0.439881                     0.554528   \n2                     0.452754                     0.524828   \n3                    -1.451750                    -0.839203   \n4                     0.458852                     0.421417   \n\n   efeU__menFentCubiC_ale37__2  efeU__menFentCubiC_ale38__1  \\\n0                     0.854813                     0.427986   \n1                     0.569030                     0.154905   \n2                     0.581878                     0.293239   \n3                    -0.529349                    -0.413336   \n4                     0.408077                     1.151066   \n\n   efeU__menFentCubiC_ale38__2  \n0                     0.484338  \n1                     0.294799  \n2                     0.341040  \n3                    -0.478682  \n4                     1.198529  \n\n[5 rows x 281 columns]",
      "text/html": "<div>\n<style scoped>\n    .dataframe tbody tr th:only-of-type {\n        vertical-align: middle;\n    }\n\n    .dataframe tbody tr th {\n        vertical-align: top;\n    }\n\n    .dataframe thead th {\n        text-align: right;\n    }\n</style>\n<table border=\"1\" class=\"dataframe\">\n  <thead>\n    <tr style=\"text-align: right;\">\n      <th></th>\n      <th>ecoli_b_id</th>\n      <th>gene_name</th>\n      <th>cog</th>\n      <th>control__wt_glc__1</th>\n      <th>control__wt_glc__2</th>\n      <th>fur__wt_dpd__1</th>\n      <th>fur__wt_dpd__2</th>\n      <th>fur__wt_fe__1</th>\n      <th>fur__wt_fe__2</th>\n      <th>fur__delfur_dpd__1</th>\n      <th>...</th>\n      <th>efeU__menFentC_ale29__1</th>\n      <th>efeU__menFentC_ale29__2</th>\n      <th>efeU__menFentC_ale30__1</th>\n      <th>efeU__menFentC_ale30__2</th>\n      <th>efeU__menFentCubiC_ale36__1</th>\n      <th>efeU__menFentCubiC_ale36__2</th>\n      <th>efeU__menFentCubiC_ale37__1</th>\n      <th>efeU__menFentCubiC_ale37__2</th>\n      <th>efeU__menFentCubiC_ale38__1</th>\n      <th>efeU__menFentCubiC_ale38__2</th>\n    </tr>\n  </thead>\n  <tbody>\n    <tr>\n      <th>0</th>\n      <td>b0002</td>\n      <td>thrA</td>\n      <td>Amino acid transport and metabolism</td>\n      <td>-0.061772</td>\n      <td>0.061772</td>\n      <td>0.636527</td>\n      <td>0.819793</td>\n      <td>-0.003615</td>\n      <td>-0.289353</td>\n      <td>-1.092023</td>\n      <td>...</td>\n      <td>-0.797097</td>\n      <td>-0.791859</td>\n      <td>0.080114</td>\n      <td>0.102154</td>\n      <td>0.608180</td>\n      <td>0.657673</td>\n      <td>0.813105</td>\n      <td>0.854813</td>\n      <td>0.427986</td>\n      <td>0.484338</td>\n    </tr>\n    <tr>\n      <th>1</th>\n      <td>b0003</td>\n      <td>thrB</td>\n      <td>Amino acid transport and metabolism</td>\n      <td>-0.053742</td>\n      <td>0.053742</td>\n      <td>0.954439</td>\n      <td>1.334385</td>\n      <td>0.307588</td>\n      <td>0.128414</td>\n      <td>-0.872563</td>\n      <td>...</td>\n      <td>-0.309105</td>\n      <td>-0.352535</td>\n      <td>-0.155074</td>\n      <td>-0.077145</td>\n      <td>0.447030</td>\n      <td>0.439881</td>\n      <td>0.554528</td>\n      <td>0.569030</td>\n      <td>0.154905</td>\n      <td>0.294799</td>\n    </tr>\n    <tr>\n      <th>2</th>\n      <td>b0004</td>\n      <td>thrC</td>\n      <td>Amino acid transport and metabolism</td>\n      <td>-0.065095</td>\n      <td>0.065095</td>\n      <td>-0.202697</td>\n      <td>0.119195</td>\n      <td>-0.264995</td>\n      <td>-0.546017</td>\n      <td>-1.918349</td>\n      <td>...</td>\n      <td>-0.184898</td>\n      <td>-0.225615</td>\n      <td>0.019575</td>\n      <td>0.063986</td>\n      <td>0.483343</td>\n      <td>0.452754</td>\n      <td>0.524828</td>\n      <td>0.581878</td>\n      <td>0.293239</td>\n      <td>0.341040</td>\n    </tr>\n    <tr>\n      <th>3</th>\n      <td>b0005</td>\n      <td>yaaX</td>\n      <td>Function unknown</td>\n      <td>0.028802</td>\n      <td>-0.028802</td>\n      <td>-0.865171</td>\n      <td>-0.951179</td>\n      <td>0.428769</td>\n      <td>0.123564</td>\n      <td>-1.660351</td>\n      <td>...</td>\n      <td>-0.308221</td>\n      <td>-0.581714</td>\n      <td>0.018820</td>\n      <td>0.004040</td>\n      <td>-1.228763</td>\n      <td>-1.451750</td>\n      <td>-0.839203</td>\n      <td>-0.529349</td>\n      <td>-0.413336</td>\n      <td>-0.478682</td>\n    </tr>\n    <tr>\n      <th>4</th>\n      <td>b0006</td>\n      <td>yaaA</td>\n      <td>Function unknown</td>\n      <td>0.009087</td>\n      <td>-0.009087</td>\n      <td>-0.131039</td>\n      <td>-0.124079</td>\n      <td>-0.144870</td>\n      <td>-0.090152</td>\n      <td>-0.219917</td>\n      <td>...</td>\n      <td>1.464603</td>\n      <td>1.415706</td>\n      <td>1.230831</td>\n      <td>1.165153</td>\n      <td>0.447447</td>\n      <td>0.458852</td>\n      <td>0.421417</td>\n      <td>0.408077</td>\n      <td>1.151066</td>\n      <td>1.198529</td>\n    </tr>\n  </tbody>\n</table>\n<p>5 rows × 281 columns</p>\n</div>"
     },
     "execution_count": 118,
     "metadata": {},
     "output_type": "execute_result"
    }
   ],
   "source": [
    "merged_set = all_b.merge(log_tpm, left_on=\"ecoli_b_id\", right_on=\"ecoli_b_id\", how = \"inner\")\n",
    "\n",
    "merged_set = merged_set.drop(columns = [\"start\", \"stop\", \"strand\", \"operon\", \"length\"])\n",
    "\n",
    "merged_set.shape\n",
    "merged_set.head()"
   ],
   "metadata": {
    "collapsed": false,
    "ExecuteTime": {
     "end_time": "2024-03-28T12:12:48.398024Z",
     "start_time": "2024-03-28T12:12:48.351171Z"
    }
   },
   "id": "8461be319c061ea4",
   "execution_count": 118
  },
  {
   "cell_type": "code",
   "outputs": [
    {
     "data": {
      "text/plain": "Empty DataFrame\nColumns: [ecoli_b_id, gene_name, cog, control__wt_glc__1, control__wt_glc__2, fur__wt_dpd__1, fur__wt_dpd__2, fur__wt_fe__1, fur__wt_fe__2, fur__delfur_dpd__1, fur__delfur_dpd__2, fur__delfur_fe2__1, fur__delfur_fe2__2, acid__wt_ph5__1, acid__wt_ph5__2, acid__delgadx_ph5__1, acid__delgadx_ph5__2, acid__delgadw_ph5__1, acid__delgadw_ph5__2, acid__delgade_ph5__1, acid__delgade_ph5__2, oxidative__wt_pq__1, oxidative__wt_pq__2, oxidative__deloxyr_pq__1, oxidative__deloxyr_pq__2, oxidative__delsoxr_pq__1, oxidative__delsoxr_pq__2, oxidative__delsoxs_pq__1, oxidative__delsoxs_pq__2, nac_ntrc__wt_csn__1, nac_ntrc__wt_csn__2, nac_ntrc__wt_cytd__1, nac_ntrc__wt_cytd__2, nac_ntrc__wt_gln__1, nac_ntrc__wt_gln__2, nac_ntrc__bw_delnac_csn__1, nac_ntrc__bw_delnac_csn__2, nac_ntrc__bw_delnac_cytd__1, nac_ntrc__bw_delnac_cytd__2, nac_ntrc__bw_delnac_gln__1, nac_ntrc__bw_delnac_gln__2, nac_ntrc__bw_delnac_nh4__1, nac_ntrc__bw_delnac_nh4__2, misc__wt_no_te__1, misc__wt_no_te__2, misc__bw_delcbl__1, misc__bw_delcbl__2, misc__bw_delfabr__1, misc__bw_delfabr__2, misc__bw_delfadr__1, misc__bw_delfadr__2, misc__nitr_031__1, omics__wt_glu__1, omics__wt_glu__2, omics__wt_gly__1, omics__wt_gly__2, omics__wt_thr__1, omics__wt_thr__2, omics__bw_ac__1, omics__bw_ac__2, omics__bw_fum__1, omics__bw_fum__2, omics__bw_glc__1, omics__bw_glc__2, omics__bw_pyr__1, omics__bw_pyr__2, ompr__wt_nacl__1, ompr__wt_nacl__2, ompr__bw_delompr_nacl__1, ompr__bw_delompr_nacl__2, minspan__wt_ade__1, minspan__wt_glc__1, minspan__wt_glc__2, minspan__wt_glc__3, minspan__wt_glc__4, minspan__wt_glc_anaero__1, minspan__wt_glc_anaero__2, minspan__wt_trp__1, minspan__bw_delcra_glc__1, minspan__bw_delcra_glc__2, minspan__bw_delcra_trp__1, minspan__bw_delmntr__1, minspan__bw_delnac_ade__1, minspan__bw_delnac_glc__1, cra_crp__wt_ac__1, cra_crp__wt_ac__2, cra_crp__wt_fru__1, cra_crp__wt_fru__2, cra_crp__delcra_ac__1, cra_crp__delcra_ac__2, cra_crp__delcra_fru__1, cra_crp__delcra_fru__2, cra_crp__delcra_glc__1, cra_crp__delcra_glc__2, rpoB__wt_031__1, rpoB__wt_044__1, rpoB__wt_lb__1, rpoB__wt_lb__2, rpoB__rpoBE546V_031__1, rpoB__rpoBE546V_044__1, ...]\nIndex: []\n\n[0 rows x 281 columns]",
      "text/html": "<div>\n<style scoped>\n    .dataframe tbody tr th:only-of-type {\n        vertical-align: middle;\n    }\n\n    .dataframe tbody tr th {\n        vertical-align: top;\n    }\n\n    .dataframe thead th {\n        text-align: right;\n    }\n</style>\n<table border=\"1\" class=\"dataframe\">\n  <thead>\n    <tr style=\"text-align: right;\">\n      <th></th>\n      <th>ecoli_b_id</th>\n      <th>gene_name</th>\n      <th>cog</th>\n      <th>control__wt_glc__1</th>\n      <th>control__wt_glc__2</th>\n      <th>fur__wt_dpd__1</th>\n      <th>fur__wt_dpd__2</th>\n      <th>fur__wt_fe__1</th>\n      <th>fur__wt_fe__2</th>\n      <th>fur__delfur_dpd__1</th>\n      <th>...</th>\n      <th>efeU__menFentC_ale29__1</th>\n      <th>efeU__menFentC_ale29__2</th>\n      <th>efeU__menFentC_ale30__1</th>\n      <th>efeU__menFentC_ale30__2</th>\n      <th>efeU__menFentCubiC_ale36__1</th>\n      <th>efeU__menFentCubiC_ale36__2</th>\n      <th>efeU__menFentCubiC_ale37__1</th>\n      <th>efeU__menFentCubiC_ale37__2</th>\n      <th>efeU__menFentCubiC_ale38__1</th>\n      <th>efeU__menFentCubiC_ale38__2</th>\n    </tr>\n  </thead>\n  <tbody>\n  </tbody>\n</table>\n<p>0 rows × 281 columns</p>\n</div>"
     },
     "execution_count": 119,
     "metadata": {},
     "output_type": "execute_result"
    },
    {
     "data": {
      "text/plain": "     ecoli_b_id gene_name                                    cog  \\\n230       b0264     insB1  Replication, recombination and repair   \n231       b0265      insA  Replication, recombination and repair   \n242       b0274     insB1  Replication, recombination and repair   \n243       b0275      insA  Replication, recombination and repair   \n478       b0552     insH1  Replication, recombination and repair   \n503       b0582     insL1  Replication, recombination and repair   \n570       b0656     insH1  Replication, recombination and repair   \n908       b1026     insF1  Replication, recombination and repair   \n909       b1027     insE1  Replication, recombination and repair   \n1205      b1370     insH1  Replication, recombination and repair   \n1680      b1893     insB1  Replication, recombination and repair   \n1681      b1894      insA  Replication, recombination and repair   \n1767      b1994     insH1  Replication, recombination and repair   \n1771      b1996     insD1  Replication, recombination and repair   \n1772      b1997     insC1  Replication, recombination and repair   \n1802      b2030     insH1  Replication, recombination and repair   \n1951      b2192     insH1  Replication, recombination and repair   \n2131      b2394     insL1  Replication, recombination and repair   \n2528      b2860     insD1  Replication, recombination and repair   \n2529      b2861     insC1  Replication, recombination and repair   \n2846      b3218     insH1  Replication, recombination and repair   \n3106      b3505     insH1  Replication, recombination and repair   \n3817      b4294      insA  Replication, recombination and repair   \n3818      b4576     insB1                      No COG Annotation   \n\n      control__wt_glc__1  control__wt_glc__2  fur__wt_dpd__1  fur__wt_dpd__2  \\\n230            -0.012207            0.012207        0.624308        0.415393   \n231             0.174367           -0.174367       -0.324887       -1.295148   \n242             0.217538           -0.217538       -0.345706        0.080128   \n243             0.055421           -0.055421       -1.131781       -0.941820   \n478            -0.029080            0.029080       -0.527794       -0.673463   \n503            -0.118580            0.118580       -0.341512       -0.403450   \n570             0.009639           -0.009639       -0.513199       -0.629071   \n908            -0.000854            0.000854        1.022330        0.975201   \n909             0.297604           -0.297604       -0.026148       -0.434140   \n1205            0.131807           -0.131807       -0.045574       -0.184672   \n1680            0.146829           -0.146829       -0.764339       -0.561659   \n1681            0.400721           -0.400721        0.141681        0.310454   \n1767           -0.042837            0.042837       -0.539549       -0.604129   \n1771           -0.086596            0.086596        0.956368        1.115831   \n1772            0.132955           -0.132955        0.817080        0.916589   \n1802           -0.015871            0.015871       -0.519646       -0.616089   \n1951           -0.014541            0.014541       -0.643171       -0.766376   \n2131           -0.142108            0.142108       -0.304912       -0.391611   \n2528           -0.171849            0.171849        1.009644        1.143279   \n2529            0.235082           -0.235082        1.087806        1.117890   \n2846           -0.016344            0.016344       -0.500286       -0.613928   \n3106           -0.008713            0.008713       -0.657240       -0.698583   \n3817            0.491042           -0.491042       -0.391047       -0.057736   \n3818            0.146829           -0.146829        0.951170        0.710741   \n\n      fur__wt_fe__1  fur__wt_fe__2  fur__delfur_dpd__1  ...  \\\n230        0.605557       0.018881            0.201014  ...   \n231        0.750675       1.126753           -1.181864  ...   \n242       -0.047174       0.090841           -0.291385  ...   \n243        1.005171       0.710436           -0.371245  ...   \n478       -0.220092      -0.043116           -0.586582  ...   \n503       -0.328536      -0.356837           -0.412197  ...   \n570       -0.206087      -0.125440           -0.496245  ...   \n908       -0.086978       0.001215            0.699258  ...   \n909       -0.222545      -0.434072            0.136984  ...   \n1205      -0.305108      -0.243073           -0.106046  ...   \n1680       0.099558       0.278270            0.005527  ...   \n1681       1.407157       0.917840            0.126659  ...   \n1767      -0.272896      -0.165207           -0.573244  ...   \n1771      -0.207957      -0.324248            1.059945  ...   \n1772       0.130930       0.227032            0.944118  ...   \n1802      -0.158515      -0.011367           -0.516339  ...   \n1951      -0.282633      -0.191235           -0.539590  ...   \n2131      -0.528350      -0.486842           -0.344784  ...   \n2528      -0.235453      -0.129978            1.040602  ...   \n2529       0.175715       0.314201            1.020840  ...   \n2846      -0.182912      -0.038838           -0.462054  ...   \n3106      -0.223027      -0.202145           -0.584397  ...   \n3817       0.434000       1.088508           -0.193946  ...   \n3818      -0.101579       0.372095            1.037353  ...   \n\n      efeU__menFentC_ale29__1  efeU__menFentC_ale29__2  \\\n230                  2.534513                 2.421858   \n231                  1.034033                 1.341213   \n242                  1.823762                 1.588041   \n243                  0.713764                 0.687403   \n478                 -0.542512                -0.455349   \n503                 -1.242688                -1.338096   \n570                 -0.766889                -0.605106   \n908                  0.240986                 0.279732   \n909                 -1.109458                -0.660190   \n1205                -2.233046                -2.492751   \n1680                 1.309848                 1.210392   \n1681                 0.570707                 0.959020   \n1767                -0.929818                -0.991257   \n1771                -0.240966                 0.092673   \n1772                -0.281890                -0.031544   \n1802                -0.428280                -0.442889   \n1951                -0.485313                -0.531432   \n2131                -1.532144                -1.470380   \n2528                -0.045112                 0.128461   \n2529                 0.069895                 0.236499   \n2846                -0.429849                -0.486029   \n3106                -0.664709                -0.588317   \n3817                 0.717359                 0.974006   \n3818                 1.512584                 1.771774   \n\n      efeU__menFentC_ale30__1  efeU__menFentC_ale30__2  \\\n230                  1.575790                 2.175288   \n231                  0.256719                 0.730456   \n242                  0.174854                 1.005736   \n243                  0.361615                -0.310754   \n478                 -0.118050                 0.069432   \n503                 -0.067418                 0.176062   \n570                 -0.008141                -0.316782   \n908                 -0.010600                -0.195092   \n909                 -1.580072                -1.389604   \n1205                -2.346458                -2.268430   \n1680                 0.714581                 0.557061   \n1681                 0.725375                -0.909946   \n1767                -0.333852                -0.441577   \n1771                -0.200218                -0.375747   \n1772                -0.385140                -0.564303   \n1802                -0.206342                -0.089542   \n1951                -0.048776                -0.178800   \n2131                -0.035375                -0.028020   \n2528                -0.124840                -0.085113   \n2529                -0.377470                -0.383940   \n2846                 0.059676                -0.179834   \n3106                -0.211879                -0.189139   \n3817                 0.264002                -1.364549   \n3818                 1.229025                 1.109808   \n\n      efeU__menFentCubiC_ale36__1  efeU__menFentCubiC_ale36__2  \\\n230                      1.774035                     1.527110   \n231                      0.756149                     0.039506   \n242                      0.749411                     0.816359   \n243                     -0.375342                     0.035306   \n478                     -0.626023                    -0.651317   \n503                     -0.164555                    -0.139362   \n570                     -0.459187                    -0.481320   \n908                      0.352005                    -0.053211   \n909                     -1.022688                    -0.622873   \n1205                    -1.708197                    -2.037731   \n1680                     0.356292                     0.388211   \n1681                    -0.062583                    -0.639491   \n1767                    -0.805153                    -1.002708   \n1771                    -0.175724                    -0.170272   \n1772                    -1.004250                    -0.216067   \n1802                    -0.686995                    -0.579032   \n1951                    -0.628458                    -0.669447   \n2131                    -0.359409                    -0.320301   \n2528                    -0.292982                    -0.365567   \n2529                    -0.374886                     0.058541   \n2846                    -0.621907                    -0.497214   \n3106                    -0.568414                    -0.666679   \n3817                    -0.400349                    -0.538304   \n3818                     0.789194                     0.250289   \n\n      efeU__menFentCubiC_ale37__1  efeU__menFentCubiC_ale37__2  \\\n230                      1.142892                     1.141086   \n231                      0.448190                    -0.353913   \n242                      0.432141                    -0.114760   \n243                      0.051925                    -0.472860   \n478                     -0.790532                    -0.612025   \n503                     -0.156917                    -0.230966   \n570                     -0.682935                    -0.900738   \n908                      0.225758                     0.333252   \n909                     -0.170866                    -0.659745   \n1205                    -1.596469                    -1.703418   \n1680                    -0.812333                     0.378785   \n1681                    -1.107663                     0.399863   \n1767                    -0.804592                    -0.929015   \n1771                    -0.237995                    -0.173895   \n1772                     0.070056                     0.181354   \n1802                    -0.734921                    -0.526121   \n1951                    -0.562043                    -0.657094   \n2131                    -0.356148                    -0.209009   \n2528                    -0.326242                     0.080983   \n2529                    -0.020588                     0.102310   \n2846                    -0.507320                    -0.691301   \n3106                    -0.742894                    -0.660664   \n3817                     0.290608                     0.023469   \n3818                     1.301928                     1.409366   \n\n      efeU__menFentCubiC_ale38__1  efeU__menFentCubiC_ale38__2  \n230                      1.187355                     0.827370  \n231                      0.299981                     0.104255  \n242                      0.831929                     0.797489  \n243                      0.450836                    -0.014692  \n478                     -0.613841                    -0.748998  \n503                     -0.414980                    -0.254871  \n570                     -0.625334                    -0.843079  \n908                     -0.010345                     0.115952  \n909                     -0.334862                    -0.568002  \n1205                    -1.907348                    -1.808282  \n1680                    -0.223966                    -0.187283  \n1681                    -0.015564                     0.188472  \n1767                    -0.790783                    -1.268356  \n1771                     0.329413                     0.171859  \n1772                     0.057269                     0.475754  \n1802                    -0.733235                    -0.744082  \n1951                    -0.805477                    -0.777411  \n2131                    -0.514217                    -0.476833  \n2528                     0.168353                     0.226487  \n2529                     0.782639                     0.280411  \n2846                    -0.522609                    -0.691382  \n3106                    -0.429007                    -0.882098  \n3817                    -0.348834                     0.029920  \n3818                     0.047873                     0.770192  \n\n[24 rows x 281 columns]",
      "text/html": "<div>\n<style scoped>\n    .dataframe tbody tr th:only-of-type {\n        vertical-align: middle;\n    }\n\n    .dataframe tbody tr th {\n        vertical-align: top;\n    }\n\n    .dataframe thead th {\n        text-align: right;\n    }\n</style>\n<table border=\"1\" class=\"dataframe\">\n  <thead>\n    <tr style=\"text-align: right;\">\n      <th></th>\n      <th>ecoli_b_id</th>\n      <th>gene_name</th>\n      <th>cog</th>\n      <th>control__wt_glc__1</th>\n      <th>control__wt_glc__2</th>\n      <th>fur__wt_dpd__1</th>\n      <th>fur__wt_dpd__2</th>\n      <th>fur__wt_fe__1</th>\n      <th>fur__wt_fe__2</th>\n      <th>fur__delfur_dpd__1</th>\n      <th>...</th>\n      <th>efeU__menFentC_ale29__1</th>\n      <th>efeU__menFentC_ale29__2</th>\n      <th>efeU__menFentC_ale30__1</th>\n      <th>efeU__menFentC_ale30__2</th>\n      <th>efeU__menFentCubiC_ale36__1</th>\n      <th>efeU__menFentCubiC_ale36__2</th>\n      <th>efeU__menFentCubiC_ale37__1</th>\n      <th>efeU__menFentCubiC_ale37__2</th>\n      <th>efeU__menFentCubiC_ale38__1</th>\n      <th>efeU__menFentCubiC_ale38__2</th>\n    </tr>\n  </thead>\n  <tbody>\n    <tr>\n      <th>230</th>\n      <td>b0264</td>\n      <td>insB1</td>\n      <td>Replication, recombination and repair</td>\n      <td>-0.012207</td>\n      <td>0.012207</td>\n      <td>0.624308</td>\n      <td>0.415393</td>\n      <td>0.605557</td>\n      <td>0.018881</td>\n      <td>0.201014</td>\n      <td>...</td>\n      <td>2.534513</td>\n      <td>2.421858</td>\n      <td>1.575790</td>\n      <td>2.175288</td>\n      <td>1.774035</td>\n      <td>1.527110</td>\n      <td>1.142892</td>\n      <td>1.141086</td>\n      <td>1.187355</td>\n      <td>0.827370</td>\n    </tr>\n    <tr>\n      <th>231</th>\n      <td>b0265</td>\n      <td>insA</td>\n      <td>Replication, recombination and repair</td>\n      <td>0.174367</td>\n      <td>-0.174367</td>\n      <td>-0.324887</td>\n      <td>-1.295148</td>\n      <td>0.750675</td>\n      <td>1.126753</td>\n      <td>-1.181864</td>\n      <td>...</td>\n      <td>1.034033</td>\n      <td>1.341213</td>\n      <td>0.256719</td>\n      <td>0.730456</td>\n      <td>0.756149</td>\n      <td>0.039506</td>\n      <td>0.448190</td>\n      <td>-0.353913</td>\n      <td>0.299981</td>\n      <td>0.104255</td>\n    </tr>\n    <tr>\n      <th>242</th>\n      <td>b0274</td>\n      <td>insB1</td>\n      <td>Replication, recombination and repair</td>\n      <td>0.217538</td>\n      <td>-0.217538</td>\n      <td>-0.345706</td>\n      <td>0.080128</td>\n      <td>-0.047174</td>\n      <td>0.090841</td>\n      <td>-0.291385</td>\n      <td>...</td>\n      <td>1.823762</td>\n      <td>1.588041</td>\n      <td>0.174854</td>\n      <td>1.005736</td>\n      <td>0.749411</td>\n      <td>0.816359</td>\n      <td>0.432141</td>\n      <td>-0.114760</td>\n      <td>0.831929</td>\n      <td>0.797489</td>\n    </tr>\n    <tr>\n      <th>243</th>\n      <td>b0275</td>\n      <td>insA</td>\n      <td>Replication, recombination and repair</td>\n      <td>0.055421</td>\n      <td>-0.055421</td>\n      <td>-1.131781</td>\n      <td>-0.941820</td>\n      <td>1.005171</td>\n      <td>0.710436</td>\n      <td>-0.371245</td>\n      <td>...</td>\n      <td>0.713764</td>\n      <td>0.687403</td>\n      <td>0.361615</td>\n      <td>-0.310754</td>\n      <td>-0.375342</td>\n      <td>0.035306</td>\n      <td>0.051925</td>\n      <td>-0.472860</td>\n      <td>0.450836</td>\n      <td>-0.014692</td>\n    </tr>\n    <tr>\n      <th>478</th>\n      <td>b0552</td>\n      <td>insH1</td>\n      <td>Replication, recombination and repair</td>\n      <td>-0.029080</td>\n      <td>0.029080</td>\n      <td>-0.527794</td>\n      <td>-0.673463</td>\n      <td>-0.220092</td>\n      <td>-0.043116</td>\n      <td>-0.586582</td>\n      <td>...</td>\n      <td>-0.542512</td>\n      <td>-0.455349</td>\n      <td>-0.118050</td>\n      <td>0.069432</td>\n      <td>-0.626023</td>\n      <td>-0.651317</td>\n      <td>-0.790532</td>\n      <td>-0.612025</td>\n      <td>-0.613841</td>\n      <td>-0.748998</td>\n    </tr>\n    <tr>\n      <th>503</th>\n      <td>b0582</td>\n      <td>insL1</td>\n      <td>Replication, recombination and repair</td>\n      <td>-0.118580</td>\n      <td>0.118580</td>\n      <td>-0.341512</td>\n      <td>-0.403450</td>\n      <td>-0.328536</td>\n      <td>-0.356837</td>\n      <td>-0.412197</td>\n      <td>...</td>\n      <td>-1.242688</td>\n      <td>-1.338096</td>\n      <td>-0.067418</td>\n      <td>0.176062</td>\n      <td>-0.164555</td>\n      <td>-0.139362</td>\n      <td>-0.156917</td>\n      <td>-0.230966</td>\n      <td>-0.414980</td>\n      <td>-0.254871</td>\n    </tr>\n    <tr>\n      <th>570</th>\n      <td>b0656</td>\n      <td>insH1</td>\n      <td>Replication, recombination and repair</td>\n      <td>0.009639</td>\n      <td>-0.009639</td>\n      <td>-0.513199</td>\n      <td>-0.629071</td>\n      <td>-0.206087</td>\n      <td>-0.125440</td>\n      <td>-0.496245</td>\n      <td>...</td>\n      <td>-0.766889</td>\n      <td>-0.605106</td>\n      <td>-0.008141</td>\n      <td>-0.316782</td>\n      <td>-0.459187</td>\n      <td>-0.481320</td>\n      <td>-0.682935</td>\n      <td>-0.900738</td>\n      <td>-0.625334</td>\n      <td>-0.843079</td>\n    </tr>\n    <tr>\n      <th>908</th>\n      <td>b1026</td>\n      <td>insF1</td>\n      <td>Replication, recombination and repair</td>\n      <td>-0.000854</td>\n      <td>0.000854</td>\n      <td>1.022330</td>\n      <td>0.975201</td>\n      <td>-0.086978</td>\n      <td>0.001215</td>\n      <td>0.699258</td>\n      <td>...</td>\n      <td>0.240986</td>\n      <td>0.279732</td>\n      <td>-0.010600</td>\n      <td>-0.195092</td>\n      <td>0.352005</td>\n      <td>-0.053211</td>\n      <td>0.225758</td>\n      <td>0.333252</td>\n      <td>-0.010345</td>\n      <td>0.115952</td>\n    </tr>\n    <tr>\n      <th>909</th>\n      <td>b1027</td>\n      <td>insE1</td>\n      <td>Replication, recombination and repair</td>\n      <td>0.297604</td>\n      <td>-0.297604</td>\n      <td>-0.026148</td>\n      <td>-0.434140</td>\n      <td>-0.222545</td>\n      <td>-0.434072</td>\n      <td>0.136984</td>\n      <td>...</td>\n      <td>-1.109458</td>\n      <td>-0.660190</td>\n      <td>-1.580072</td>\n      <td>-1.389604</td>\n      <td>-1.022688</td>\n      <td>-0.622873</td>\n      <td>-0.170866</td>\n      <td>-0.659745</td>\n      <td>-0.334862</td>\n      <td>-0.568002</td>\n    </tr>\n    <tr>\n      <th>1205</th>\n      <td>b1370</td>\n      <td>insH1</td>\n      <td>Replication, recombination and repair</td>\n      <td>0.131807</td>\n      <td>-0.131807</td>\n      <td>-0.045574</td>\n      <td>-0.184672</td>\n      <td>-0.305108</td>\n      <td>-0.243073</td>\n      <td>-0.106046</td>\n      <td>...</td>\n      <td>-2.233046</td>\n      <td>-2.492751</td>\n      <td>-2.346458</td>\n      <td>-2.268430</td>\n      <td>-1.708197</td>\n      <td>-2.037731</td>\n      <td>-1.596469</td>\n      <td>-1.703418</td>\n      <td>-1.907348</td>\n      <td>-1.808282</td>\n    </tr>\n    <tr>\n      <th>1680</th>\n      <td>b1893</td>\n      <td>insB1</td>\n      <td>Replication, recombination and repair</td>\n      <td>0.146829</td>\n      <td>-0.146829</td>\n      <td>-0.764339</td>\n      <td>-0.561659</td>\n      <td>0.099558</td>\n      <td>0.278270</td>\n      <td>0.005527</td>\n      <td>...</td>\n      <td>1.309848</td>\n      <td>1.210392</td>\n      <td>0.714581</td>\n      <td>0.557061</td>\n      <td>0.356292</td>\n      <td>0.388211</td>\n      <td>-0.812333</td>\n      <td>0.378785</td>\n      <td>-0.223966</td>\n      <td>-0.187283</td>\n    </tr>\n    <tr>\n      <th>1681</th>\n      <td>b1894</td>\n      <td>insA</td>\n      <td>Replication, recombination and repair</td>\n      <td>0.400721</td>\n      <td>-0.400721</td>\n      <td>0.141681</td>\n      <td>0.310454</td>\n      <td>1.407157</td>\n      <td>0.917840</td>\n      <td>0.126659</td>\n      <td>...</td>\n      <td>0.570707</td>\n      <td>0.959020</td>\n      <td>0.725375</td>\n      <td>-0.909946</td>\n      <td>-0.062583</td>\n      <td>-0.639491</td>\n      <td>-1.107663</td>\n      <td>0.399863</td>\n      <td>-0.015564</td>\n      <td>0.188472</td>\n    </tr>\n    <tr>\n      <th>1767</th>\n      <td>b1994</td>\n      <td>insH1</td>\n      <td>Replication, recombination and repair</td>\n      <td>-0.042837</td>\n      <td>0.042837</td>\n      <td>-0.539549</td>\n      <td>-0.604129</td>\n      <td>-0.272896</td>\n      <td>-0.165207</td>\n      <td>-0.573244</td>\n      <td>...</td>\n      <td>-0.929818</td>\n      <td>-0.991257</td>\n      <td>-0.333852</td>\n      <td>-0.441577</td>\n      <td>-0.805153</td>\n      <td>-1.002708</td>\n      <td>-0.804592</td>\n      <td>-0.929015</td>\n      <td>-0.790783</td>\n      <td>-1.268356</td>\n    </tr>\n    <tr>\n      <th>1771</th>\n      <td>b1996</td>\n      <td>insD1</td>\n      <td>Replication, recombination and repair</td>\n      <td>-0.086596</td>\n      <td>0.086596</td>\n      <td>0.956368</td>\n      <td>1.115831</td>\n      <td>-0.207957</td>\n      <td>-0.324248</td>\n      <td>1.059945</td>\n      <td>...</td>\n      <td>-0.240966</td>\n      <td>0.092673</td>\n      <td>-0.200218</td>\n      <td>-0.375747</td>\n      <td>-0.175724</td>\n      <td>-0.170272</td>\n      <td>-0.237995</td>\n      <td>-0.173895</td>\n      <td>0.329413</td>\n      <td>0.171859</td>\n    </tr>\n    <tr>\n      <th>1772</th>\n      <td>b1997</td>\n      <td>insC1</td>\n      <td>Replication, recombination and repair</td>\n      <td>0.132955</td>\n      <td>-0.132955</td>\n      <td>0.817080</td>\n      <td>0.916589</td>\n      <td>0.130930</td>\n      <td>0.227032</td>\n      <td>0.944118</td>\n      <td>...</td>\n      <td>-0.281890</td>\n      <td>-0.031544</td>\n      <td>-0.385140</td>\n      <td>-0.564303</td>\n      <td>-1.004250</td>\n      <td>-0.216067</td>\n      <td>0.070056</td>\n      <td>0.181354</td>\n      <td>0.057269</td>\n      <td>0.475754</td>\n    </tr>\n    <tr>\n      <th>1802</th>\n      <td>b2030</td>\n      <td>insH1</td>\n      <td>Replication, recombination and repair</td>\n      <td>-0.015871</td>\n      <td>0.015871</td>\n      <td>-0.519646</td>\n      <td>-0.616089</td>\n      <td>-0.158515</td>\n      <td>-0.011367</td>\n      <td>-0.516339</td>\n      <td>...</td>\n      <td>-0.428280</td>\n      <td>-0.442889</td>\n      <td>-0.206342</td>\n      <td>-0.089542</td>\n      <td>-0.686995</td>\n      <td>-0.579032</td>\n      <td>-0.734921</td>\n      <td>-0.526121</td>\n      <td>-0.733235</td>\n      <td>-0.744082</td>\n    </tr>\n    <tr>\n      <th>1951</th>\n      <td>b2192</td>\n      <td>insH1</td>\n      <td>Replication, recombination and repair</td>\n      <td>-0.014541</td>\n      <td>0.014541</td>\n      <td>-0.643171</td>\n      <td>-0.766376</td>\n      <td>-0.282633</td>\n      <td>-0.191235</td>\n      <td>-0.539590</td>\n      <td>...</td>\n      <td>-0.485313</td>\n      <td>-0.531432</td>\n      <td>-0.048776</td>\n      <td>-0.178800</td>\n      <td>-0.628458</td>\n      <td>-0.669447</td>\n      <td>-0.562043</td>\n      <td>-0.657094</td>\n      <td>-0.805477</td>\n      <td>-0.777411</td>\n    </tr>\n    <tr>\n      <th>2131</th>\n      <td>b2394</td>\n      <td>insL1</td>\n      <td>Replication, recombination and repair</td>\n      <td>-0.142108</td>\n      <td>0.142108</td>\n      <td>-0.304912</td>\n      <td>-0.391611</td>\n      <td>-0.528350</td>\n      <td>-0.486842</td>\n      <td>-0.344784</td>\n      <td>...</td>\n      <td>-1.532144</td>\n      <td>-1.470380</td>\n      <td>-0.035375</td>\n      <td>-0.028020</td>\n      <td>-0.359409</td>\n      <td>-0.320301</td>\n      <td>-0.356148</td>\n      <td>-0.209009</td>\n      <td>-0.514217</td>\n      <td>-0.476833</td>\n    </tr>\n    <tr>\n      <th>2528</th>\n      <td>b2860</td>\n      <td>insD1</td>\n      <td>Replication, recombination and repair</td>\n      <td>-0.171849</td>\n      <td>0.171849</td>\n      <td>1.009644</td>\n      <td>1.143279</td>\n      <td>-0.235453</td>\n      <td>-0.129978</td>\n      <td>1.040602</td>\n      <td>...</td>\n      <td>-0.045112</td>\n      <td>0.128461</td>\n      <td>-0.124840</td>\n      <td>-0.085113</td>\n      <td>-0.292982</td>\n      <td>-0.365567</td>\n      <td>-0.326242</td>\n      <td>0.080983</td>\n      <td>0.168353</td>\n      <td>0.226487</td>\n    </tr>\n    <tr>\n      <th>2529</th>\n      <td>b2861</td>\n      <td>insC1</td>\n      <td>Replication, recombination and repair</td>\n      <td>0.235082</td>\n      <td>-0.235082</td>\n      <td>1.087806</td>\n      <td>1.117890</td>\n      <td>0.175715</td>\n      <td>0.314201</td>\n      <td>1.020840</td>\n      <td>...</td>\n      <td>0.069895</td>\n      <td>0.236499</td>\n      <td>-0.377470</td>\n      <td>-0.383940</td>\n      <td>-0.374886</td>\n      <td>0.058541</td>\n      <td>-0.020588</td>\n      <td>0.102310</td>\n      <td>0.782639</td>\n      <td>0.280411</td>\n    </tr>\n    <tr>\n      <th>2846</th>\n      <td>b3218</td>\n      <td>insH1</td>\n      <td>Replication, recombination and repair</td>\n      <td>-0.016344</td>\n      <td>0.016344</td>\n      <td>-0.500286</td>\n      <td>-0.613928</td>\n      <td>-0.182912</td>\n      <td>-0.038838</td>\n      <td>-0.462054</td>\n      <td>...</td>\n      <td>-0.429849</td>\n      <td>-0.486029</td>\n      <td>0.059676</td>\n      <td>-0.179834</td>\n      <td>-0.621907</td>\n      <td>-0.497214</td>\n      <td>-0.507320</td>\n      <td>-0.691301</td>\n      <td>-0.522609</td>\n      <td>-0.691382</td>\n    </tr>\n    <tr>\n      <th>3106</th>\n      <td>b3505</td>\n      <td>insH1</td>\n      <td>Replication, recombination and repair</td>\n      <td>-0.008713</td>\n      <td>0.008713</td>\n      <td>-0.657240</td>\n      <td>-0.698583</td>\n      <td>-0.223027</td>\n      <td>-0.202145</td>\n      <td>-0.584397</td>\n      <td>...</td>\n      <td>-0.664709</td>\n      <td>-0.588317</td>\n      <td>-0.211879</td>\n      <td>-0.189139</td>\n      <td>-0.568414</td>\n      <td>-0.666679</td>\n      <td>-0.742894</td>\n      <td>-0.660664</td>\n      <td>-0.429007</td>\n      <td>-0.882098</td>\n    </tr>\n    <tr>\n      <th>3817</th>\n      <td>b4294</td>\n      <td>insA</td>\n      <td>Replication, recombination and repair</td>\n      <td>0.491042</td>\n      <td>-0.491042</td>\n      <td>-0.391047</td>\n      <td>-0.057736</td>\n      <td>0.434000</td>\n      <td>1.088508</td>\n      <td>-0.193946</td>\n      <td>...</td>\n      <td>0.717359</td>\n      <td>0.974006</td>\n      <td>0.264002</td>\n      <td>-1.364549</td>\n      <td>-0.400349</td>\n      <td>-0.538304</td>\n      <td>0.290608</td>\n      <td>0.023469</td>\n      <td>-0.348834</td>\n      <td>0.029920</td>\n    </tr>\n    <tr>\n      <th>3818</th>\n      <td>b4576</td>\n      <td>insB1</td>\n      <td>No COG Annotation</td>\n      <td>0.146829</td>\n      <td>-0.146829</td>\n      <td>0.951170</td>\n      <td>0.710741</td>\n      <td>-0.101579</td>\n      <td>0.372095</td>\n      <td>1.037353</td>\n      <td>...</td>\n      <td>1.512584</td>\n      <td>1.771774</td>\n      <td>1.229025</td>\n      <td>1.109808</td>\n      <td>0.789194</td>\n      <td>0.250289</td>\n      <td>1.301928</td>\n      <td>1.409366</td>\n      <td>0.047873</td>\n      <td>0.770192</td>\n    </tr>\n  </tbody>\n</table>\n<p>24 rows × 281 columns</p>\n</div>"
     },
     "execution_count": 119,
     "metadata": {},
     "output_type": "execute_result"
    }
   ],
   "source": [
    "# checking for duplicates:\n",
    "dup1 = merged_set[merged_set['ecoli_b_id'].duplicated()]\n",
    "dup2 = merged_set[merged_set['gene_name'].duplicated()]\n",
    "\n",
    "dup1 # empty\n",
    "dup2 # 24 duplicates, all for \"ins...\" genes"
   ],
   "metadata": {
    "collapsed": false,
    "ExecuteTime": {
     "end_time": "2024-03-28T12:12:48.442340Z",
     "start_time": "2024-03-28T12:12:48.400026Z"
    }
   },
   "id": "3fdcc8ba1ac97d6",
   "execution_count": 119
  },
  {
   "cell_type": "markdown",
   "source": [
    "## Data import from RegulonDB:\n",
    "Regulatory interactions between a Transcription Factor and its regulated entity - promoter, gene, or Transcriptional Units (subset of RISet).\n",
    "\n",
    "`TF-RIset_selected`:\n",
    "1) riId. Regulatory interaction (RI) identifier assigned by RegulonDB\n",
    "2) riType. Regulatory interaction type [tf-promoter, tf-tu, tf-gene] as we are considering only tf.\n",
    "3) regulatorId. Transcription Factor (TF) identifier assigned by RegulonDB\n",
    "4) regulatorName. Regulator name\n",
    "5) cnfName. regulator active conformation name [now: \"reg_active_conf_Name\"]\n",
    "19) targetTuOrGene. Transcription unit or gene (id:name) regulated by the TF [now: \"TF_target_TuOrGene\"]\n",
    "27) riPMIDS. PMIDS of the regulatory interaction"
   ],
   "metadata": {
    "collapsed": false
   },
   "id": "920719f6021affca"
  },
  {
   "cell_type": "code",
   "outputs": [
    {
     "data": {
      "text/plain": "(5582, 7)"
     },
     "execution_count": 120,
     "metadata": {},
     "output_type": "execute_result"
    },
    {
     "data": {
      "text/plain": "               riId       riType       regulatorId regulatorName  \\\n0  RDBECOLIRIC00001  tf-promoter  RDBECOLITFC00023          GadW   \n1  RDBECOLIRIC00002  tf-promoter  RDBECOLITFC00023          GadW   \n2  RDBECOLIRIC00003  tf-promoter  RDBECOLITFC00088          GalR   \n3  RDBECOLIRIC00004  tf-promoter  RDBECOLITFC00033          GalS   \n4  RDBECOLIRIC00005  tf-promoter  RDBECOLITFC00088          GalR   \n\n  reg_active_conf_Name           TF_target_TuOrGene  \\\n0                 GadW    RDBECOLITUC03133:slp-dctR   \n1                 GadW  RDBECOLITUC03315:hdeAB-yhiD   \n2     GalR-D-galactose        RDBECOLITUC02515:galP   \n3     GalS-D-galactose        RDBECOLITUC02515:galP   \n4     GalR-D-galactose        RDBECOLITUC02515:galP   \n\n                       riPMIDS  \n0           12730179;18808381   \n1  12730179;18083817;18808381   \n2                    19007420   \n3                    19007420   \n4                    19007420   ",
      "text/html": "<div>\n<style scoped>\n    .dataframe tbody tr th:only-of-type {\n        vertical-align: middle;\n    }\n\n    .dataframe tbody tr th {\n        vertical-align: top;\n    }\n\n    .dataframe thead th {\n        text-align: right;\n    }\n</style>\n<table border=\"1\" class=\"dataframe\">\n  <thead>\n    <tr style=\"text-align: right;\">\n      <th></th>\n      <th>riId</th>\n      <th>riType</th>\n      <th>regulatorId</th>\n      <th>regulatorName</th>\n      <th>reg_active_conf_Name</th>\n      <th>TF_target_TuOrGene</th>\n      <th>riPMIDS</th>\n    </tr>\n  </thead>\n  <tbody>\n    <tr>\n      <th>0</th>\n      <td>RDBECOLIRIC00001</td>\n      <td>tf-promoter</td>\n      <td>RDBECOLITFC00023</td>\n      <td>GadW</td>\n      <td>GadW</td>\n      <td>RDBECOLITUC03133:slp-dctR</td>\n      <td>12730179;18808381</td>\n    </tr>\n    <tr>\n      <th>1</th>\n      <td>RDBECOLIRIC00002</td>\n      <td>tf-promoter</td>\n      <td>RDBECOLITFC00023</td>\n      <td>GadW</td>\n      <td>GadW</td>\n      <td>RDBECOLITUC03315:hdeAB-yhiD</td>\n      <td>12730179;18083817;18808381</td>\n    </tr>\n    <tr>\n      <th>2</th>\n      <td>RDBECOLIRIC00003</td>\n      <td>tf-promoter</td>\n      <td>RDBECOLITFC00088</td>\n      <td>GalR</td>\n      <td>GalR-D-galactose</td>\n      <td>RDBECOLITUC02515:galP</td>\n      <td>19007420</td>\n    </tr>\n    <tr>\n      <th>3</th>\n      <td>RDBECOLIRIC00004</td>\n      <td>tf-promoter</td>\n      <td>RDBECOLITFC00033</td>\n      <td>GalS</td>\n      <td>GalS-D-galactose</td>\n      <td>RDBECOLITUC02515:galP</td>\n      <td>19007420</td>\n    </tr>\n    <tr>\n      <th>4</th>\n      <td>RDBECOLIRIC00005</td>\n      <td>tf-promoter</td>\n      <td>RDBECOLITFC00088</td>\n      <td>GalR</td>\n      <td>GalR-D-galactose</td>\n      <td>RDBECOLITUC02515:galP</td>\n      <td>19007420</td>\n    </tr>\n  </tbody>\n</table>\n</div>"
     },
     "execution_count": 120,
     "metadata": {},
     "output_type": "execute_result"
    }
   ],
   "source": [
    "#tf_riset = pd.read_csv(\"./Data from RegulonDB/TF-RIset_selected.csv\")\n",
    "tf_riset = pd.read_table(\"./Data from RegulonDB/TF-RIset_selected.tsv\", sep=\"\\t\")\n",
    "tf_riset.columns = ['riId','riType','regulatorId','regulatorName','reg_active_conf_Name','TF_target_TuOrGene','riPMIDS'] # \n",
    "\n",
    "tf_riset.shape\n",
    "tf_riset.head()"
   ],
   "metadata": {
    "collapsed": false,
    "ExecuteTime": {
     "end_time": "2024-03-28T12:12:48.478846Z",
     "start_time": "2024-03-28T12:12:48.444425Z"
    }
   },
   "id": "39c343fa9df53e47",
   "execution_count": 120
  },
  {
   "cell_type": "markdown",
   "source": [
    "Transcription units with information of operon, promoter and terminator.\n",
    "\n",
    "`TUset_selected`:\n",
    "1) tuId. Transcription Unit identifier assigned by RegulonDB\n",
    "2) tuName. Transcription unit name\n",
    "3) operonName. Operon name containing the transcription unit\n",
    "4) tuGenes. Name of the gene(s) contained in the transcription unit"
   ],
   "metadata": {
    "collapsed": false
   },
   "id": "62026eabe5a0de4a"
  },
  {
   "cell_type": "code",
   "outputs": [
    {
     "data": {
      "text/plain": "(3718, 4)"
     },
     "execution_count": 121,
     "metadata": {},
     "output_type": "execute_result"
    },
    {
     "data": {
      "text/plain": "                  tuId             tuName            operonName  \\\n0     RDBECOLITUC00080               yjtD                  yjtD   \n1     RDBECOLITUC00081               yaaX                  yaaX   \n2     RDBECOLITUC00082               yaaA                  yaaA   \n3     RDBECOLITUC00083               yaaJ                  yaaJ   \n4     RDBECOLITUC00084                mog                   mog   \n...                ...                ...                   ...   \n3713  RDBECOLITUC03879  ydfABC-dicFB-ydfD  dicB-ydfDE-insD-intQ   \n3714  RDBECOLITUC03880          fepA-entD             fepA-entD   \n3715  RDBECOLITUC03881            fhuACDB               fhuACDB   \n3716  RDBECOLITUC03882              glnLG               glnAZLG   \n3717  RDBECOLITUC03883            dppBCDF              dppABCDF   \n\n                             tuGenes  \n0                              yjtD;  \n1                              yaaX;  \n2                              yaaA;  \n3                              yaaJ;  \n4                               mog;  \n...                              ...  \n3713  ydfD;dicB;dicF;ydfC;ydfB;ydfA;  \n3714                      entD;fepA;  \n3715            fhuB;fhuD;fhuC;fhuA;  \n3716                      glnG;glnL;  \n3717            dppF;dppD;dppC;dppB;  \n\n[3718 rows x 4 columns]",
      "text/html": "<div>\n<style scoped>\n    .dataframe tbody tr th:only-of-type {\n        vertical-align: middle;\n    }\n\n    .dataframe tbody tr th {\n        vertical-align: top;\n    }\n\n    .dataframe thead th {\n        text-align: right;\n    }\n</style>\n<table border=\"1\" class=\"dataframe\">\n  <thead>\n    <tr style=\"text-align: right;\">\n      <th></th>\n      <th>tuId</th>\n      <th>tuName</th>\n      <th>operonName</th>\n      <th>tuGenes</th>\n    </tr>\n  </thead>\n  <tbody>\n    <tr>\n      <th>0</th>\n      <td>RDBECOLITUC00080</td>\n      <td>yjtD</td>\n      <td>yjtD</td>\n      <td>yjtD;</td>\n    </tr>\n    <tr>\n      <th>1</th>\n      <td>RDBECOLITUC00081</td>\n      <td>yaaX</td>\n      <td>yaaX</td>\n      <td>yaaX;</td>\n    </tr>\n    <tr>\n      <th>2</th>\n      <td>RDBECOLITUC00082</td>\n      <td>yaaA</td>\n      <td>yaaA</td>\n      <td>yaaA;</td>\n    </tr>\n    <tr>\n      <th>3</th>\n      <td>RDBECOLITUC00083</td>\n      <td>yaaJ</td>\n      <td>yaaJ</td>\n      <td>yaaJ;</td>\n    </tr>\n    <tr>\n      <th>4</th>\n      <td>RDBECOLITUC00084</td>\n      <td>mog</td>\n      <td>mog</td>\n      <td>mog;</td>\n    </tr>\n    <tr>\n      <th>...</th>\n      <td>...</td>\n      <td>...</td>\n      <td>...</td>\n      <td>...</td>\n    </tr>\n    <tr>\n      <th>3713</th>\n      <td>RDBECOLITUC03879</td>\n      <td>ydfABC-dicFB-ydfD</td>\n      <td>dicB-ydfDE-insD-intQ</td>\n      <td>ydfD;dicB;dicF;ydfC;ydfB;ydfA;</td>\n    </tr>\n    <tr>\n      <th>3714</th>\n      <td>RDBECOLITUC03880</td>\n      <td>fepA-entD</td>\n      <td>fepA-entD</td>\n      <td>entD;fepA;</td>\n    </tr>\n    <tr>\n      <th>3715</th>\n      <td>RDBECOLITUC03881</td>\n      <td>fhuACDB</td>\n      <td>fhuACDB</td>\n      <td>fhuB;fhuD;fhuC;fhuA;</td>\n    </tr>\n    <tr>\n      <th>3716</th>\n      <td>RDBECOLITUC03882</td>\n      <td>glnLG</td>\n      <td>glnAZLG</td>\n      <td>glnG;glnL;</td>\n    </tr>\n    <tr>\n      <th>3717</th>\n      <td>RDBECOLITUC03883</td>\n      <td>dppBCDF</td>\n      <td>dppABCDF</td>\n      <td>dppF;dppD;dppC;dppB;</td>\n    </tr>\n  </tbody>\n</table>\n<p>3718 rows × 4 columns</p>\n</div>"
     },
     "execution_count": 121,
     "metadata": {},
     "output_type": "execute_result"
    }
   ],
   "source": [
    "tuset = pd.read_table(\"./Data from RegulonDB/TUset_selected.tsv\", sep=\"\\t\")\n",
    "tuset.columns = ['tuId','tuName','operonName','tuGenes']\n",
    "\n",
    "tuset.shape\n",
    "tuset"
   ],
   "metadata": {
    "collapsed": false,
    "ExecuteTime": {
     "end_time": "2024-03-28T12:12:48.504500Z",
     "start_time": "2024-03-28T12:12:48.479971Z"
    }
   },
   "id": "f980bea4809b9b99",
   "execution_count": 121
  },
  {
   "cell_type": "markdown",
   "source": [
    "Transcription factors and their conformations (subset of RegulatorSet).\n",
    "\n",
    "`TFset_selected`:\n",
    "1) tfId. Factor (TF) identifier assigned by RegulonDB\n",
    "2) tfName. Name\n",
    "3) tfSynonyms. Synonyms List\n",
    "4) geneCodingForTF. Coding for the TF\n",
    "5) tfActiveConformations. Active Conformations\n",
    "6) tfInactiveConformations. Inactive Conformations\n",
    "17) tfConformationPMID . conformation reference identifier (PMID)"
   ],
   "metadata": {
    "collapsed": false
   },
   "id": "a0553a05e3412ecf"
  },
  {
   "cell_type": "code",
   "outputs": [
    {
     "data": {
      "text/plain": "(240, 7)"
     },
     "execution_count": 122,
     "metadata": {},
     "output_type": "execute_result"
    },
    {
     "data": {
      "text/plain": "               tfId tfName                                         tfSynonyms  \\\n0  RDBECOLITFC00001   ExuR  ExuR;negative regulator of exu regulon, exuT, ...   \n1  RDBECOLITFC00002   AsnC                                               AsnC   \n2  RDBECOLITFC00003    Dan                                      Dan;TtdR;YgiP   \n3  RDBECOLITFC00004   EbgR                                               EbgR   \n4  RDBECOLITFC00005   AgaR                                          YhaW;AgaR   \n\n  geneCodingForTF                              tfActiveConformations  \\\n0            exuR  ExuR;ExuR-&alpha;-D-galacturonate, &alpha;-D-g...   \n1            asnC    DNA-binding transcriptional dual regulator AsnC   \n2            ttdR  Dan-L-tartrate DNA-binding transcriptional act...   \n3            ebgR                                          EbgR;EbgR   \n4            agaR                                          AgaR;AgaR   \n\n      tfInactiveConformations                    tfConformationPMID  \n0  ExuR-&alpha;-D-glucuronate                              6357945   \n1           AsnC-L-asparagine  6357950; 7686882; 16528101; 2864330   \n2                         NaN                   19661178; 20156994   \n3                         NaN                                        \n4                         NaN                             14731281   ",
      "text/html": "<div>\n<style scoped>\n    .dataframe tbody tr th:only-of-type {\n        vertical-align: middle;\n    }\n\n    .dataframe tbody tr th {\n        vertical-align: top;\n    }\n\n    .dataframe thead th {\n        text-align: right;\n    }\n</style>\n<table border=\"1\" class=\"dataframe\">\n  <thead>\n    <tr style=\"text-align: right;\">\n      <th></th>\n      <th>tfId</th>\n      <th>tfName</th>\n      <th>tfSynonyms</th>\n      <th>geneCodingForTF</th>\n      <th>tfActiveConformations</th>\n      <th>tfInactiveConformations</th>\n      <th>tfConformationPMID</th>\n    </tr>\n  </thead>\n  <tbody>\n    <tr>\n      <th>0</th>\n      <td>RDBECOLITFC00001</td>\n      <td>ExuR</td>\n      <td>ExuR;negative regulator of exu regulon, exuT, ...</td>\n      <td>exuR</td>\n      <td>ExuR;ExuR-&amp;alpha;-D-galacturonate, &amp;alpha;-D-g...</td>\n      <td>ExuR-&amp;alpha;-D-glucuronate</td>\n      <td>6357945</td>\n    </tr>\n    <tr>\n      <th>1</th>\n      <td>RDBECOLITFC00002</td>\n      <td>AsnC</td>\n      <td>AsnC</td>\n      <td>asnC</td>\n      <td>DNA-binding transcriptional dual regulator AsnC</td>\n      <td>AsnC-L-asparagine</td>\n      <td>6357950; 7686882; 16528101; 2864330</td>\n    </tr>\n    <tr>\n      <th>2</th>\n      <td>RDBECOLITFC00003</td>\n      <td>Dan</td>\n      <td>Dan;TtdR;YgiP</td>\n      <td>ttdR</td>\n      <td>Dan-L-tartrate DNA-binding transcriptional act...</td>\n      <td>NaN</td>\n      <td>19661178; 20156994</td>\n    </tr>\n    <tr>\n      <th>3</th>\n      <td>RDBECOLITFC00004</td>\n      <td>EbgR</td>\n      <td>EbgR</td>\n      <td>ebgR</td>\n      <td>EbgR;EbgR</td>\n      <td>NaN</td>\n      <td></td>\n    </tr>\n    <tr>\n      <th>4</th>\n      <td>RDBECOLITFC00005</td>\n      <td>AgaR</td>\n      <td>YhaW;AgaR</td>\n      <td>agaR</td>\n      <td>AgaR;AgaR</td>\n      <td>NaN</td>\n      <td>14731281</td>\n    </tr>\n  </tbody>\n</table>\n</div>"
     },
     "execution_count": 122,
     "metadata": {},
     "output_type": "execute_result"
    }
   ],
   "source": [
    "tfset_conf = pd.read_table(\"./Data from RegulonDB/TFset_selected.tsv\", sep = '\\t')\n",
    "tfset_conf.columns = ['tfId','tfName','tfSynonyms','geneCodingForTF', 'tfActiveConformations', 'tfInactiveConformations','tfConformationPMID']\n",
    "\n",
    "tfset_conf.shape\n",
    "tfset_conf.head()"
   ],
   "metadata": {
    "collapsed": false,
    "ExecuteTime": {
     "end_time": "2024-03-28T12:12:48.541277Z",
     "start_time": "2024-03-28T12:12:48.507497Z"
    }
   },
   "id": "98518296dbdcd173",
   "execution_count": 122
  },
  {
   "cell_type": "code",
   "outputs": [
    {
     "data": {
      "text/plain": "0      DNA-binding transcriptional activator EvgA-pho...\n1      DNA-binding transcriptional dual regulator Arc...\n2      DNA-binding transcriptional dual regulator Nar...\n3      DNA-binding transcriptional dual regulator Nar...\n4      DNA-binding transcriptional dual regulator Nar...\n                             ...                        \n817                                  CpxR-phosphorylated\n818                                  CpxR-phosphorylated\n819    DNA-binding transcriptional dual regulator Pho...\n820    DNA-binding transcriptional dual regulator Pho...\n821    DNA-binding transcriptional activator ZraR-pho...\nName: active_when_phosphorylated, Length: 822, dtype: object"
     },
     "execution_count": 123,
     "metadata": {},
     "output_type": "execute_result"
    }
   ],
   "source": [
    "regex = r'.*[Pp]hosphorylated.*'\n",
    "\n",
    "temp_col = pd.Series((i for i in tf_riset['reg_active_conf_Name'] if re.search(regex, i)), name = 'active_when_phosphorylated')\n",
    "temp_col"
   ],
   "metadata": {
    "collapsed": false,
    "ExecuteTime": {
     "end_time": "2024-03-28T12:12:48.624329Z",
     "start_time": "2024-03-28T12:12:48.543275Z"
    }
   },
   "id": "d1e24a4727c4b5a9",
   "execution_count": 123
  },
  {
   "cell_type": "code",
   "outputs": [
    {
     "data": {
      "text/plain": "                  riId       riType       regulatorId regulatorName  \\\n0     RDBECOLIRIC00001  tf-promoter  RDBECOLITFC00023          GadW   \n1     RDBECOLIRIC00002  tf-promoter  RDBECOLITFC00023          GadW   \n2     RDBECOLIRIC00003  tf-promoter  RDBECOLITFC00088          GalR   \n3     RDBECOLIRIC00004  tf-promoter  RDBECOLITFC00033          GalS   \n4     RDBECOLIRIC00005  tf-promoter  RDBECOLITFC00088          GalR   \n...                ...          ...               ...           ...   \n5577  RDBECOLIRIC06256        tf-tu  RDBECOLITFC00093           Fur   \n5578  RDBECOLIRIC06257      tf-gene  RDBECOLITFC00093           Fur   \n5579  RDBECOLIRIC06258      tf-gene  RDBECOLITFC00093           Fur   \n5580  RDBECOLIRIC06259        tf-tu  RDBECOLITFC00093           Fur   \n5581  RDBECOLIRIC06260      tf-gene  RDBECOLITFC00093           Fur   \n\n                                   reg_active_conf_Name  \\\n0                                                  GadW   \n1                                                  GadW   \n2                                      GalR-D-galactose   \n3                                      GalS-D-galactose   \n4                                      GalR-D-galactose   \n...                                                 ...   \n5577  Fur-a [2Fe-2S] iron-sulfur cluster DNA-binding...   \n5578  Fur-a [2Fe-2S] iron-sulfur cluster DNA-binding...   \n5579  Fur-a [2Fe-2S] iron-sulfur cluster DNA-binding...   \n5580  Fur-a [2Fe-2S] iron-sulfur cluster DNA-binding...   \n5581  Fur-a [2Fe-2S] iron-sulfur cluster DNA-binding...   \n\n               TF_target_TuOrGene      TF_target_Id  \\\n0       RDBECOLITUC03133:slp-dctR  RDBECOLITUC03133   \n1     RDBECOLITUC03315:hdeAB-yhiD  RDBECOLITUC03315   \n2           RDBECOLITUC02515:galP  RDBECOLITUC02515   \n3           RDBECOLITUC02515:galP  RDBECOLITUC02515   \n4           RDBECOLITUC02515:galP  RDBECOLITUC02515   \n...                           ...               ...   \n5577       RDBECOLITUC03882:glnLG  RDBECOLITUC03882   \n5578        RDBECOLIGNC01387:waaL  RDBECOLIGNC01387   \n5579        RDBECOLIGNC02391:ybaN  RDBECOLIGNC02391   \n5580     RDBECOLITUC03883:dppBCDF  RDBECOLITUC03883   \n5581        RDBECOLIGNC00151:cirA  RDBECOLIGNC00151   \n\n                          riPMIDS  \n0              12730179;18808381   \n1     12730179;18083817;18808381   \n2                       19007420   \n3                       19007420   \n4                       19007420   \n...                           ...  \n5577                    37026477   \n5578                    37026477   \n5579                    37026477   \n5580                    37026477   \n5581                     37026477  \n\n[5582 rows x 8 columns]",
      "text/html": "<div>\n<style scoped>\n    .dataframe tbody tr th:only-of-type {\n        vertical-align: middle;\n    }\n\n    .dataframe tbody tr th {\n        vertical-align: top;\n    }\n\n    .dataframe thead th {\n        text-align: right;\n    }\n</style>\n<table border=\"1\" class=\"dataframe\">\n  <thead>\n    <tr style=\"text-align: right;\">\n      <th></th>\n      <th>riId</th>\n      <th>riType</th>\n      <th>regulatorId</th>\n      <th>regulatorName</th>\n      <th>reg_active_conf_Name</th>\n      <th>TF_target_TuOrGene</th>\n      <th>TF_target_Id</th>\n      <th>riPMIDS</th>\n    </tr>\n  </thead>\n  <tbody>\n    <tr>\n      <th>0</th>\n      <td>RDBECOLIRIC00001</td>\n      <td>tf-promoter</td>\n      <td>RDBECOLITFC00023</td>\n      <td>GadW</td>\n      <td>GadW</td>\n      <td>RDBECOLITUC03133:slp-dctR</td>\n      <td>RDBECOLITUC03133</td>\n      <td>12730179;18808381</td>\n    </tr>\n    <tr>\n      <th>1</th>\n      <td>RDBECOLIRIC00002</td>\n      <td>tf-promoter</td>\n      <td>RDBECOLITFC00023</td>\n      <td>GadW</td>\n      <td>GadW</td>\n      <td>RDBECOLITUC03315:hdeAB-yhiD</td>\n      <td>RDBECOLITUC03315</td>\n      <td>12730179;18083817;18808381</td>\n    </tr>\n    <tr>\n      <th>2</th>\n      <td>RDBECOLIRIC00003</td>\n      <td>tf-promoter</td>\n      <td>RDBECOLITFC00088</td>\n      <td>GalR</td>\n      <td>GalR-D-galactose</td>\n      <td>RDBECOLITUC02515:galP</td>\n      <td>RDBECOLITUC02515</td>\n      <td>19007420</td>\n    </tr>\n    <tr>\n      <th>3</th>\n      <td>RDBECOLIRIC00004</td>\n      <td>tf-promoter</td>\n      <td>RDBECOLITFC00033</td>\n      <td>GalS</td>\n      <td>GalS-D-galactose</td>\n      <td>RDBECOLITUC02515:galP</td>\n      <td>RDBECOLITUC02515</td>\n      <td>19007420</td>\n    </tr>\n    <tr>\n      <th>4</th>\n      <td>RDBECOLIRIC00005</td>\n      <td>tf-promoter</td>\n      <td>RDBECOLITFC00088</td>\n      <td>GalR</td>\n      <td>GalR-D-galactose</td>\n      <td>RDBECOLITUC02515:galP</td>\n      <td>RDBECOLITUC02515</td>\n      <td>19007420</td>\n    </tr>\n    <tr>\n      <th>...</th>\n      <td>...</td>\n      <td>...</td>\n      <td>...</td>\n      <td>...</td>\n      <td>...</td>\n      <td>...</td>\n      <td>...</td>\n      <td>...</td>\n    </tr>\n    <tr>\n      <th>5577</th>\n      <td>RDBECOLIRIC06256</td>\n      <td>tf-tu</td>\n      <td>RDBECOLITFC00093</td>\n      <td>Fur</td>\n      <td>Fur-a [2Fe-2S] iron-sulfur cluster DNA-binding...</td>\n      <td>RDBECOLITUC03882:glnLG</td>\n      <td>RDBECOLITUC03882</td>\n      <td>37026477</td>\n    </tr>\n    <tr>\n      <th>5578</th>\n      <td>RDBECOLIRIC06257</td>\n      <td>tf-gene</td>\n      <td>RDBECOLITFC00093</td>\n      <td>Fur</td>\n      <td>Fur-a [2Fe-2S] iron-sulfur cluster DNA-binding...</td>\n      <td>RDBECOLIGNC01387:waaL</td>\n      <td>RDBECOLIGNC01387</td>\n      <td>37026477</td>\n    </tr>\n    <tr>\n      <th>5579</th>\n      <td>RDBECOLIRIC06258</td>\n      <td>tf-gene</td>\n      <td>RDBECOLITFC00093</td>\n      <td>Fur</td>\n      <td>Fur-a [2Fe-2S] iron-sulfur cluster DNA-binding...</td>\n      <td>RDBECOLIGNC02391:ybaN</td>\n      <td>RDBECOLIGNC02391</td>\n      <td>37026477</td>\n    </tr>\n    <tr>\n      <th>5580</th>\n      <td>RDBECOLIRIC06259</td>\n      <td>tf-tu</td>\n      <td>RDBECOLITFC00093</td>\n      <td>Fur</td>\n      <td>Fur-a [2Fe-2S] iron-sulfur cluster DNA-binding...</td>\n      <td>RDBECOLITUC03883:dppBCDF</td>\n      <td>RDBECOLITUC03883</td>\n      <td>37026477</td>\n    </tr>\n    <tr>\n      <th>5581</th>\n      <td>RDBECOLIRIC06260</td>\n      <td>tf-gene</td>\n      <td>RDBECOLITFC00093</td>\n      <td>Fur</td>\n      <td>Fur-a [2Fe-2S] iron-sulfur cluster DNA-binding...</td>\n      <td>RDBECOLIGNC00151:cirA</td>\n      <td>RDBECOLIGNC00151</td>\n      <td>37026477</td>\n    </tr>\n  </tbody>\n</table>\n<p>5582 rows × 8 columns</p>\n</div>"
     },
     "execution_count": 124,
     "metadata": {},
     "output_type": "execute_result"
    }
   ],
   "source": [
    "#tf_riset.pop('TF_target_Id')\n",
    "ins_col = tf_riset['TF_target_TuOrGene'].str[:16]\n",
    "tf_riset.insert(6, 'TF_target_Id', ins_col)\n",
    "\n",
    "tf_riset"
   ],
   "metadata": {
    "collapsed": false,
    "ExecuteTime": {
     "end_time": "2024-03-28T12:12:48.653705Z",
     "start_time": "2024-03-28T12:12:48.627326Z"
    }
   },
   "id": "53b3626deec441db",
   "execution_count": 124
  },
  {
   "cell_type": "markdown",
   "source": [
    "Let's merge the TF-RIset and the TUset."
   ],
   "metadata": {
    "collapsed": false
   },
   "id": "3d44c7a2c59d9f81"
  },
  {
   "cell_type": "code",
   "outputs": [
    {
     "data": {
      "text/plain": "                  riId       riType       regulatorId regulatorName  \\\n0     RDBECOLIRIC00001  tf-promoter  RDBECOLITFC00023          GadW   \n1     RDBECOLIRIC00002  tf-promoter  RDBECOLITFC00023          GadW   \n2     RDBECOLIRIC00003  tf-promoter  RDBECOLITFC00088          GalR   \n3     RDBECOLIRIC00004  tf-promoter  RDBECOLITFC00033          GalS   \n4     RDBECOLIRIC00005  tf-promoter  RDBECOLITFC00088          GalR   \n...                ...          ...               ...           ...   \n4236  RDBECOLIRIC06252  tf-promoter  RDBECOLITFC00093           Fur   \n4237  RDBECOLIRIC06253        tf-tu  RDBECOLITFC00093           Fur   \n4238  RDBECOLIRIC06255        tf-tu  RDBECOLITFC00093           Fur   \n4239  RDBECOLIRIC06256        tf-tu  RDBECOLITFC00093           Fur   \n4240  RDBECOLIRIC06259        tf-tu  RDBECOLITFC00093           Fur   \n\n                                   reg_active_conf_Name  \\\n0                                                  GadW   \n1                                                  GadW   \n2                                      GalR-D-galactose   \n3                                      GalS-D-galactose   \n4                                      GalR-D-galactose   \n...                                                 ...   \n4236  Fur-a [2Fe-2S] iron-sulfur cluster DNA-binding...   \n4237  Fur-a [2Fe-2S] iron-sulfur cluster DNA-binding...   \n4238  Fur-a [2Fe-2S] iron-sulfur cluster DNA-binding...   \n4239  Fur-a [2Fe-2S] iron-sulfur cluster DNA-binding...   \n4240  Fur-a [2Fe-2S] iron-sulfur cluster DNA-binding...   \n\n               TF_target_TuOrGene      TF_target_Id  \\\n0       RDBECOLITUC03133:slp-dctR  RDBECOLITUC03133   \n1     RDBECOLITUC03315:hdeAB-yhiD  RDBECOLITUC03315   \n2           RDBECOLITUC02515:galP  RDBECOLITUC02515   \n3           RDBECOLITUC02515:galP  RDBECOLITUC02515   \n4           RDBECOLITUC02515:galP  RDBECOLITUC02515   \n...                           ...               ...   \n4236        RDBECOLITUC01910:uxaB  RDBECOLITUC01910   \n4237   RDBECOLITUC03880:fepA-entD  RDBECOLITUC03880   \n4238     RDBECOLITUC03881:fhuACDB  RDBECOLITUC03881   \n4239       RDBECOLITUC03882:glnLG  RDBECOLITUC03882   \n4240     RDBECOLITUC03883:dppBCDF  RDBECOLITUC03883   \n\n                          riPMIDS              tuId      tuName  operonName  \\\n0              12730179;18808381   RDBECOLITUC03133    slp-dctR    slp-dctR   \n1     12730179;18083817;18808381   RDBECOLITUC03315  hdeAB-yhiD  hdeAB-yhiD   \n2                       19007420   RDBECOLITUC02515        galP        galP   \n3                       19007420   RDBECOLITUC02515        galP        galP   \n4                       19007420   RDBECOLITUC02515        galP        galP   \n...                           ...               ...         ...         ...   \n4236                    37026477   RDBECOLITUC01910        uxaB        uxaB   \n4237                    37026477   RDBECOLITUC03880   fepA-entD   fepA-entD   \n4238                    37026477   RDBECOLITUC03881     fhuACDB     fhuACDB   \n4239                    37026477   RDBECOLITUC03882       glnLG     glnAZLG   \n4240                    37026477   RDBECOLITUC03883     dppBCDF    dppABCDF   \n\n                   tuGenes  \n0                dctR;slp;  \n1          yhiD;hdeB;hdeA;  \n2                    galP;  \n3                    galP;  \n4                    galP;  \n...                    ...  \n4236                 uxaB;  \n4237            entD;fepA;  \n4238  fhuB;fhuD;fhuC;fhuA;  \n4239            glnG;glnL;  \n4240  dppF;dppD;dppC;dppB;  \n\n[4241 rows x 12 columns]",
      "text/html": "<div>\n<style scoped>\n    .dataframe tbody tr th:only-of-type {\n        vertical-align: middle;\n    }\n\n    .dataframe tbody tr th {\n        vertical-align: top;\n    }\n\n    .dataframe thead th {\n        text-align: right;\n    }\n</style>\n<table border=\"1\" class=\"dataframe\">\n  <thead>\n    <tr style=\"text-align: right;\">\n      <th></th>\n      <th>riId</th>\n      <th>riType</th>\n      <th>regulatorId</th>\n      <th>regulatorName</th>\n      <th>reg_active_conf_Name</th>\n      <th>TF_target_TuOrGene</th>\n      <th>TF_target_Id</th>\n      <th>riPMIDS</th>\n      <th>tuId</th>\n      <th>tuName</th>\n      <th>operonName</th>\n      <th>tuGenes</th>\n    </tr>\n  </thead>\n  <tbody>\n    <tr>\n      <th>0</th>\n      <td>RDBECOLIRIC00001</td>\n      <td>tf-promoter</td>\n      <td>RDBECOLITFC00023</td>\n      <td>GadW</td>\n      <td>GadW</td>\n      <td>RDBECOLITUC03133:slp-dctR</td>\n      <td>RDBECOLITUC03133</td>\n      <td>12730179;18808381</td>\n      <td>RDBECOLITUC03133</td>\n      <td>slp-dctR</td>\n      <td>slp-dctR</td>\n      <td>dctR;slp;</td>\n    </tr>\n    <tr>\n      <th>1</th>\n      <td>RDBECOLIRIC00002</td>\n      <td>tf-promoter</td>\n      <td>RDBECOLITFC00023</td>\n      <td>GadW</td>\n      <td>GadW</td>\n      <td>RDBECOLITUC03315:hdeAB-yhiD</td>\n      <td>RDBECOLITUC03315</td>\n      <td>12730179;18083817;18808381</td>\n      <td>RDBECOLITUC03315</td>\n      <td>hdeAB-yhiD</td>\n      <td>hdeAB-yhiD</td>\n      <td>yhiD;hdeB;hdeA;</td>\n    </tr>\n    <tr>\n      <th>2</th>\n      <td>RDBECOLIRIC00003</td>\n      <td>tf-promoter</td>\n      <td>RDBECOLITFC00088</td>\n      <td>GalR</td>\n      <td>GalR-D-galactose</td>\n      <td>RDBECOLITUC02515:galP</td>\n      <td>RDBECOLITUC02515</td>\n      <td>19007420</td>\n      <td>RDBECOLITUC02515</td>\n      <td>galP</td>\n      <td>galP</td>\n      <td>galP;</td>\n    </tr>\n    <tr>\n      <th>3</th>\n      <td>RDBECOLIRIC00004</td>\n      <td>tf-promoter</td>\n      <td>RDBECOLITFC00033</td>\n      <td>GalS</td>\n      <td>GalS-D-galactose</td>\n      <td>RDBECOLITUC02515:galP</td>\n      <td>RDBECOLITUC02515</td>\n      <td>19007420</td>\n      <td>RDBECOLITUC02515</td>\n      <td>galP</td>\n      <td>galP</td>\n      <td>galP;</td>\n    </tr>\n    <tr>\n      <th>4</th>\n      <td>RDBECOLIRIC00005</td>\n      <td>tf-promoter</td>\n      <td>RDBECOLITFC00088</td>\n      <td>GalR</td>\n      <td>GalR-D-galactose</td>\n      <td>RDBECOLITUC02515:galP</td>\n      <td>RDBECOLITUC02515</td>\n      <td>19007420</td>\n      <td>RDBECOLITUC02515</td>\n      <td>galP</td>\n      <td>galP</td>\n      <td>galP;</td>\n    </tr>\n    <tr>\n      <th>...</th>\n      <td>...</td>\n      <td>...</td>\n      <td>...</td>\n      <td>...</td>\n      <td>...</td>\n      <td>...</td>\n      <td>...</td>\n      <td>...</td>\n      <td>...</td>\n      <td>...</td>\n      <td>...</td>\n      <td>...</td>\n    </tr>\n    <tr>\n      <th>4236</th>\n      <td>RDBECOLIRIC06252</td>\n      <td>tf-promoter</td>\n      <td>RDBECOLITFC00093</td>\n      <td>Fur</td>\n      <td>Fur-a [2Fe-2S] iron-sulfur cluster DNA-binding...</td>\n      <td>RDBECOLITUC01910:uxaB</td>\n      <td>RDBECOLITUC01910</td>\n      <td>37026477</td>\n      <td>RDBECOLITUC01910</td>\n      <td>uxaB</td>\n      <td>uxaB</td>\n      <td>uxaB;</td>\n    </tr>\n    <tr>\n      <th>4237</th>\n      <td>RDBECOLIRIC06253</td>\n      <td>tf-tu</td>\n      <td>RDBECOLITFC00093</td>\n      <td>Fur</td>\n      <td>Fur-a [2Fe-2S] iron-sulfur cluster DNA-binding...</td>\n      <td>RDBECOLITUC03880:fepA-entD</td>\n      <td>RDBECOLITUC03880</td>\n      <td>37026477</td>\n      <td>RDBECOLITUC03880</td>\n      <td>fepA-entD</td>\n      <td>fepA-entD</td>\n      <td>entD;fepA;</td>\n    </tr>\n    <tr>\n      <th>4238</th>\n      <td>RDBECOLIRIC06255</td>\n      <td>tf-tu</td>\n      <td>RDBECOLITFC00093</td>\n      <td>Fur</td>\n      <td>Fur-a [2Fe-2S] iron-sulfur cluster DNA-binding...</td>\n      <td>RDBECOLITUC03881:fhuACDB</td>\n      <td>RDBECOLITUC03881</td>\n      <td>37026477</td>\n      <td>RDBECOLITUC03881</td>\n      <td>fhuACDB</td>\n      <td>fhuACDB</td>\n      <td>fhuB;fhuD;fhuC;fhuA;</td>\n    </tr>\n    <tr>\n      <th>4239</th>\n      <td>RDBECOLIRIC06256</td>\n      <td>tf-tu</td>\n      <td>RDBECOLITFC00093</td>\n      <td>Fur</td>\n      <td>Fur-a [2Fe-2S] iron-sulfur cluster DNA-binding...</td>\n      <td>RDBECOLITUC03882:glnLG</td>\n      <td>RDBECOLITUC03882</td>\n      <td>37026477</td>\n      <td>RDBECOLITUC03882</td>\n      <td>glnLG</td>\n      <td>glnAZLG</td>\n      <td>glnG;glnL;</td>\n    </tr>\n    <tr>\n      <th>4240</th>\n      <td>RDBECOLIRIC06259</td>\n      <td>tf-tu</td>\n      <td>RDBECOLITFC00093</td>\n      <td>Fur</td>\n      <td>Fur-a [2Fe-2S] iron-sulfur cluster DNA-binding...</td>\n      <td>RDBECOLITUC03883:dppBCDF</td>\n      <td>RDBECOLITUC03883</td>\n      <td>37026477</td>\n      <td>RDBECOLITUC03883</td>\n      <td>dppBCDF</td>\n      <td>dppABCDF</td>\n      <td>dppF;dppD;dppC;dppB;</td>\n    </tr>\n  </tbody>\n</table>\n<p>4241 rows × 12 columns</p>\n</div>"
     },
     "execution_count": 125,
     "metadata": {},
     "output_type": "execute_result"
    }
   ],
   "source": [
    "temp_merge = tf_riset.merge(tuset, left_on = 'TF_target_Id', right_on='tuId', how = 'inner')\n",
    "temp_merge"
   ],
   "metadata": {
    "collapsed": false,
    "ExecuteTime": {
     "end_time": "2024-03-28T12:12:48.695061Z",
     "start_time": "2024-03-28T12:12:48.660698Z"
    }
   },
   "id": "156cd407cc18bdc",
   "execution_count": 125
  },
  {
   "cell_type": "code",
   "outputs": [],
   "source": [
    "temp_merge['mod_conformation'] = temp_merge['regulatorName'] != temp_merge['reg_active_conf_Name']"
   ],
   "metadata": {
    "collapsed": false,
    "ExecuteTime": {
     "end_time": "2024-03-28T12:26:14.916756Z",
     "start_time": "2024-03-28T12:26:14.907848Z"
    }
   },
   "id": "b25195f72ed2cf55",
   "execution_count": 126
  },
  {
   "cell_type": "code",
   "outputs": [
    {
     "data": {
      "text/plain": "                  riId       riType       regulatorId regulatorName  \\\n0     RDBECOLIRIC00001  tf-promoter  RDBECOLITFC00023          GadW   \n1     RDBECOLIRIC00002  tf-promoter  RDBECOLITFC00023          GadW   \n2     RDBECOLIRIC00003  tf-promoter  RDBECOLITFC00088          GalR   \n3     RDBECOLIRIC00004  tf-promoter  RDBECOLITFC00033          GalS   \n4     RDBECOLIRIC00005  tf-promoter  RDBECOLITFC00088          GalR   \n...                ...          ...               ...           ...   \n4236  RDBECOLIRIC06252  tf-promoter  RDBECOLITFC00093           Fur   \n4237  RDBECOLIRIC06253        tf-tu  RDBECOLITFC00093           Fur   \n4238  RDBECOLIRIC06255        tf-tu  RDBECOLITFC00093           Fur   \n4239  RDBECOLIRIC06256        tf-tu  RDBECOLITFC00093           Fur   \n4240  RDBECOLIRIC06259        tf-tu  RDBECOLITFC00093           Fur   \n\n                                   reg_active_conf_Name  \\\n0                                                  GadW   \n1                                                  GadW   \n2                                      GalR-D-galactose   \n3                                      GalS-D-galactose   \n4                                      GalR-D-galactose   \n...                                                 ...   \n4236  Fur-a [2Fe-2S] iron-sulfur cluster DNA-binding...   \n4237  Fur-a [2Fe-2S] iron-sulfur cluster DNA-binding...   \n4238  Fur-a [2Fe-2S] iron-sulfur cluster DNA-binding...   \n4239  Fur-a [2Fe-2S] iron-sulfur cluster DNA-binding...   \n4240  Fur-a [2Fe-2S] iron-sulfur cluster DNA-binding...   \n\n               TF_target_TuOrGene      TF_target_Id  \\\n0       RDBECOLITUC03133:slp-dctR  RDBECOLITUC03133   \n1     RDBECOLITUC03315:hdeAB-yhiD  RDBECOLITUC03315   \n2           RDBECOLITUC02515:galP  RDBECOLITUC02515   \n3           RDBECOLITUC02515:galP  RDBECOLITUC02515   \n4           RDBECOLITUC02515:galP  RDBECOLITUC02515   \n...                           ...               ...   \n4236        RDBECOLITUC01910:uxaB  RDBECOLITUC01910   \n4237   RDBECOLITUC03880:fepA-entD  RDBECOLITUC03880   \n4238     RDBECOLITUC03881:fhuACDB  RDBECOLITUC03881   \n4239       RDBECOLITUC03882:glnLG  RDBECOLITUC03882   \n4240     RDBECOLITUC03883:dppBCDF  RDBECOLITUC03883   \n\n                          riPMIDS              tuId      tuName  operonName  \\\n0              12730179;18808381   RDBECOLITUC03133    slp-dctR    slp-dctR   \n1     12730179;18083817;18808381   RDBECOLITUC03315  hdeAB-yhiD  hdeAB-yhiD   \n2                       19007420   RDBECOLITUC02515        galP        galP   \n3                       19007420   RDBECOLITUC02515        galP        galP   \n4                       19007420   RDBECOLITUC02515        galP        galP   \n...                           ...               ...         ...         ...   \n4236                    37026477   RDBECOLITUC01910        uxaB        uxaB   \n4237                    37026477   RDBECOLITUC03880   fepA-entD   fepA-entD   \n4238                    37026477   RDBECOLITUC03881     fhuACDB     fhuACDB   \n4239                    37026477   RDBECOLITUC03882       glnLG     glnAZLG   \n4240                    37026477   RDBECOLITUC03883     dppBCDF    dppABCDF   \n\n                   tuGenes  mod_conformation  \n0                dctR;slp;             False  \n1          yhiD;hdeB;hdeA;             False  \n2                    galP;              True  \n3                    galP;              True  \n4                    galP;              True  \n...                    ...               ...  \n4236                 uxaB;              True  \n4237            entD;fepA;              True  \n4238  fhuB;fhuD;fhuC;fhuA;              True  \n4239            glnG;glnL;              True  \n4240  dppF;dppD;dppC;dppB;              True  \n\n[4241 rows x 13 columns]",
      "text/html": "<div>\n<style scoped>\n    .dataframe tbody tr th:only-of-type {\n        vertical-align: middle;\n    }\n\n    .dataframe tbody tr th {\n        vertical-align: top;\n    }\n\n    .dataframe thead th {\n        text-align: right;\n    }\n</style>\n<table border=\"1\" class=\"dataframe\">\n  <thead>\n    <tr style=\"text-align: right;\">\n      <th></th>\n      <th>riId</th>\n      <th>riType</th>\n      <th>regulatorId</th>\n      <th>regulatorName</th>\n      <th>reg_active_conf_Name</th>\n      <th>TF_target_TuOrGene</th>\n      <th>TF_target_Id</th>\n      <th>riPMIDS</th>\n      <th>tuId</th>\n      <th>tuName</th>\n      <th>operonName</th>\n      <th>tuGenes</th>\n      <th>mod_conformation</th>\n    </tr>\n  </thead>\n  <tbody>\n    <tr>\n      <th>0</th>\n      <td>RDBECOLIRIC00001</td>\n      <td>tf-promoter</td>\n      <td>RDBECOLITFC00023</td>\n      <td>GadW</td>\n      <td>GadW</td>\n      <td>RDBECOLITUC03133:slp-dctR</td>\n      <td>RDBECOLITUC03133</td>\n      <td>12730179;18808381</td>\n      <td>RDBECOLITUC03133</td>\n      <td>slp-dctR</td>\n      <td>slp-dctR</td>\n      <td>dctR;slp;</td>\n      <td>False</td>\n    </tr>\n    <tr>\n      <th>1</th>\n      <td>RDBECOLIRIC00002</td>\n      <td>tf-promoter</td>\n      <td>RDBECOLITFC00023</td>\n      <td>GadW</td>\n      <td>GadW</td>\n      <td>RDBECOLITUC03315:hdeAB-yhiD</td>\n      <td>RDBECOLITUC03315</td>\n      <td>12730179;18083817;18808381</td>\n      <td>RDBECOLITUC03315</td>\n      <td>hdeAB-yhiD</td>\n      <td>hdeAB-yhiD</td>\n      <td>yhiD;hdeB;hdeA;</td>\n      <td>False</td>\n    </tr>\n    <tr>\n      <th>2</th>\n      <td>RDBECOLIRIC00003</td>\n      <td>tf-promoter</td>\n      <td>RDBECOLITFC00088</td>\n      <td>GalR</td>\n      <td>GalR-D-galactose</td>\n      <td>RDBECOLITUC02515:galP</td>\n      <td>RDBECOLITUC02515</td>\n      <td>19007420</td>\n      <td>RDBECOLITUC02515</td>\n      <td>galP</td>\n      <td>galP</td>\n      <td>galP;</td>\n      <td>True</td>\n    </tr>\n    <tr>\n      <th>3</th>\n      <td>RDBECOLIRIC00004</td>\n      <td>tf-promoter</td>\n      <td>RDBECOLITFC00033</td>\n      <td>GalS</td>\n      <td>GalS-D-galactose</td>\n      <td>RDBECOLITUC02515:galP</td>\n      <td>RDBECOLITUC02515</td>\n      <td>19007420</td>\n      <td>RDBECOLITUC02515</td>\n      <td>galP</td>\n      <td>galP</td>\n      <td>galP;</td>\n      <td>True</td>\n    </tr>\n    <tr>\n      <th>4</th>\n      <td>RDBECOLIRIC00005</td>\n      <td>tf-promoter</td>\n      <td>RDBECOLITFC00088</td>\n      <td>GalR</td>\n      <td>GalR-D-galactose</td>\n      <td>RDBECOLITUC02515:galP</td>\n      <td>RDBECOLITUC02515</td>\n      <td>19007420</td>\n      <td>RDBECOLITUC02515</td>\n      <td>galP</td>\n      <td>galP</td>\n      <td>galP;</td>\n      <td>True</td>\n    </tr>\n    <tr>\n      <th>...</th>\n      <td>...</td>\n      <td>...</td>\n      <td>...</td>\n      <td>...</td>\n      <td>...</td>\n      <td>...</td>\n      <td>...</td>\n      <td>...</td>\n      <td>...</td>\n      <td>...</td>\n      <td>...</td>\n      <td>...</td>\n      <td>...</td>\n    </tr>\n    <tr>\n      <th>4236</th>\n      <td>RDBECOLIRIC06252</td>\n      <td>tf-promoter</td>\n      <td>RDBECOLITFC00093</td>\n      <td>Fur</td>\n      <td>Fur-a [2Fe-2S] iron-sulfur cluster DNA-binding...</td>\n      <td>RDBECOLITUC01910:uxaB</td>\n      <td>RDBECOLITUC01910</td>\n      <td>37026477</td>\n      <td>RDBECOLITUC01910</td>\n      <td>uxaB</td>\n      <td>uxaB</td>\n      <td>uxaB;</td>\n      <td>True</td>\n    </tr>\n    <tr>\n      <th>4237</th>\n      <td>RDBECOLIRIC06253</td>\n      <td>tf-tu</td>\n      <td>RDBECOLITFC00093</td>\n      <td>Fur</td>\n      <td>Fur-a [2Fe-2S] iron-sulfur cluster DNA-binding...</td>\n      <td>RDBECOLITUC03880:fepA-entD</td>\n      <td>RDBECOLITUC03880</td>\n      <td>37026477</td>\n      <td>RDBECOLITUC03880</td>\n      <td>fepA-entD</td>\n      <td>fepA-entD</td>\n      <td>entD;fepA;</td>\n      <td>True</td>\n    </tr>\n    <tr>\n      <th>4238</th>\n      <td>RDBECOLIRIC06255</td>\n      <td>tf-tu</td>\n      <td>RDBECOLITFC00093</td>\n      <td>Fur</td>\n      <td>Fur-a [2Fe-2S] iron-sulfur cluster DNA-binding...</td>\n      <td>RDBECOLITUC03881:fhuACDB</td>\n      <td>RDBECOLITUC03881</td>\n      <td>37026477</td>\n      <td>RDBECOLITUC03881</td>\n      <td>fhuACDB</td>\n      <td>fhuACDB</td>\n      <td>fhuB;fhuD;fhuC;fhuA;</td>\n      <td>True</td>\n    </tr>\n    <tr>\n      <th>4239</th>\n      <td>RDBECOLIRIC06256</td>\n      <td>tf-tu</td>\n      <td>RDBECOLITFC00093</td>\n      <td>Fur</td>\n      <td>Fur-a [2Fe-2S] iron-sulfur cluster DNA-binding...</td>\n      <td>RDBECOLITUC03882:glnLG</td>\n      <td>RDBECOLITUC03882</td>\n      <td>37026477</td>\n      <td>RDBECOLITUC03882</td>\n      <td>glnLG</td>\n      <td>glnAZLG</td>\n      <td>glnG;glnL;</td>\n      <td>True</td>\n    </tr>\n    <tr>\n      <th>4240</th>\n      <td>RDBECOLIRIC06259</td>\n      <td>tf-tu</td>\n      <td>RDBECOLITFC00093</td>\n      <td>Fur</td>\n      <td>Fur-a [2Fe-2S] iron-sulfur cluster DNA-binding...</td>\n      <td>RDBECOLITUC03883:dppBCDF</td>\n      <td>RDBECOLITUC03883</td>\n      <td>37026477</td>\n      <td>RDBECOLITUC03883</td>\n      <td>dppBCDF</td>\n      <td>dppABCDF</td>\n      <td>dppF;dppD;dppC;dppB;</td>\n      <td>True</td>\n    </tr>\n  </tbody>\n</table>\n<p>4241 rows × 13 columns</p>\n</div>"
     },
     "execution_count": 127,
     "metadata": {},
     "output_type": "execute_result"
    }
   ],
   "source": [
    "temp_merge"
   ],
   "metadata": {
    "collapsed": false,
    "ExecuteTime": {
     "end_time": "2024-03-28T12:26:27.900865Z",
     "start_time": "2024-03-28T12:26:27.877113Z"
    }
   },
   "id": "d6cc68f554ed334f",
   "execution_count": 127
  },
  {
   "cell_type": "code",
   "outputs": [
    {
     "data": {
      "text/plain": "mod_conformation\nTrue     2593\nFalse    1648\nName: count, dtype: int64"
     },
     "execution_count": 131,
     "metadata": {},
     "output_type": "execute_result"
    }
   ],
   "source": [
    "# Let's see how many trues and falses we got.\n",
    "counter = temp_merge['mod_conformation'].value_counts()\n",
    "counter"
   ],
   "metadata": {
    "collapsed": false,
    "ExecuteTime": {
     "end_time": "2024-03-28T12:30:02.642065Z",
     "start_time": "2024-03-28T12:30:02.631040Z"
    }
   },
   "id": "cc587845a879cdf0",
   "execution_count": 131
  },
  {
   "cell_type": "code",
   "outputs": [
    {
     "data": {
      "text/plain": "           regulatorId regulatorName  \\\n0     RDBECOLITFC00023          GadW   \n1     RDBECOLITFC00023          GadW   \n2     RDBECOLITFC00088          GalR   \n3     RDBECOLITFC00033          GalS   \n4     RDBECOLITFC00088          GalR   \n...                ...           ...   \n4236  RDBECOLITFC00093           Fur   \n4237  RDBECOLITFC00093           Fur   \n4238  RDBECOLITFC00093           Fur   \n4239  RDBECOLITFC00093           Fur   \n4240  RDBECOLITFC00093           Fur   \n\n                                   reg_active_conf_Name  mod_conformation  \\\n0                                                  GadW             False   \n1                                                  GadW             False   \n2                                      GalR-D-galactose              True   \n3                                      GalS-D-galactose              True   \n4                                      GalR-D-galactose              True   \n...                                                 ...               ...   \n4236  Fur-a [2Fe-2S] iron-sulfur cluster DNA-binding...              True   \n4237  Fur-a [2Fe-2S] iron-sulfur cluster DNA-binding...              True   \n4238  Fur-a [2Fe-2S] iron-sulfur cluster DNA-binding...              True   \n4239  Fur-a [2Fe-2S] iron-sulfur cluster DNA-binding...              True   \n4240  Fur-a [2Fe-2S] iron-sulfur cluster DNA-binding...              True   \n\n                  tuId      tuName               tuGenes  \n0     RDBECOLITUC03133    slp-dctR             dctR;slp;  \n1     RDBECOLITUC03315  hdeAB-yhiD       yhiD;hdeB;hdeA;  \n2     RDBECOLITUC02515        galP                 galP;  \n3     RDBECOLITUC02515        galP                 galP;  \n4     RDBECOLITUC02515        galP                 galP;  \n...                ...         ...                   ...  \n4236  RDBECOLITUC01910        uxaB                 uxaB;  \n4237  RDBECOLITUC03880   fepA-entD            entD;fepA;  \n4238  RDBECOLITUC03881     fhuACDB  fhuB;fhuD;fhuC;fhuA;  \n4239  RDBECOLITUC03882       glnLG            glnG;glnL;  \n4240  RDBECOLITUC03883     dppBCDF  dppF;dppD;dppC;dppB;  \n\n[4241 rows x 7 columns]",
      "text/html": "<div>\n<style scoped>\n    .dataframe tbody tr th:only-of-type {\n        vertical-align: middle;\n    }\n\n    .dataframe tbody tr th {\n        vertical-align: top;\n    }\n\n    .dataframe thead th {\n        text-align: right;\n    }\n</style>\n<table border=\"1\" class=\"dataframe\">\n  <thead>\n    <tr style=\"text-align: right;\">\n      <th></th>\n      <th>regulatorId</th>\n      <th>regulatorName</th>\n      <th>reg_active_conf_Name</th>\n      <th>mod_conformation</th>\n      <th>tuId</th>\n      <th>tuName</th>\n      <th>tuGenes</th>\n    </tr>\n  </thead>\n  <tbody>\n    <tr>\n      <th>0</th>\n      <td>RDBECOLITFC00023</td>\n      <td>GadW</td>\n      <td>GadW</td>\n      <td>False</td>\n      <td>RDBECOLITUC03133</td>\n      <td>slp-dctR</td>\n      <td>dctR;slp;</td>\n    </tr>\n    <tr>\n      <th>1</th>\n      <td>RDBECOLITFC00023</td>\n      <td>GadW</td>\n      <td>GadW</td>\n      <td>False</td>\n      <td>RDBECOLITUC03315</td>\n      <td>hdeAB-yhiD</td>\n      <td>yhiD;hdeB;hdeA;</td>\n    </tr>\n    <tr>\n      <th>2</th>\n      <td>RDBECOLITFC00088</td>\n      <td>GalR</td>\n      <td>GalR-D-galactose</td>\n      <td>True</td>\n      <td>RDBECOLITUC02515</td>\n      <td>galP</td>\n      <td>galP;</td>\n    </tr>\n    <tr>\n      <th>3</th>\n      <td>RDBECOLITFC00033</td>\n      <td>GalS</td>\n      <td>GalS-D-galactose</td>\n      <td>True</td>\n      <td>RDBECOLITUC02515</td>\n      <td>galP</td>\n      <td>galP;</td>\n    </tr>\n    <tr>\n      <th>4</th>\n      <td>RDBECOLITFC00088</td>\n      <td>GalR</td>\n      <td>GalR-D-galactose</td>\n      <td>True</td>\n      <td>RDBECOLITUC02515</td>\n      <td>galP</td>\n      <td>galP;</td>\n    </tr>\n    <tr>\n      <th>...</th>\n      <td>...</td>\n      <td>...</td>\n      <td>...</td>\n      <td>...</td>\n      <td>...</td>\n      <td>...</td>\n      <td>...</td>\n    </tr>\n    <tr>\n      <th>4236</th>\n      <td>RDBECOLITFC00093</td>\n      <td>Fur</td>\n      <td>Fur-a [2Fe-2S] iron-sulfur cluster DNA-binding...</td>\n      <td>True</td>\n      <td>RDBECOLITUC01910</td>\n      <td>uxaB</td>\n      <td>uxaB;</td>\n    </tr>\n    <tr>\n      <th>4237</th>\n      <td>RDBECOLITFC00093</td>\n      <td>Fur</td>\n      <td>Fur-a [2Fe-2S] iron-sulfur cluster DNA-binding...</td>\n      <td>True</td>\n      <td>RDBECOLITUC03880</td>\n      <td>fepA-entD</td>\n      <td>entD;fepA;</td>\n    </tr>\n    <tr>\n      <th>4238</th>\n      <td>RDBECOLITFC00093</td>\n      <td>Fur</td>\n      <td>Fur-a [2Fe-2S] iron-sulfur cluster DNA-binding...</td>\n      <td>True</td>\n      <td>RDBECOLITUC03881</td>\n      <td>fhuACDB</td>\n      <td>fhuB;fhuD;fhuC;fhuA;</td>\n    </tr>\n    <tr>\n      <th>4239</th>\n      <td>RDBECOLITFC00093</td>\n      <td>Fur</td>\n      <td>Fur-a [2Fe-2S] iron-sulfur cluster DNA-binding...</td>\n      <td>True</td>\n      <td>RDBECOLITUC03882</td>\n      <td>glnLG</td>\n      <td>glnG;glnL;</td>\n    </tr>\n    <tr>\n      <th>4240</th>\n      <td>RDBECOLITFC00093</td>\n      <td>Fur</td>\n      <td>Fur-a [2Fe-2S] iron-sulfur cluster DNA-binding...</td>\n      <td>True</td>\n      <td>RDBECOLITUC03883</td>\n      <td>dppBCDF</td>\n      <td>dppF;dppD;dppC;dppB;</td>\n    </tr>\n  </tbody>\n</table>\n<p>4241 rows × 7 columns</p>\n</div>"
     },
     "execution_count": 134,
     "metadata": {},
     "output_type": "execute_result"
    }
   ],
   "source": [
    "useful_set = temp_merge[['regulatorId','regulatorName','reg_active_conf_Name','mod_conformation', 'tuId', 'tuName', 'tuGenes']].copy()\n",
    "useful_set"
   ],
   "metadata": {
    "collapsed": false,
    "ExecuteTime": {
     "end_time": "2024-03-28T12:38:27.521335Z",
     "start_time": "2024-03-28T12:38:27.502871Z"
    }
   },
   "id": "818d0b907fae7cbe",
   "execution_count": 134
  },
  {
   "cell_type": "markdown",
   "source": [
    "Let's count the duplicated rows:"
   ],
   "metadata": {
    "collapsed": false
   },
   "id": "90eacd5fa7ee44c2"
  },
  {
   "cell_type": "code",
   "outputs": [
    {
     "name": "stdout",
     "output_type": "stream",
     "text": [
      "1576\n"
     ]
    }
   ],
   "source": [
    "duplicates_count = useful_set.duplicated().sum()\n",
    "print(duplicates_count)"
   ],
   "metadata": {
    "collapsed": false,
    "ExecuteTime": {
     "end_time": "2024-03-29T10:24:13.403917Z",
     "start_time": "2024-03-29T10:24:13.374532Z"
    }
   },
   "id": "8ef58ec806ccab4e",
   "execution_count": 207
  },
  {
   "cell_type": "markdown",
   "source": [
    "We have a lot of duplicated rows so we have to remove them:"
   ],
   "metadata": {
    "collapsed": false
   },
   "id": "a2c5c167e24c9da9"
  },
  {
   "cell_type": "code",
   "outputs": [
    {
     "data": {
      "text/plain": "           regulatorId regulatorName  \\\n0     RDBECOLITFC00023          GadW   \n1     RDBECOLITFC00023          GadW   \n2     RDBECOLITFC00088          GalR   \n3     RDBECOLITFC00033          GalS   \n4     RDBECOLITFC00027          NagC   \n...                ...           ...   \n2660  RDBECOLITFC00093           Fur   \n2661  RDBECOLITFC00093           Fur   \n2662  RDBECOLITFC00093           Fur   \n2663  RDBECOLITFC00093           Fur   \n2664  RDBECOLITFC00093           Fur   \n\n                                   reg_active_conf_Name  mod_conformation  \\\n0                                                  GadW             False   \n1                                                  GadW             False   \n2                                      GalR-D-galactose              True   \n3                                      GalS-D-galactose              True   \n4                                                  NagC             False   \n...                                                 ...               ...   \n2660  Fur-a [2Fe-2S] iron-sulfur cluster DNA-binding...              True   \n2661  Fur-a [2Fe-2S] iron-sulfur cluster DNA-binding...              True   \n2662  Fur-a [2Fe-2S] iron-sulfur cluster DNA-binding...              True   \n2663  Fur-a [2Fe-2S] iron-sulfur cluster DNA-binding...              True   \n2664  Fur-a [2Fe-2S] iron-sulfur cluster DNA-binding...              True   \n\n                  tuId      tuName               tuGenes  \n0     RDBECOLITUC03133    slp-dctR             dctR;slp;  \n1     RDBECOLITUC03315  hdeAB-yhiD       yhiD;hdeB;hdeA;  \n2     RDBECOLITUC02515        galP                 galP;  \n3     RDBECOLITUC02515        galP                 galP;  \n4     RDBECOLITUC02515        galP                 galP;  \n...                ...         ...                   ...  \n2660  RDBECOLITUC01910        uxaB                 uxaB;  \n2661  RDBECOLITUC03880   fepA-entD            entD;fepA;  \n2662  RDBECOLITUC03881     fhuACDB  fhuB;fhuD;fhuC;fhuA;  \n2663  RDBECOLITUC03882       glnLG            glnG;glnL;  \n2664  RDBECOLITUC03883     dppBCDF  dppF;dppD;dppC;dppB;  \n\n[2665 rows x 7 columns]",
      "text/html": "<div>\n<style scoped>\n    .dataframe tbody tr th:only-of-type {\n        vertical-align: middle;\n    }\n\n    .dataframe tbody tr th {\n        vertical-align: top;\n    }\n\n    .dataframe thead th {\n        text-align: right;\n    }\n</style>\n<table border=\"1\" class=\"dataframe\">\n  <thead>\n    <tr style=\"text-align: right;\">\n      <th></th>\n      <th>regulatorId</th>\n      <th>regulatorName</th>\n      <th>reg_active_conf_Name</th>\n      <th>mod_conformation</th>\n      <th>tuId</th>\n      <th>tuName</th>\n      <th>tuGenes</th>\n    </tr>\n  </thead>\n  <tbody>\n    <tr>\n      <th>0</th>\n      <td>RDBECOLITFC00023</td>\n      <td>GadW</td>\n      <td>GadW</td>\n      <td>False</td>\n      <td>RDBECOLITUC03133</td>\n      <td>slp-dctR</td>\n      <td>dctR;slp;</td>\n    </tr>\n    <tr>\n      <th>1</th>\n      <td>RDBECOLITFC00023</td>\n      <td>GadW</td>\n      <td>GadW</td>\n      <td>False</td>\n      <td>RDBECOLITUC03315</td>\n      <td>hdeAB-yhiD</td>\n      <td>yhiD;hdeB;hdeA;</td>\n    </tr>\n    <tr>\n      <th>2</th>\n      <td>RDBECOLITFC00088</td>\n      <td>GalR</td>\n      <td>GalR-D-galactose</td>\n      <td>True</td>\n      <td>RDBECOLITUC02515</td>\n      <td>galP</td>\n      <td>galP;</td>\n    </tr>\n    <tr>\n      <th>3</th>\n      <td>RDBECOLITFC00033</td>\n      <td>GalS</td>\n      <td>GalS-D-galactose</td>\n      <td>True</td>\n      <td>RDBECOLITUC02515</td>\n      <td>galP</td>\n      <td>galP;</td>\n    </tr>\n    <tr>\n      <th>4</th>\n      <td>RDBECOLITFC00027</td>\n      <td>NagC</td>\n      <td>NagC</td>\n      <td>False</td>\n      <td>RDBECOLITUC02515</td>\n      <td>galP</td>\n      <td>galP;</td>\n    </tr>\n    <tr>\n      <th>...</th>\n      <td>...</td>\n      <td>...</td>\n      <td>...</td>\n      <td>...</td>\n      <td>...</td>\n      <td>...</td>\n      <td>...</td>\n    </tr>\n    <tr>\n      <th>2660</th>\n      <td>RDBECOLITFC00093</td>\n      <td>Fur</td>\n      <td>Fur-a [2Fe-2S] iron-sulfur cluster DNA-binding...</td>\n      <td>True</td>\n      <td>RDBECOLITUC01910</td>\n      <td>uxaB</td>\n      <td>uxaB;</td>\n    </tr>\n    <tr>\n      <th>2661</th>\n      <td>RDBECOLITFC00093</td>\n      <td>Fur</td>\n      <td>Fur-a [2Fe-2S] iron-sulfur cluster DNA-binding...</td>\n      <td>True</td>\n      <td>RDBECOLITUC03880</td>\n      <td>fepA-entD</td>\n      <td>entD;fepA;</td>\n    </tr>\n    <tr>\n      <th>2662</th>\n      <td>RDBECOLITFC00093</td>\n      <td>Fur</td>\n      <td>Fur-a [2Fe-2S] iron-sulfur cluster DNA-binding...</td>\n      <td>True</td>\n      <td>RDBECOLITUC03881</td>\n      <td>fhuACDB</td>\n      <td>fhuB;fhuD;fhuC;fhuA;</td>\n    </tr>\n    <tr>\n      <th>2663</th>\n      <td>RDBECOLITFC00093</td>\n      <td>Fur</td>\n      <td>Fur-a [2Fe-2S] iron-sulfur cluster DNA-binding...</td>\n      <td>True</td>\n      <td>RDBECOLITUC03882</td>\n      <td>glnLG</td>\n      <td>glnG;glnL;</td>\n    </tr>\n    <tr>\n      <th>2664</th>\n      <td>RDBECOLITFC00093</td>\n      <td>Fur</td>\n      <td>Fur-a [2Fe-2S] iron-sulfur cluster DNA-binding...</td>\n      <td>True</td>\n      <td>RDBECOLITUC03883</td>\n      <td>dppBCDF</td>\n      <td>dppF;dppD;dppC;dppB;</td>\n    </tr>\n  </tbody>\n</table>\n<p>2665 rows × 7 columns</p>\n</div>"
     },
     "execution_count": 213,
     "metadata": {},
     "output_type": "execute_result"
    }
   ],
   "source": [
    "no_dupl_set = useful_set.drop_duplicates()\n",
    "no_dupl_set.reset_index(drop = True, inplace = True) # resettin the indeces\n",
    "no_dupl_set"
   ],
   "metadata": {
    "collapsed": false,
    "ExecuteTime": {
     "end_time": "2024-03-29T10:29:10.585530Z",
     "start_time": "2024-03-29T10:29:10.557493Z"
    }
   },
   "id": "9b9b770ac650fd15",
   "execution_count": 213
  },
  {
   "cell_type": "code",
   "outputs": [
    {
     "data": {
      "text/plain": "           regulatorId regulatorName  \\\n0     RDBECOLITFC00023          GadW   \n1     RDBECOLITFC00023          GadW   \n2     RDBECOLITFC00023          GadW   \n3     RDBECOLITFC00023          GadW   \n4     RDBECOLITFC00023          GadW   \n...                ...           ...   \n5939  RDBECOLITFC00093           Fur   \n5940  RDBECOLITFC00093           Fur   \n5941  RDBECOLITFC00093           Fur   \n5942  RDBECOLITFC00093           Fur   \n5943  RDBECOLITFC00093           Fur   \n\n                                   reg_active_conf_Name  mod_conformation  \\\n0                                                  GadW             False   \n1                                                  GadW             False   \n2                                                  GadW             False   \n3                                                  GadW             False   \n4                                                  GadW             False   \n...                                                 ...               ...   \n5939  Fur-a [2Fe-2S] iron-sulfur cluster DNA-binding...              True   \n5940  Fur-a [2Fe-2S] iron-sulfur cluster DNA-binding...              True   \n5941  Fur-a [2Fe-2S] iron-sulfur cluster DNA-binding...              True   \n5942  Fur-a [2Fe-2S] iron-sulfur cluster DNA-binding...              True   \n5943  Fur-a [2Fe-2S] iron-sulfur cluster DNA-binding...              True   \n\n                  tuId      tuName tuGenes  \n0     RDBECOLITUC03133    slp-dctR    dctR  \n1     RDBECOLITUC03133    slp-dctR     slp  \n2     RDBECOLITUC03315  hdeAB-yhiD    yhiD  \n3     RDBECOLITUC03315  hdeAB-yhiD    hdeB  \n4     RDBECOLITUC03315  hdeAB-yhiD    hdeA  \n...                ...         ...     ...  \n5939  RDBECOLITUC03882       glnLG    glnL  \n5940  RDBECOLITUC03883     dppBCDF    dppF  \n5941  RDBECOLITUC03883     dppBCDF    dppD  \n5942  RDBECOLITUC03883     dppBCDF    dppC  \n5943  RDBECOLITUC03883     dppBCDF    dppB  \n\n[5944 rows x 7 columns]",
      "text/html": "<div>\n<style scoped>\n    .dataframe tbody tr th:only-of-type {\n        vertical-align: middle;\n    }\n\n    .dataframe tbody tr th {\n        vertical-align: top;\n    }\n\n    .dataframe thead th {\n        text-align: right;\n    }\n</style>\n<table border=\"1\" class=\"dataframe\">\n  <thead>\n    <tr style=\"text-align: right;\">\n      <th></th>\n      <th>regulatorId</th>\n      <th>regulatorName</th>\n      <th>reg_active_conf_Name</th>\n      <th>mod_conformation</th>\n      <th>tuId</th>\n      <th>tuName</th>\n      <th>tuGenes</th>\n    </tr>\n  </thead>\n  <tbody>\n    <tr>\n      <th>0</th>\n      <td>RDBECOLITFC00023</td>\n      <td>GadW</td>\n      <td>GadW</td>\n      <td>False</td>\n      <td>RDBECOLITUC03133</td>\n      <td>slp-dctR</td>\n      <td>dctR</td>\n    </tr>\n    <tr>\n      <th>1</th>\n      <td>RDBECOLITFC00023</td>\n      <td>GadW</td>\n      <td>GadW</td>\n      <td>False</td>\n      <td>RDBECOLITUC03133</td>\n      <td>slp-dctR</td>\n      <td>slp</td>\n    </tr>\n    <tr>\n      <th>2</th>\n      <td>RDBECOLITFC00023</td>\n      <td>GadW</td>\n      <td>GadW</td>\n      <td>False</td>\n      <td>RDBECOLITUC03315</td>\n      <td>hdeAB-yhiD</td>\n      <td>yhiD</td>\n    </tr>\n    <tr>\n      <th>3</th>\n      <td>RDBECOLITFC00023</td>\n      <td>GadW</td>\n      <td>GadW</td>\n      <td>False</td>\n      <td>RDBECOLITUC03315</td>\n      <td>hdeAB-yhiD</td>\n      <td>hdeB</td>\n    </tr>\n    <tr>\n      <th>4</th>\n      <td>RDBECOLITFC00023</td>\n      <td>GadW</td>\n      <td>GadW</td>\n      <td>False</td>\n      <td>RDBECOLITUC03315</td>\n      <td>hdeAB-yhiD</td>\n      <td>hdeA</td>\n    </tr>\n    <tr>\n      <th>...</th>\n      <td>...</td>\n      <td>...</td>\n      <td>...</td>\n      <td>...</td>\n      <td>...</td>\n      <td>...</td>\n      <td>...</td>\n    </tr>\n    <tr>\n      <th>5939</th>\n      <td>RDBECOLITFC00093</td>\n      <td>Fur</td>\n      <td>Fur-a [2Fe-2S] iron-sulfur cluster DNA-binding...</td>\n      <td>True</td>\n      <td>RDBECOLITUC03882</td>\n      <td>glnLG</td>\n      <td>glnL</td>\n    </tr>\n    <tr>\n      <th>5940</th>\n      <td>RDBECOLITFC00093</td>\n      <td>Fur</td>\n      <td>Fur-a [2Fe-2S] iron-sulfur cluster DNA-binding...</td>\n      <td>True</td>\n      <td>RDBECOLITUC03883</td>\n      <td>dppBCDF</td>\n      <td>dppF</td>\n    </tr>\n    <tr>\n      <th>5941</th>\n      <td>RDBECOLITFC00093</td>\n      <td>Fur</td>\n      <td>Fur-a [2Fe-2S] iron-sulfur cluster DNA-binding...</td>\n      <td>True</td>\n      <td>RDBECOLITUC03883</td>\n      <td>dppBCDF</td>\n      <td>dppD</td>\n    </tr>\n    <tr>\n      <th>5942</th>\n      <td>RDBECOLITFC00093</td>\n      <td>Fur</td>\n      <td>Fur-a [2Fe-2S] iron-sulfur cluster DNA-binding...</td>\n      <td>True</td>\n      <td>RDBECOLITUC03883</td>\n      <td>dppBCDF</td>\n      <td>dppC</td>\n    </tr>\n    <tr>\n      <th>5943</th>\n      <td>RDBECOLITFC00093</td>\n      <td>Fur</td>\n      <td>Fur-a [2Fe-2S] iron-sulfur cluster DNA-binding...</td>\n      <td>True</td>\n      <td>RDBECOLITUC03883</td>\n      <td>dppBCDF</td>\n      <td>dppB</td>\n    </tr>\n  </tbody>\n</table>\n<p>5944 rows × 7 columns</p>\n</div>"
     },
     "execution_count": 214,
     "metadata": {},
     "output_type": "execute_result"
    }
   ],
   "source": [
    "exploded_set = pd.DataFrame()\n",
    "\n",
    "for num in no_dupl_set.index:\n",
    "\n",
    "    row = no_dupl_set.iloc[num, :]\n",
    "\n",
    "    tugenes_list = row['tuGenes'].split(';')\n",
    "    tugenes_list.remove('')\n",
    "    \n",
    "    row = row.drop(['tuGenes'])\n",
    "    \n",
    "    if len(tugenes_list) > 1:\n",
    "        for gene in tugenes_list:\n",
    "            riga = pd.DataFrame([row])\n",
    "            \n",
    "            riga['tuGenes'] = gene\n",
    "            \n",
    "            exploded_set = pd.concat([exploded_set, riga], axis = 'rows')\n",
    "            \n",
    "    else:\n",
    "        gene = tugenes_list[0]\n",
    "        riga = pd.DataFrame([row])\n",
    "        riga['tuGenes'] = gene\n",
    "        exploded_set = pd.concat([exploded_set, riga])\n",
    "        \n",
    "exploded_set.reset_index(drop = True, inplace = True)\n",
    "exploded_set"
   ],
   "metadata": {
    "collapsed": false,
    "ExecuteTime": {
     "end_time": "2024-03-29T10:29:39.740832Z",
     "start_time": "2024-03-29T10:29:25.092870Z"
    }
   },
   "id": "5b6104e409c5def9",
   "execution_count": 214
  },
  {
   "cell_type": "markdown",
   "source": [
    "Searching for duplicates in the `exploded_set`:"
   ],
   "metadata": {
    "collapsed": false
   },
   "id": "26c0e4dbf2cd1baa"
  },
  {
   "cell_type": "code",
   "outputs": [
    {
     "name": "stdout",
     "output_type": "stream",
     "text": [
      "0\n"
     ]
    }
   ],
   "source": [
    "duplicates_count = exploded_set.duplicated().sum()\n",
    "print(duplicates_count)"
   ],
   "metadata": {
    "collapsed": false,
    "ExecuteTime": {
     "end_time": "2024-03-29T10:31:25.318913Z",
     "start_time": "2024-03-29T10:31:25.300169Z"
    }
   },
   "id": "a57c5ec9b30cc235",
   "execution_count": 215
  },
  {
   "cell_type": "markdown",
   "source": [
    "Searching a regulator which needs to be phosphorylated to be active."
   ],
   "metadata": {
    "collapsed": false
   },
   "id": "67178747281b372a"
  },
  {
   "cell_type": "code",
   "outputs": [
    {
     "data": {
      "text/plain": "           regulatorId regulatorName reg_active_conf_Name  mod_conformation  \\\n394   RDBECOLITFC00170          CpxR  CpxR-phosphorylated              True   \n395   RDBECOLITFC00170          CpxR  CpxR-phosphorylated              True   \n396   RDBECOLITFC00170          CpxR  CpxR-phosphorylated              True   \n397   RDBECOLITFC00170          CpxR  CpxR-phosphorylated              True   \n714   RDBECOLITFC00170          CpxR  CpxR-phosphorylated              True   \n...                ...           ...                  ...               ...   \n5392  RDBECOLITFC00170          CpxR  CpxR-phosphorylated              True   \n5799  RDBECOLITFC00170          CpxR  CpxR-phosphorylated              True   \n5800  RDBECOLITFC00170          CpxR  CpxR-phosphorylated              True   \n5801  RDBECOLITFC00170          CpxR  CpxR-phosphorylated              True   \n5802  RDBECOLITFC00170          CpxR  CpxR-phosphorylated              True   \n\n                  tuId     tuName tuGenes  \n394   RDBECOLITUC03415    csgDEFG    csgG  \n395   RDBECOLITUC03415    csgDEFG    csgF  \n396   RDBECOLITUC03415    csgDEFG    csgE  \n397   RDBECOLITUC03415    csgDEFG    csgD  \n714   RDBECOLITUC03413     csgBAC    csgC  \n...                ...        ...     ...  \n5392  RDBECOLITUC02574        tsr     tsr  \n5799  RDBECOLITUC03145      carAB    carA  \n5800  RDBECOLITUC03145      carAB    carB  \n5801  RDBECOLITUC03401  focA-pflB    pflB  \n5802  RDBECOLITUC03401  focA-pflB    focA  \n\n[88 rows x 7 columns]",
      "text/html": "<div>\n<style scoped>\n    .dataframe tbody tr th:only-of-type {\n        vertical-align: middle;\n    }\n\n    .dataframe tbody tr th {\n        vertical-align: top;\n    }\n\n    .dataframe thead th {\n        text-align: right;\n    }\n</style>\n<table border=\"1\" class=\"dataframe\">\n  <thead>\n    <tr style=\"text-align: right;\">\n      <th></th>\n      <th>regulatorId</th>\n      <th>regulatorName</th>\n      <th>reg_active_conf_Name</th>\n      <th>mod_conformation</th>\n      <th>tuId</th>\n      <th>tuName</th>\n      <th>tuGenes</th>\n    </tr>\n  </thead>\n  <tbody>\n    <tr>\n      <th>394</th>\n      <td>RDBECOLITFC00170</td>\n      <td>CpxR</td>\n      <td>CpxR-phosphorylated</td>\n      <td>True</td>\n      <td>RDBECOLITUC03415</td>\n      <td>csgDEFG</td>\n      <td>csgG</td>\n    </tr>\n    <tr>\n      <th>395</th>\n      <td>RDBECOLITFC00170</td>\n      <td>CpxR</td>\n      <td>CpxR-phosphorylated</td>\n      <td>True</td>\n      <td>RDBECOLITUC03415</td>\n      <td>csgDEFG</td>\n      <td>csgF</td>\n    </tr>\n    <tr>\n      <th>396</th>\n      <td>RDBECOLITFC00170</td>\n      <td>CpxR</td>\n      <td>CpxR-phosphorylated</td>\n      <td>True</td>\n      <td>RDBECOLITUC03415</td>\n      <td>csgDEFG</td>\n      <td>csgE</td>\n    </tr>\n    <tr>\n      <th>397</th>\n      <td>RDBECOLITFC00170</td>\n      <td>CpxR</td>\n      <td>CpxR-phosphorylated</td>\n      <td>True</td>\n      <td>RDBECOLITUC03415</td>\n      <td>csgDEFG</td>\n      <td>csgD</td>\n    </tr>\n    <tr>\n      <th>714</th>\n      <td>RDBECOLITFC00170</td>\n      <td>CpxR</td>\n      <td>CpxR-phosphorylated</td>\n      <td>True</td>\n      <td>RDBECOLITUC03413</td>\n      <td>csgBAC</td>\n      <td>csgC</td>\n    </tr>\n    <tr>\n      <th>...</th>\n      <td>...</td>\n      <td>...</td>\n      <td>...</td>\n      <td>...</td>\n      <td>...</td>\n      <td>...</td>\n      <td>...</td>\n    </tr>\n    <tr>\n      <th>5392</th>\n      <td>RDBECOLITFC00170</td>\n      <td>CpxR</td>\n      <td>CpxR-phosphorylated</td>\n      <td>True</td>\n      <td>RDBECOLITUC02574</td>\n      <td>tsr</td>\n      <td>tsr</td>\n    </tr>\n    <tr>\n      <th>5799</th>\n      <td>RDBECOLITFC00170</td>\n      <td>CpxR</td>\n      <td>CpxR-phosphorylated</td>\n      <td>True</td>\n      <td>RDBECOLITUC03145</td>\n      <td>carAB</td>\n      <td>carA</td>\n    </tr>\n    <tr>\n      <th>5800</th>\n      <td>RDBECOLITFC00170</td>\n      <td>CpxR</td>\n      <td>CpxR-phosphorylated</td>\n      <td>True</td>\n      <td>RDBECOLITUC03145</td>\n      <td>carAB</td>\n      <td>carB</td>\n    </tr>\n    <tr>\n      <th>5801</th>\n      <td>RDBECOLITFC00170</td>\n      <td>CpxR</td>\n      <td>CpxR-phosphorylated</td>\n      <td>True</td>\n      <td>RDBECOLITUC03401</td>\n      <td>focA-pflB</td>\n      <td>pflB</td>\n    </tr>\n    <tr>\n      <th>5802</th>\n      <td>RDBECOLITFC00170</td>\n      <td>CpxR</td>\n      <td>CpxR-phosphorylated</td>\n      <td>True</td>\n      <td>RDBECOLITUC03401</td>\n      <td>focA-pflB</td>\n      <td>focA</td>\n    </tr>\n  </tbody>\n</table>\n<p>88 rows × 7 columns</p>\n</div>"
     },
     "execution_count": 224,
     "metadata": {},
     "output_type": "execute_result"
    }
   ],
   "source": [
    "cpxr = exploded_set[exploded_set['regulatorName'] == 'CpxR']\n",
    "cpxr"
   ],
   "metadata": {
    "collapsed": false,
    "ExecuteTime": {
     "end_time": "2024-03-29T10:44:35.406824Z",
     "start_time": "2024-03-29T10:44:35.378190Z"
    }
   },
   "id": "d8d9ad3eaf9d0ff4",
   "execution_count": 224
  },
  {
   "cell_type": "markdown",
   "source": [
    "___\n",
    "___\n",
    "## Correlation tests\n",
    "___\n",
    "\n",
    "### 1) Let's check the normality\n",
    "\n",
    "To check for linearity, we can visually inspect the relationship between the variables using scatter plots. If the relationship appears linear, it suggests that the Pearson correlation coefficient may be appropriate."
   ],
   "metadata": {
    "collapsed": false
   },
   "id": "652e589204c44d3e"
  },
  {
   "cell_type": "markdown",
   "source": [
    "# Assuming you have a DataFrame df with expression data\n",
    "# and a DataFrame tf_target_mapping with TFs and their most important target genes\n",
    "\n",
    "# Example: Extract TF gene expression and most important target gene expression\n",
    "for i in merged_set:\n",
    "    tf_name = merged_set.loc['ecoli_b_id']\n",
    "    for i in useful_set:\n",
    "        if tf_name == useful_set['regulatorName']:\n",
    "            index = useful_set.loc[i]\n",
    "            useful_set['tuGenes'][i] = merged_set\n",
    "        \n",
    "        target = useful_set['tuName']\n",
    "    \n",
    "    tf_gene = df.loc['TF_gene']\n",
    "    target_gene = df.loc[tf_target_mapping['Most_important_target_gene']]\n",
    "    \n",
    "    # Calculate Pearson correlation coefficient\n",
    "    correlation_coefficient = np.corrcoef(tf_gene, target_gene)[0, 1]\n",
    "\n",
    "# Visualize the relationship\n",
    "plt.scatter(tf_gene, target_gene)\n",
    "plt.xlabel('TF Gene Expression')\n",
    "plt.ylabel('Target Gene Expression')\n",
    "plt.title(f'Scatter Plot of TF Gene vs. Most Important Target Gene (Correlation: {correlation_coefficient:.2f})')\n",
    "plt.show()\n"
   ],
   "metadata": {
    "collapsed": false
   },
   "id": "b22c25d5bd01e903"
  }
 ],
 "metadata": {
  "kernelspec": {
   "display_name": "Python 3",
   "language": "python",
   "name": "python3"
  },
  "language_info": {
   "codemirror_mode": {
    "name": "ipython",
    "version": 2
   },
   "file_extension": ".py",
   "mimetype": "text/x-python",
   "name": "python",
   "nbconvert_exporter": "python",
   "pygments_lexer": "ipython2",
   "version": "2.7.6"
  }
 },
 "nbformat": 4,
 "nbformat_minor": 5
}
