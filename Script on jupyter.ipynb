{
 "cells": [
  {
   "cell_type": "code",
   "execution_count": 274,
   "id": "5a13b77eaab17d26",
   "metadata": {
    "collapsed": false,
    "ExecuteTime": {
     "end_time": "2024-03-29T15:53:56.038450Z",
     "start_time": "2024-03-29T15:53:56.029397Z"
    }
   },
   "outputs": [],
   "source": [
    "import pandas as pd\n",
    "import re\n",
    "import matplotlib.pyplot as plt\n",
    "\n",
    "from IPython.core.interactiveshell import InteractiveShell\n",
    "InteractiveShell.ast_node_interactivity = \"all\""
   ]
  },
  {
   "cell_type": "markdown",
   "source": [
    "# Data import and transformation"
   ],
   "metadata": {
    "collapsed": false
   },
   "id": "4f8afdf38c97c69e"
  },
  {
   "cell_type": "markdown",
   "source": [
    "## Data import from RegulonDB:\n",
    "Regulatory interactions between a Transcription Factor and its regulated entity - promoter, gene, or Transcriptional Units (subset of RISet).\n",
    "\n",
    "`TF-RIset_selected`:\n",
    "1) riId. Regulatory interaction (RI) identifier assigned by RegulonDB\n",
    "2) riType. Regulatory interaction type [tf-promoter, tf-tu, tf-gene] as we are considering only tf.\n",
    "3) regulatorId. Transcription Factor (TF) identifier assigned by RegulonDB\n",
    "4) regulatorName. Regulator name\n",
    "5) cnfName. regulator active conformation name [now: \"reg_active_conf_Name\"]\n",
    "19) targetTuOrGene. Transcription unit or gene (id:name) regulated by the TF [now: \"TF_target_TuOrGene\"]\n",
    "27) riPMIDS. PMIDS of the regulatory interaction"
   ],
   "metadata": {
    "collapsed": false
   },
   "id": "920719f6021affca"
  },
  {
   "cell_type": "code",
   "outputs": [
    {
     "data": {
      "text/plain": "(5582, 7)"
     },
     "execution_count": 275,
     "metadata": {},
     "output_type": "execute_result"
    },
    {
     "data": {
      "text/plain": "               riId       riType       regulatorId regulatorName  \\\n0  RDBECOLIRIC00001  tf-promoter  RDBECOLITFC00023          GadW   \n1  RDBECOLIRIC00002  tf-promoter  RDBECOLITFC00023          GadW   \n2  RDBECOLIRIC00003  tf-promoter  RDBECOLITFC00088          GalR   \n3  RDBECOLIRIC00004  tf-promoter  RDBECOLITFC00033          GalS   \n4  RDBECOLIRIC00005  tf-promoter  RDBECOLITFC00088          GalR   \n\n  reg_active_conf_Name           TF_target_TuOrGene  \\\n0                 GadW    RDBECOLITUC03133:slp-dctR   \n1                 GadW  RDBECOLITUC03315:hdeAB-yhiD   \n2     GalR-D-galactose        RDBECOLITUC02515:galP   \n3     GalS-D-galactose        RDBECOLITUC02515:galP   \n4     GalR-D-galactose        RDBECOLITUC02515:galP   \n\n                       riPMIDS  \n0           12730179;18808381   \n1  12730179;18083817;18808381   \n2                    19007420   \n3                    19007420   \n4                    19007420   ",
      "text/html": "<div>\n<style scoped>\n    .dataframe tbody tr th:only-of-type {\n        vertical-align: middle;\n    }\n\n    .dataframe tbody tr th {\n        vertical-align: top;\n    }\n\n    .dataframe thead th {\n        text-align: right;\n    }\n</style>\n<table border=\"1\" class=\"dataframe\">\n  <thead>\n    <tr style=\"text-align: right;\">\n      <th></th>\n      <th>riId</th>\n      <th>riType</th>\n      <th>regulatorId</th>\n      <th>regulatorName</th>\n      <th>reg_active_conf_Name</th>\n      <th>TF_target_TuOrGene</th>\n      <th>riPMIDS</th>\n    </tr>\n  </thead>\n  <tbody>\n    <tr>\n      <th>0</th>\n      <td>RDBECOLIRIC00001</td>\n      <td>tf-promoter</td>\n      <td>RDBECOLITFC00023</td>\n      <td>GadW</td>\n      <td>GadW</td>\n      <td>RDBECOLITUC03133:slp-dctR</td>\n      <td>12730179;18808381</td>\n    </tr>\n    <tr>\n      <th>1</th>\n      <td>RDBECOLIRIC00002</td>\n      <td>tf-promoter</td>\n      <td>RDBECOLITFC00023</td>\n      <td>GadW</td>\n      <td>GadW</td>\n      <td>RDBECOLITUC03315:hdeAB-yhiD</td>\n      <td>12730179;18083817;18808381</td>\n    </tr>\n    <tr>\n      <th>2</th>\n      <td>RDBECOLIRIC00003</td>\n      <td>tf-promoter</td>\n      <td>RDBECOLITFC00088</td>\n      <td>GalR</td>\n      <td>GalR-D-galactose</td>\n      <td>RDBECOLITUC02515:galP</td>\n      <td>19007420</td>\n    </tr>\n    <tr>\n      <th>3</th>\n      <td>RDBECOLIRIC00004</td>\n      <td>tf-promoter</td>\n      <td>RDBECOLITFC00033</td>\n      <td>GalS</td>\n      <td>GalS-D-galactose</td>\n      <td>RDBECOLITUC02515:galP</td>\n      <td>19007420</td>\n    </tr>\n    <tr>\n      <th>4</th>\n      <td>RDBECOLIRIC00005</td>\n      <td>tf-promoter</td>\n      <td>RDBECOLITFC00088</td>\n      <td>GalR</td>\n      <td>GalR-D-galactose</td>\n      <td>RDBECOLITUC02515:galP</td>\n      <td>19007420</td>\n    </tr>\n  </tbody>\n</table>\n</div>"
     },
     "execution_count": 275,
     "metadata": {},
     "output_type": "execute_result"
    }
   ],
   "source": [
    "#tf_riset = pd.read_csv(\"./Data from RegulonDB/TF-RIset_selected.csv\")\n",
    "tf_riset = pd.read_table(\"./Data from RegulonDB/TF-RIset_selected.tsv\", sep=\"\\t\")\n",
    "tf_riset.columns = ['riId','riType','regulatorId','regulatorName','reg_active_conf_Name','TF_target_TuOrGene','riPMIDS'] # \n",
    "\n",
    "tf_riset.shape\n",
    "tf_riset.head()"
   ],
   "metadata": {
    "collapsed": false,
    "ExecuteTime": {
     "end_time": "2024-03-29T15:53:56.456461Z",
     "start_time": "2024-03-29T15:53:56.415755Z"
    }
   },
   "id": "39c343fa9df53e47",
   "execution_count": 275
  },
  {
   "cell_type": "markdown",
   "source": [
    "Transcription units with information of operon, promoter and terminator.\n",
    "\n",
    "`TUset_selected`:\n",
    "1) tuId. Transcription Unit identifier assigned by RegulonDB\n",
    "2) tuName. Transcription unit name\n",
    "3) operonName. Operon name containing the transcription unit\n",
    "4) tuGenes. Name of the gene(s) contained in the transcription unit"
   ],
   "metadata": {
    "collapsed": false
   },
   "id": "62026eabe5a0de4a"
  },
  {
   "cell_type": "code",
   "outputs": [
    {
     "data": {
      "text/plain": "(3718, 4)"
     },
     "execution_count": 276,
     "metadata": {},
     "output_type": "execute_result"
    },
    {
     "data": {
      "text/plain": "                  tuId             tuName            operonName  \\\n0     RDBECOLITUC00080               yjtD                  yjtD   \n1     RDBECOLITUC00081               yaaX                  yaaX   \n2     RDBECOLITUC00082               yaaA                  yaaA   \n3     RDBECOLITUC00083               yaaJ                  yaaJ   \n4     RDBECOLITUC00084                mog                   mog   \n...                ...                ...                   ...   \n3713  RDBECOLITUC03879  ydfABC-dicFB-ydfD  dicB-ydfDE-insD-intQ   \n3714  RDBECOLITUC03880          fepA-entD             fepA-entD   \n3715  RDBECOLITUC03881            fhuACDB               fhuACDB   \n3716  RDBECOLITUC03882              glnLG               glnAZLG   \n3717  RDBECOLITUC03883            dppBCDF              dppABCDF   \n\n                             tuGenes  \n0                              yjtD;  \n1                              yaaX;  \n2                              yaaA;  \n3                              yaaJ;  \n4                               mog;  \n...                              ...  \n3713  ydfD;dicB;dicF;ydfC;ydfB;ydfA;  \n3714                      entD;fepA;  \n3715            fhuB;fhuD;fhuC;fhuA;  \n3716                      glnG;glnL;  \n3717            dppF;dppD;dppC;dppB;  \n\n[3718 rows x 4 columns]",
      "text/html": "<div>\n<style scoped>\n    .dataframe tbody tr th:only-of-type {\n        vertical-align: middle;\n    }\n\n    .dataframe tbody tr th {\n        vertical-align: top;\n    }\n\n    .dataframe thead th {\n        text-align: right;\n    }\n</style>\n<table border=\"1\" class=\"dataframe\">\n  <thead>\n    <tr style=\"text-align: right;\">\n      <th></th>\n      <th>tuId</th>\n      <th>tuName</th>\n      <th>operonName</th>\n      <th>tuGenes</th>\n    </tr>\n  </thead>\n  <tbody>\n    <tr>\n      <th>0</th>\n      <td>RDBECOLITUC00080</td>\n      <td>yjtD</td>\n      <td>yjtD</td>\n      <td>yjtD;</td>\n    </tr>\n    <tr>\n      <th>1</th>\n      <td>RDBECOLITUC00081</td>\n      <td>yaaX</td>\n      <td>yaaX</td>\n      <td>yaaX;</td>\n    </tr>\n    <tr>\n      <th>2</th>\n      <td>RDBECOLITUC00082</td>\n      <td>yaaA</td>\n      <td>yaaA</td>\n      <td>yaaA;</td>\n    </tr>\n    <tr>\n      <th>3</th>\n      <td>RDBECOLITUC00083</td>\n      <td>yaaJ</td>\n      <td>yaaJ</td>\n      <td>yaaJ;</td>\n    </tr>\n    <tr>\n      <th>4</th>\n      <td>RDBECOLITUC00084</td>\n      <td>mog</td>\n      <td>mog</td>\n      <td>mog;</td>\n    </tr>\n    <tr>\n      <th>...</th>\n      <td>...</td>\n      <td>...</td>\n      <td>...</td>\n      <td>...</td>\n    </tr>\n    <tr>\n      <th>3713</th>\n      <td>RDBECOLITUC03879</td>\n      <td>ydfABC-dicFB-ydfD</td>\n      <td>dicB-ydfDE-insD-intQ</td>\n      <td>ydfD;dicB;dicF;ydfC;ydfB;ydfA;</td>\n    </tr>\n    <tr>\n      <th>3714</th>\n      <td>RDBECOLITUC03880</td>\n      <td>fepA-entD</td>\n      <td>fepA-entD</td>\n      <td>entD;fepA;</td>\n    </tr>\n    <tr>\n      <th>3715</th>\n      <td>RDBECOLITUC03881</td>\n      <td>fhuACDB</td>\n      <td>fhuACDB</td>\n      <td>fhuB;fhuD;fhuC;fhuA;</td>\n    </tr>\n    <tr>\n      <th>3716</th>\n      <td>RDBECOLITUC03882</td>\n      <td>glnLG</td>\n      <td>glnAZLG</td>\n      <td>glnG;glnL;</td>\n    </tr>\n    <tr>\n      <th>3717</th>\n      <td>RDBECOLITUC03883</td>\n      <td>dppBCDF</td>\n      <td>dppABCDF</td>\n      <td>dppF;dppD;dppC;dppB;</td>\n    </tr>\n  </tbody>\n</table>\n<p>3718 rows × 4 columns</p>\n</div>"
     },
     "execution_count": 276,
     "metadata": {},
     "output_type": "execute_result"
    }
   ],
   "source": [
    "tuset = pd.read_table(\"./Data from RegulonDB/TUset_selected.tsv\", sep=\"\\t\")\n",
    "tuset.columns = ['tuId','tuName','operonName','tuGenes']\n",
    "\n",
    "tuset.shape\n",
    "tuset"
   ],
   "metadata": {
    "collapsed": false,
    "ExecuteTime": {
     "end_time": "2024-03-29T15:53:56.575524Z",
     "start_time": "2024-03-29T15:53:56.530790Z"
    }
   },
   "id": "f980bea4809b9b99",
   "execution_count": 276
  },
  {
   "cell_type": "markdown",
   "source": [
    "Transcription factors and their conformations (subset of RegulatorSet).\n",
    "\n",
    "`TFset_selected`:\n",
    "1) tfId. Factor (TF) identifier assigned by RegulonDB\n",
    "2) tfName. Name\n",
    "3) tfSynonyms. Synonyms List\n",
    "4) geneCodingForTF. Coding for the TF\n",
    "5) tfActiveConformations. Active Conformations\n",
    "6) tfInactiveConformations. Inactive Conformations\n",
    "17) tfConformationPMID . conformation reference identifier (PMID)"
   ],
   "metadata": {
    "collapsed": false
   },
   "id": "a0553a05e3412ecf"
  },
  {
   "cell_type": "code",
   "outputs": [
    {
     "data": {
      "text/plain": "(240, 7)"
     },
     "execution_count": 277,
     "metadata": {},
     "output_type": "execute_result"
    },
    {
     "data": {
      "text/plain": "               tfId tfName                                         tfSynonyms  \\\n0  RDBECOLITFC00001   ExuR  ExuR;negative regulator of exu regulon, exuT, ...   \n1  RDBECOLITFC00002   AsnC                                               AsnC   \n2  RDBECOLITFC00003    Dan                                      Dan;TtdR;YgiP   \n3  RDBECOLITFC00004   EbgR                                               EbgR   \n4  RDBECOLITFC00005   AgaR                                          YhaW;AgaR   \n\n  geneCodingForTF                              tfActiveConformations  \\\n0            exuR  ExuR;ExuR-&alpha;-D-galacturonate, &alpha;-D-g...   \n1            asnC    DNA-binding transcriptional dual regulator AsnC   \n2            ttdR  Dan-L-tartrate DNA-binding transcriptional act...   \n3            ebgR                                          EbgR;EbgR   \n4            agaR                                          AgaR;AgaR   \n\n      tfInactiveConformations                    tfConformationPMID  \n0  ExuR-&alpha;-D-glucuronate                              6357945   \n1           AsnC-L-asparagine  6357950; 7686882; 16528101; 2864330   \n2                         NaN                   19661178; 20156994   \n3                         NaN                                        \n4                         NaN                             14731281   ",
      "text/html": "<div>\n<style scoped>\n    .dataframe tbody tr th:only-of-type {\n        vertical-align: middle;\n    }\n\n    .dataframe tbody tr th {\n        vertical-align: top;\n    }\n\n    .dataframe thead th {\n        text-align: right;\n    }\n</style>\n<table border=\"1\" class=\"dataframe\">\n  <thead>\n    <tr style=\"text-align: right;\">\n      <th></th>\n      <th>tfId</th>\n      <th>tfName</th>\n      <th>tfSynonyms</th>\n      <th>geneCodingForTF</th>\n      <th>tfActiveConformations</th>\n      <th>tfInactiveConformations</th>\n      <th>tfConformationPMID</th>\n    </tr>\n  </thead>\n  <tbody>\n    <tr>\n      <th>0</th>\n      <td>RDBECOLITFC00001</td>\n      <td>ExuR</td>\n      <td>ExuR;negative regulator of exu regulon, exuT, ...</td>\n      <td>exuR</td>\n      <td>ExuR;ExuR-&amp;alpha;-D-galacturonate, &amp;alpha;-D-g...</td>\n      <td>ExuR-&amp;alpha;-D-glucuronate</td>\n      <td>6357945</td>\n    </tr>\n    <tr>\n      <th>1</th>\n      <td>RDBECOLITFC00002</td>\n      <td>AsnC</td>\n      <td>AsnC</td>\n      <td>asnC</td>\n      <td>DNA-binding transcriptional dual regulator AsnC</td>\n      <td>AsnC-L-asparagine</td>\n      <td>6357950; 7686882; 16528101; 2864330</td>\n    </tr>\n    <tr>\n      <th>2</th>\n      <td>RDBECOLITFC00003</td>\n      <td>Dan</td>\n      <td>Dan;TtdR;YgiP</td>\n      <td>ttdR</td>\n      <td>Dan-L-tartrate DNA-binding transcriptional act...</td>\n      <td>NaN</td>\n      <td>19661178; 20156994</td>\n    </tr>\n    <tr>\n      <th>3</th>\n      <td>RDBECOLITFC00004</td>\n      <td>EbgR</td>\n      <td>EbgR</td>\n      <td>ebgR</td>\n      <td>EbgR;EbgR</td>\n      <td>NaN</td>\n      <td></td>\n    </tr>\n    <tr>\n      <th>4</th>\n      <td>RDBECOLITFC00005</td>\n      <td>AgaR</td>\n      <td>YhaW;AgaR</td>\n      <td>agaR</td>\n      <td>AgaR;AgaR</td>\n      <td>NaN</td>\n      <td>14731281</td>\n    </tr>\n  </tbody>\n</table>\n</div>"
     },
     "execution_count": 277,
     "metadata": {},
     "output_type": "execute_result"
    }
   ],
   "source": [
    "tfset_conf = pd.read_table(\"./Data from RegulonDB/TFset_selected.tsv\", sep = '\\t')\n",
    "tfset_conf.columns = ['tfId','tfName','tfSynonyms','geneCodingForTF', 'tfActiveConformations', 'tfInactiveConformations','tfConformationPMID']\n",
    "\n",
    "tfset_conf.shape\n",
    "tfset_conf.head()"
   ],
   "metadata": {
    "collapsed": false,
    "ExecuteTime": {
     "end_time": "2024-03-29T15:53:56.638545Z",
     "start_time": "2024-03-29T15:53:56.614821Z"
    }
   },
   "id": "98518296dbdcd173",
   "execution_count": 277
  },
  {
   "cell_type": "code",
   "outputs": [
    {
     "data": {
      "text/plain": "0      DNA-binding transcriptional activator EvgA-pho...\n1      DNA-binding transcriptional dual regulator Arc...\n2      DNA-binding transcriptional dual regulator Nar...\n3      DNA-binding transcriptional dual regulator Nar...\n4      DNA-binding transcriptional dual regulator Nar...\n                             ...                        \n817                                  CpxR-phosphorylated\n818                                  CpxR-phosphorylated\n819    DNA-binding transcriptional dual regulator Pho...\n820    DNA-binding transcriptional dual regulator Pho...\n821    DNA-binding transcriptional activator ZraR-pho...\nName: active_when_phosphorylated, Length: 822, dtype: object"
     },
     "execution_count": 278,
     "metadata": {},
     "output_type": "execute_result"
    }
   ],
   "source": [
    "regex = r'.*[Pp]hosphorylated.*'\n",
    "\n",
    "temp_col = pd.Series((i for i in tf_riset['reg_active_conf_Name'] if re.search(regex, i)), name = 'active_when_phosphorylated')\n",
    "temp_col"
   ],
   "metadata": {
    "collapsed": false,
    "ExecuteTime": {
     "end_time": "2024-03-29T15:53:56.795134Z",
     "start_time": "2024-03-29T15:53:56.720784Z"
    }
   },
   "id": "d1e24a4727c4b5a9",
   "execution_count": 278
  },
  {
   "cell_type": "code",
   "outputs": [
    {
     "data": {
      "text/plain": "                  riId       riType       regulatorId regulatorName  \\\n0     RDBECOLIRIC00001  tf-promoter  RDBECOLITFC00023          GadW   \n1     RDBECOLIRIC00002  tf-promoter  RDBECOLITFC00023          GadW   \n2     RDBECOLIRIC00003  tf-promoter  RDBECOLITFC00088          GalR   \n3     RDBECOLIRIC00004  tf-promoter  RDBECOLITFC00033          GalS   \n4     RDBECOLIRIC00005  tf-promoter  RDBECOLITFC00088          GalR   \n...                ...          ...               ...           ...   \n5577  RDBECOLIRIC06256        tf-tu  RDBECOLITFC00093           Fur   \n5578  RDBECOLIRIC06257      tf-gene  RDBECOLITFC00093           Fur   \n5579  RDBECOLIRIC06258      tf-gene  RDBECOLITFC00093           Fur   \n5580  RDBECOLIRIC06259        tf-tu  RDBECOLITFC00093           Fur   \n5581  RDBECOLIRIC06260      tf-gene  RDBECOLITFC00093           Fur   \n\n                                   reg_active_conf_Name  \\\n0                                                  GadW   \n1                                                  GadW   \n2                                      GalR-D-galactose   \n3                                      GalS-D-galactose   \n4                                      GalR-D-galactose   \n...                                                 ...   \n5577  Fur-a [2Fe-2S] iron-sulfur cluster DNA-binding...   \n5578  Fur-a [2Fe-2S] iron-sulfur cluster DNA-binding...   \n5579  Fur-a [2Fe-2S] iron-sulfur cluster DNA-binding...   \n5580  Fur-a [2Fe-2S] iron-sulfur cluster DNA-binding...   \n5581  Fur-a [2Fe-2S] iron-sulfur cluster DNA-binding...   \n\n               TF_target_TuOrGene      TF_target_Id  \\\n0       RDBECOLITUC03133:slp-dctR  RDBECOLITUC03133   \n1     RDBECOLITUC03315:hdeAB-yhiD  RDBECOLITUC03315   \n2           RDBECOLITUC02515:galP  RDBECOLITUC02515   \n3           RDBECOLITUC02515:galP  RDBECOLITUC02515   \n4           RDBECOLITUC02515:galP  RDBECOLITUC02515   \n...                           ...               ...   \n5577       RDBECOLITUC03882:glnLG  RDBECOLITUC03882   \n5578        RDBECOLIGNC01387:waaL  RDBECOLIGNC01387   \n5579        RDBECOLIGNC02391:ybaN  RDBECOLIGNC02391   \n5580     RDBECOLITUC03883:dppBCDF  RDBECOLITUC03883   \n5581        RDBECOLIGNC00151:cirA  RDBECOLIGNC00151   \n\n                          riPMIDS  \n0              12730179;18808381   \n1     12730179;18083817;18808381   \n2                       19007420   \n3                       19007420   \n4                       19007420   \n...                           ...  \n5577                    37026477   \n5578                    37026477   \n5579                    37026477   \n5580                    37026477   \n5581                     37026477  \n\n[5582 rows x 8 columns]",
      "text/html": "<div>\n<style scoped>\n    .dataframe tbody tr th:only-of-type {\n        vertical-align: middle;\n    }\n\n    .dataframe tbody tr th {\n        vertical-align: top;\n    }\n\n    .dataframe thead th {\n        text-align: right;\n    }\n</style>\n<table border=\"1\" class=\"dataframe\">\n  <thead>\n    <tr style=\"text-align: right;\">\n      <th></th>\n      <th>riId</th>\n      <th>riType</th>\n      <th>regulatorId</th>\n      <th>regulatorName</th>\n      <th>reg_active_conf_Name</th>\n      <th>TF_target_TuOrGene</th>\n      <th>TF_target_Id</th>\n      <th>riPMIDS</th>\n    </tr>\n  </thead>\n  <tbody>\n    <tr>\n      <th>0</th>\n      <td>RDBECOLIRIC00001</td>\n      <td>tf-promoter</td>\n      <td>RDBECOLITFC00023</td>\n      <td>GadW</td>\n      <td>GadW</td>\n      <td>RDBECOLITUC03133:slp-dctR</td>\n      <td>RDBECOLITUC03133</td>\n      <td>12730179;18808381</td>\n    </tr>\n    <tr>\n      <th>1</th>\n      <td>RDBECOLIRIC00002</td>\n      <td>tf-promoter</td>\n      <td>RDBECOLITFC00023</td>\n      <td>GadW</td>\n      <td>GadW</td>\n      <td>RDBECOLITUC03315:hdeAB-yhiD</td>\n      <td>RDBECOLITUC03315</td>\n      <td>12730179;18083817;18808381</td>\n    </tr>\n    <tr>\n      <th>2</th>\n      <td>RDBECOLIRIC00003</td>\n      <td>tf-promoter</td>\n      <td>RDBECOLITFC00088</td>\n      <td>GalR</td>\n      <td>GalR-D-galactose</td>\n      <td>RDBECOLITUC02515:galP</td>\n      <td>RDBECOLITUC02515</td>\n      <td>19007420</td>\n    </tr>\n    <tr>\n      <th>3</th>\n      <td>RDBECOLIRIC00004</td>\n      <td>tf-promoter</td>\n      <td>RDBECOLITFC00033</td>\n      <td>GalS</td>\n      <td>GalS-D-galactose</td>\n      <td>RDBECOLITUC02515:galP</td>\n      <td>RDBECOLITUC02515</td>\n      <td>19007420</td>\n    </tr>\n    <tr>\n      <th>4</th>\n      <td>RDBECOLIRIC00005</td>\n      <td>tf-promoter</td>\n      <td>RDBECOLITFC00088</td>\n      <td>GalR</td>\n      <td>GalR-D-galactose</td>\n      <td>RDBECOLITUC02515:galP</td>\n      <td>RDBECOLITUC02515</td>\n      <td>19007420</td>\n    </tr>\n    <tr>\n      <th>...</th>\n      <td>...</td>\n      <td>...</td>\n      <td>...</td>\n      <td>...</td>\n      <td>...</td>\n      <td>...</td>\n      <td>...</td>\n      <td>...</td>\n    </tr>\n    <tr>\n      <th>5577</th>\n      <td>RDBECOLIRIC06256</td>\n      <td>tf-tu</td>\n      <td>RDBECOLITFC00093</td>\n      <td>Fur</td>\n      <td>Fur-a [2Fe-2S] iron-sulfur cluster DNA-binding...</td>\n      <td>RDBECOLITUC03882:glnLG</td>\n      <td>RDBECOLITUC03882</td>\n      <td>37026477</td>\n    </tr>\n    <tr>\n      <th>5578</th>\n      <td>RDBECOLIRIC06257</td>\n      <td>tf-gene</td>\n      <td>RDBECOLITFC00093</td>\n      <td>Fur</td>\n      <td>Fur-a [2Fe-2S] iron-sulfur cluster DNA-binding...</td>\n      <td>RDBECOLIGNC01387:waaL</td>\n      <td>RDBECOLIGNC01387</td>\n      <td>37026477</td>\n    </tr>\n    <tr>\n      <th>5579</th>\n      <td>RDBECOLIRIC06258</td>\n      <td>tf-gene</td>\n      <td>RDBECOLITFC00093</td>\n      <td>Fur</td>\n      <td>Fur-a [2Fe-2S] iron-sulfur cluster DNA-binding...</td>\n      <td>RDBECOLIGNC02391:ybaN</td>\n      <td>RDBECOLIGNC02391</td>\n      <td>37026477</td>\n    </tr>\n    <tr>\n      <th>5580</th>\n      <td>RDBECOLIRIC06259</td>\n      <td>tf-tu</td>\n      <td>RDBECOLITFC00093</td>\n      <td>Fur</td>\n      <td>Fur-a [2Fe-2S] iron-sulfur cluster DNA-binding...</td>\n      <td>RDBECOLITUC03883:dppBCDF</td>\n      <td>RDBECOLITUC03883</td>\n      <td>37026477</td>\n    </tr>\n    <tr>\n      <th>5581</th>\n      <td>RDBECOLIRIC06260</td>\n      <td>tf-gene</td>\n      <td>RDBECOLITFC00093</td>\n      <td>Fur</td>\n      <td>Fur-a [2Fe-2S] iron-sulfur cluster DNA-binding...</td>\n      <td>RDBECOLIGNC00151:cirA</td>\n      <td>RDBECOLIGNC00151</td>\n      <td>37026477</td>\n    </tr>\n  </tbody>\n</table>\n<p>5582 rows × 8 columns</p>\n</div>"
     },
     "execution_count": 279,
     "metadata": {},
     "output_type": "execute_result"
    }
   ],
   "source": [
    "#tf_riset.pop('TF_target_Id')\n",
    "ins_col = tf_riset['TF_target_TuOrGene'].str[:16]\n",
    "tf_riset.insert(6, 'TF_target_Id', ins_col)\n",
    "\n",
    "tf_riset"
   ],
   "metadata": {
    "collapsed": false,
    "ExecuteTime": {
     "end_time": "2024-03-29T15:53:56.939033Z",
     "start_time": "2024-03-29T15:53:56.898293Z"
    }
   },
   "id": "53b3626deec441db",
   "execution_count": 279
  },
  {
   "cell_type": "markdown",
   "source": [
    "Let's merge the TF-RIset and the TUset."
   ],
   "metadata": {
    "collapsed": false
   },
   "id": "3d44c7a2c59d9f81"
  },
  {
   "cell_type": "code",
   "outputs": [
    {
     "data": {
      "text/plain": "                  riId       riType       regulatorId regulatorName  \\\n0     RDBECOLIRIC00001  tf-promoter  RDBECOLITFC00023          GadW   \n1     RDBECOLIRIC00002  tf-promoter  RDBECOLITFC00023          GadW   \n2     RDBECOLIRIC00003  tf-promoter  RDBECOLITFC00088          GalR   \n3     RDBECOLIRIC00004  tf-promoter  RDBECOLITFC00033          GalS   \n4     RDBECOLIRIC00005  tf-promoter  RDBECOLITFC00088          GalR   \n...                ...          ...               ...           ...   \n4236  RDBECOLIRIC06252  tf-promoter  RDBECOLITFC00093           Fur   \n4237  RDBECOLIRIC06253        tf-tu  RDBECOLITFC00093           Fur   \n4238  RDBECOLIRIC06255        tf-tu  RDBECOLITFC00093           Fur   \n4239  RDBECOLIRIC06256        tf-tu  RDBECOLITFC00093           Fur   \n4240  RDBECOLIRIC06259        tf-tu  RDBECOLITFC00093           Fur   \n\n                                   reg_active_conf_Name  \\\n0                                                  GadW   \n1                                                  GadW   \n2                                      GalR-D-galactose   \n3                                      GalS-D-galactose   \n4                                      GalR-D-galactose   \n...                                                 ...   \n4236  Fur-a [2Fe-2S] iron-sulfur cluster DNA-binding...   \n4237  Fur-a [2Fe-2S] iron-sulfur cluster DNA-binding...   \n4238  Fur-a [2Fe-2S] iron-sulfur cluster DNA-binding...   \n4239  Fur-a [2Fe-2S] iron-sulfur cluster DNA-binding...   \n4240  Fur-a [2Fe-2S] iron-sulfur cluster DNA-binding...   \n\n               TF_target_TuOrGene      TF_target_Id  \\\n0       RDBECOLITUC03133:slp-dctR  RDBECOLITUC03133   \n1     RDBECOLITUC03315:hdeAB-yhiD  RDBECOLITUC03315   \n2           RDBECOLITUC02515:galP  RDBECOLITUC02515   \n3           RDBECOLITUC02515:galP  RDBECOLITUC02515   \n4           RDBECOLITUC02515:galP  RDBECOLITUC02515   \n...                           ...               ...   \n4236        RDBECOLITUC01910:uxaB  RDBECOLITUC01910   \n4237   RDBECOLITUC03880:fepA-entD  RDBECOLITUC03880   \n4238     RDBECOLITUC03881:fhuACDB  RDBECOLITUC03881   \n4239       RDBECOLITUC03882:glnLG  RDBECOLITUC03882   \n4240     RDBECOLITUC03883:dppBCDF  RDBECOLITUC03883   \n\n                          riPMIDS              tuId      tuName  operonName  \\\n0              12730179;18808381   RDBECOLITUC03133    slp-dctR    slp-dctR   \n1     12730179;18083817;18808381   RDBECOLITUC03315  hdeAB-yhiD  hdeAB-yhiD   \n2                       19007420   RDBECOLITUC02515        galP        galP   \n3                       19007420   RDBECOLITUC02515        galP        galP   \n4                       19007420   RDBECOLITUC02515        galP        galP   \n...                           ...               ...         ...         ...   \n4236                    37026477   RDBECOLITUC01910        uxaB        uxaB   \n4237                    37026477   RDBECOLITUC03880   fepA-entD   fepA-entD   \n4238                    37026477   RDBECOLITUC03881     fhuACDB     fhuACDB   \n4239                    37026477   RDBECOLITUC03882       glnLG     glnAZLG   \n4240                    37026477   RDBECOLITUC03883     dppBCDF    dppABCDF   \n\n                   tuGenes  \n0                dctR;slp;  \n1          yhiD;hdeB;hdeA;  \n2                    galP;  \n3                    galP;  \n4                    galP;  \n...                    ...  \n4236                 uxaB;  \n4237            entD;fepA;  \n4238  fhuB;fhuD;fhuC;fhuA;  \n4239            glnG;glnL;  \n4240  dppF;dppD;dppC;dppB;  \n\n[4241 rows x 12 columns]",
      "text/html": "<div>\n<style scoped>\n    .dataframe tbody tr th:only-of-type {\n        vertical-align: middle;\n    }\n\n    .dataframe tbody tr th {\n        vertical-align: top;\n    }\n\n    .dataframe thead th {\n        text-align: right;\n    }\n</style>\n<table border=\"1\" class=\"dataframe\">\n  <thead>\n    <tr style=\"text-align: right;\">\n      <th></th>\n      <th>riId</th>\n      <th>riType</th>\n      <th>regulatorId</th>\n      <th>regulatorName</th>\n      <th>reg_active_conf_Name</th>\n      <th>TF_target_TuOrGene</th>\n      <th>TF_target_Id</th>\n      <th>riPMIDS</th>\n      <th>tuId</th>\n      <th>tuName</th>\n      <th>operonName</th>\n      <th>tuGenes</th>\n    </tr>\n  </thead>\n  <tbody>\n    <tr>\n      <th>0</th>\n      <td>RDBECOLIRIC00001</td>\n      <td>tf-promoter</td>\n      <td>RDBECOLITFC00023</td>\n      <td>GadW</td>\n      <td>GadW</td>\n      <td>RDBECOLITUC03133:slp-dctR</td>\n      <td>RDBECOLITUC03133</td>\n      <td>12730179;18808381</td>\n      <td>RDBECOLITUC03133</td>\n      <td>slp-dctR</td>\n      <td>slp-dctR</td>\n      <td>dctR;slp;</td>\n    </tr>\n    <tr>\n      <th>1</th>\n      <td>RDBECOLIRIC00002</td>\n      <td>tf-promoter</td>\n      <td>RDBECOLITFC00023</td>\n      <td>GadW</td>\n      <td>GadW</td>\n      <td>RDBECOLITUC03315:hdeAB-yhiD</td>\n      <td>RDBECOLITUC03315</td>\n      <td>12730179;18083817;18808381</td>\n      <td>RDBECOLITUC03315</td>\n      <td>hdeAB-yhiD</td>\n      <td>hdeAB-yhiD</td>\n      <td>yhiD;hdeB;hdeA;</td>\n    </tr>\n    <tr>\n      <th>2</th>\n      <td>RDBECOLIRIC00003</td>\n      <td>tf-promoter</td>\n      <td>RDBECOLITFC00088</td>\n      <td>GalR</td>\n      <td>GalR-D-galactose</td>\n      <td>RDBECOLITUC02515:galP</td>\n      <td>RDBECOLITUC02515</td>\n      <td>19007420</td>\n      <td>RDBECOLITUC02515</td>\n      <td>galP</td>\n      <td>galP</td>\n      <td>galP;</td>\n    </tr>\n    <tr>\n      <th>3</th>\n      <td>RDBECOLIRIC00004</td>\n      <td>tf-promoter</td>\n      <td>RDBECOLITFC00033</td>\n      <td>GalS</td>\n      <td>GalS-D-galactose</td>\n      <td>RDBECOLITUC02515:galP</td>\n      <td>RDBECOLITUC02515</td>\n      <td>19007420</td>\n      <td>RDBECOLITUC02515</td>\n      <td>galP</td>\n      <td>galP</td>\n      <td>galP;</td>\n    </tr>\n    <tr>\n      <th>4</th>\n      <td>RDBECOLIRIC00005</td>\n      <td>tf-promoter</td>\n      <td>RDBECOLITFC00088</td>\n      <td>GalR</td>\n      <td>GalR-D-galactose</td>\n      <td>RDBECOLITUC02515:galP</td>\n      <td>RDBECOLITUC02515</td>\n      <td>19007420</td>\n      <td>RDBECOLITUC02515</td>\n      <td>galP</td>\n      <td>galP</td>\n      <td>galP;</td>\n    </tr>\n    <tr>\n      <th>...</th>\n      <td>...</td>\n      <td>...</td>\n      <td>...</td>\n      <td>...</td>\n      <td>...</td>\n      <td>...</td>\n      <td>...</td>\n      <td>...</td>\n      <td>...</td>\n      <td>...</td>\n      <td>...</td>\n      <td>...</td>\n    </tr>\n    <tr>\n      <th>4236</th>\n      <td>RDBECOLIRIC06252</td>\n      <td>tf-promoter</td>\n      <td>RDBECOLITFC00093</td>\n      <td>Fur</td>\n      <td>Fur-a [2Fe-2S] iron-sulfur cluster DNA-binding...</td>\n      <td>RDBECOLITUC01910:uxaB</td>\n      <td>RDBECOLITUC01910</td>\n      <td>37026477</td>\n      <td>RDBECOLITUC01910</td>\n      <td>uxaB</td>\n      <td>uxaB</td>\n      <td>uxaB;</td>\n    </tr>\n    <tr>\n      <th>4237</th>\n      <td>RDBECOLIRIC06253</td>\n      <td>tf-tu</td>\n      <td>RDBECOLITFC00093</td>\n      <td>Fur</td>\n      <td>Fur-a [2Fe-2S] iron-sulfur cluster DNA-binding...</td>\n      <td>RDBECOLITUC03880:fepA-entD</td>\n      <td>RDBECOLITUC03880</td>\n      <td>37026477</td>\n      <td>RDBECOLITUC03880</td>\n      <td>fepA-entD</td>\n      <td>fepA-entD</td>\n      <td>entD;fepA;</td>\n    </tr>\n    <tr>\n      <th>4238</th>\n      <td>RDBECOLIRIC06255</td>\n      <td>tf-tu</td>\n      <td>RDBECOLITFC00093</td>\n      <td>Fur</td>\n      <td>Fur-a [2Fe-2S] iron-sulfur cluster DNA-binding...</td>\n      <td>RDBECOLITUC03881:fhuACDB</td>\n      <td>RDBECOLITUC03881</td>\n      <td>37026477</td>\n      <td>RDBECOLITUC03881</td>\n      <td>fhuACDB</td>\n      <td>fhuACDB</td>\n      <td>fhuB;fhuD;fhuC;fhuA;</td>\n    </tr>\n    <tr>\n      <th>4239</th>\n      <td>RDBECOLIRIC06256</td>\n      <td>tf-tu</td>\n      <td>RDBECOLITFC00093</td>\n      <td>Fur</td>\n      <td>Fur-a [2Fe-2S] iron-sulfur cluster DNA-binding...</td>\n      <td>RDBECOLITUC03882:glnLG</td>\n      <td>RDBECOLITUC03882</td>\n      <td>37026477</td>\n      <td>RDBECOLITUC03882</td>\n      <td>glnLG</td>\n      <td>glnAZLG</td>\n      <td>glnG;glnL;</td>\n    </tr>\n    <tr>\n      <th>4240</th>\n      <td>RDBECOLIRIC06259</td>\n      <td>tf-tu</td>\n      <td>RDBECOLITFC00093</td>\n      <td>Fur</td>\n      <td>Fur-a [2Fe-2S] iron-sulfur cluster DNA-binding...</td>\n      <td>RDBECOLITUC03883:dppBCDF</td>\n      <td>RDBECOLITUC03883</td>\n      <td>37026477</td>\n      <td>RDBECOLITUC03883</td>\n      <td>dppBCDF</td>\n      <td>dppABCDF</td>\n      <td>dppF;dppD;dppC;dppB;</td>\n    </tr>\n  </tbody>\n</table>\n<p>4241 rows × 12 columns</p>\n</div>"
     },
     "execution_count": 280,
     "metadata": {},
     "output_type": "execute_result"
    }
   ],
   "source": [
    "temp_merge = tf_riset.merge(tuset, left_on = 'TF_target_Id', right_on='tuId', how = 'inner')\n",
    "temp_merge"
   ],
   "metadata": {
    "collapsed": false,
    "ExecuteTime": {
     "end_time": "2024-03-29T15:53:57.118133Z",
     "start_time": "2024-03-29T15:53:57.089218Z"
    }
   },
   "id": "156cd407cc18bdc",
   "execution_count": 280
  },
  {
   "cell_type": "code",
   "outputs": [],
   "source": [
    "temp_merge['mod_conformation'] = temp_merge['regulatorName'] != temp_merge['reg_active_conf_Name']"
   ],
   "metadata": {
    "collapsed": false,
    "ExecuteTime": {
     "end_time": "2024-03-29T15:53:57.293872Z",
     "start_time": "2024-03-29T15:53:57.285870Z"
    }
   },
   "id": "b25195f72ed2cf55",
   "execution_count": 281
  },
  {
   "cell_type": "code",
   "outputs": [
    {
     "data": {
      "text/plain": "                  riId       riType       regulatorId regulatorName  \\\n0     RDBECOLIRIC00001  tf-promoter  RDBECOLITFC00023          GadW   \n1     RDBECOLIRIC00002  tf-promoter  RDBECOLITFC00023          GadW   \n2     RDBECOLIRIC00003  tf-promoter  RDBECOLITFC00088          GalR   \n3     RDBECOLIRIC00004  tf-promoter  RDBECOLITFC00033          GalS   \n4     RDBECOLIRIC00005  tf-promoter  RDBECOLITFC00088          GalR   \n...                ...          ...               ...           ...   \n4236  RDBECOLIRIC06252  tf-promoter  RDBECOLITFC00093           Fur   \n4237  RDBECOLIRIC06253        tf-tu  RDBECOLITFC00093           Fur   \n4238  RDBECOLIRIC06255        tf-tu  RDBECOLITFC00093           Fur   \n4239  RDBECOLIRIC06256        tf-tu  RDBECOLITFC00093           Fur   \n4240  RDBECOLIRIC06259        tf-tu  RDBECOLITFC00093           Fur   \n\n                                   reg_active_conf_Name  \\\n0                                                  GadW   \n1                                                  GadW   \n2                                      GalR-D-galactose   \n3                                      GalS-D-galactose   \n4                                      GalR-D-galactose   \n...                                                 ...   \n4236  Fur-a [2Fe-2S] iron-sulfur cluster DNA-binding...   \n4237  Fur-a [2Fe-2S] iron-sulfur cluster DNA-binding...   \n4238  Fur-a [2Fe-2S] iron-sulfur cluster DNA-binding...   \n4239  Fur-a [2Fe-2S] iron-sulfur cluster DNA-binding...   \n4240  Fur-a [2Fe-2S] iron-sulfur cluster DNA-binding...   \n\n               TF_target_TuOrGene      TF_target_Id  \\\n0       RDBECOLITUC03133:slp-dctR  RDBECOLITUC03133   \n1     RDBECOLITUC03315:hdeAB-yhiD  RDBECOLITUC03315   \n2           RDBECOLITUC02515:galP  RDBECOLITUC02515   \n3           RDBECOLITUC02515:galP  RDBECOLITUC02515   \n4           RDBECOLITUC02515:galP  RDBECOLITUC02515   \n...                           ...               ...   \n4236        RDBECOLITUC01910:uxaB  RDBECOLITUC01910   \n4237   RDBECOLITUC03880:fepA-entD  RDBECOLITUC03880   \n4238     RDBECOLITUC03881:fhuACDB  RDBECOLITUC03881   \n4239       RDBECOLITUC03882:glnLG  RDBECOLITUC03882   \n4240     RDBECOLITUC03883:dppBCDF  RDBECOLITUC03883   \n\n                          riPMIDS              tuId      tuName  operonName  \\\n0              12730179;18808381   RDBECOLITUC03133    slp-dctR    slp-dctR   \n1     12730179;18083817;18808381   RDBECOLITUC03315  hdeAB-yhiD  hdeAB-yhiD   \n2                       19007420   RDBECOLITUC02515        galP        galP   \n3                       19007420   RDBECOLITUC02515        galP        galP   \n4                       19007420   RDBECOLITUC02515        galP        galP   \n...                           ...               ...         ...         ...   \n4236                    37026477   RDBECOLITUC01910        uxaB        uxaB   \n4237                    37026477   RDBECOLITUC03880   fepA-entD   fepA-entD   \n4238                    37026477   RDBECOLITUC03881     fhuACDB     fhuACDB   \n4239                    37026477   RDBECOLITUC03882       glnLG     glnAZLG   \n4240                    37026477   RDBECOLITUC03883     dppBCDF    dppABCDF   \n\n                   tuGenes  mod_conformation  \n0                dctR;slp;             False  \n1          yhiD;hdeB;hdeA;             False  \n2                    galP;              True  \n3                    galP;              True  \n4                    galP;              True  \n...                    ...               ...  \n4236                 uxaB;              True  \n4237            entD;fepA;              True  \n4238  fhuB;fhuD;fhuC;fhuA;              True  \n4239            glnG;glnL;              True  \n4240  dppF;dppD;dppC;dppB;              True  \n\n[4241 rows x 13 columns]",
      "text/html": "<div>\n<style scoped>\n    .dataframe tbody tr th:only-of-type {\n        vertical-align: middle;\n    }\n\n    .dataframe tbody tr th {\n        vertical-align: top;\n    }\n\n    .dataframe thead th {\n        text-align: right;\n    }\n</style>\n<table border=\"1\" class=\"dataframe\">\n  <thead>\n    <tr style=\"text-align: right;\">\n      <th></th>\n      <th>riId</th>\n      <th>riType</th>\n      <th>regulatorId</th>\n      <th>regulatorName</th>\n      <th>reg_active_conf_Name</th>\n      <th>TF_target_TuOrGene</th>\n      <th>TF_target_Id</th>\n      <th>riPMIDS</th>\n      <th>tuId</th>\n      <th>tuName</th>\n      <th>operonName</th>\n      <th>tuGenes</th>\n      <th>mod_conformation</th>\n    </tr>\n  </thead>\n  <tbody>\n    <tr>\n      <th>0</th>\n      <td>RDBECOLIRIC00001</td>\n      <td>tf-promoter</td>\n      <td>RDBECOLITFC00023</td>\n      <td>GadW</td>\n      <td>GadW</td>\n      <td>RDBECOLITUC03133:slp-dctR</td>\n      <td>RDBECOLITUC03133</td>\n      <td>12730179;18808381</td>\n      <td>RDBECOLITUC03133</td>\n      <td>slp-dctR</td>\n      <td>slp-dctR</td>\n      <td>dctR;slp;</td>\n      <td>False</td>\n    </tr>\n    <tr>\n      <th>1</th>\n      <td>RDBECOLIRIC00002</td>\n      <td>tf-promoter</td>\n      <td>RDBECOLITFC00023</td>\n      <td>GadW</td>\n      <td>GadW</td>\n      <td>RDBECOLITUC03315:hdeAB-yhiD</td>\n      <td>RDBECOLITUC03315</td>\n      <td>12730179;18083817;18808381</td>\n      <td>RDBECOLITUC03315</td>\n      <td>hdeAB-yhiD</td>\n      <td>hdeAB-yhiD</td>\n      <td>yhiD;hdeB;hdeA;</td>\n      <td>False</td>\n    </tr>\n    <tr>\n      <th>2</th>\n      <td>RDBECOLIRIC00003</td>\n      <td>tf-promoter</td>\n      <td>RDBECOLITFC00088</td>\n      <td>GalR</td>\n      <td>GalR-D-galactose</td>\n      <td>RDBECOLITUC02515:galP</td>\n      <td>RDBECOLITUC02515</td>\n      <td>19007420</td>\n      <td>RDBECOLITUC02515</td>\n      <td>galP</td>\n      <td>galP</td>\n      <td>galP;</td>\n      <td>True</td>\n    </tr>\n    <tr>\n      <th>3</th>\n      <td>RDBECOLIRIC00004</td>\n      <td>tf-promoter</td>\n      <td>RDBECOLITFC00033</td>\n      <td>GalS</td>\n      <td>GalS-D-galactose</td>\n      <td>RDBECOLITUC02515:galP</td>\n      <td>RDBECOLITUC02515</td>\n      <td>19007420</td>\n      <td>RDBECOLITUC02515</td>\n      <td>galP</td>\n      <td>galP</td>\n      <td>galP;</td>\n      <td>True</td>\n    </tr>\n    <tr>\n      <th>4</th>\n      <td>RDBECOLIRIC00005</td>\n      <td>tf-promoter</td>\n      <td>RDBECOLITFC00088</td>\n      <td>GalR</td>\n      <td>GalR-D-galactose</td>\n      <td>RDBECOLITUC02515:galP</td>\n      <td>RDBECOLITUC02515</td>\n      <td>19007420</td>\n      <td>RDBECOLITUC02515</td>\n      <td>galP</td>\n      <td>galP</td>\n      <td>galP;</td>\n      <td>True</td>\n    </tr>\n    <tr>\n      <th>...</th>\n      <td>...</td>\n      <td>...</td>\n      <td>...</td>\n      <td>...</td>\n      <td>...</td>\n      <td>...</td>\n      <td>...</td>\n      <td>...</td>\n      <td>...</td>\n      <td>...</td>\n      <td>...</td>\n      <td>...</td>\n      <td>...</td>\n    </tr>\n    <tr>\n      <th>4236</th>\n      <td>RDBECOLIRIC06252</td>\n      <td>tf-promoter</td>\n      <td>RDBECOLITFC00093</td>\n      <td>Fur</td>\n      <td>Fur-a [2Fe-2S] iron-sulfur cluster DNA-binding...</td>\n      <td>RDBECOLITUC01910:uxaB</td>\n      <td>RDBECOLITUC01910</td>\n      <td>37026477</td>\n      <td>RDBECOLITUC01910</td>\n      <td>uxaB</td>\n      <td>uxaB</td>\n      <td>uxaB;</td>\n      <td>True</td>\n    </tr>\n    <tr>\n      <th>4237</th>\n      <td>RDBECOLIRIC06253</td>\n      <td>tf-tu</td>\n      <td>RDBECOLITFC00093</td>\n      <td>Fur</td>\n      <td>Fur-a [2Fe-2S] iron-sulfur cluster DNA-binding...</td>\n      <td>RDBECOLITUC03880:fepA-entD</td>\n      <td>RDBECOLITUC03880</td>\n      <td>37026477</td>\n      <td>RDBECOLITUC03880</td>\n      <td>fepA-entD</td>\n      <td>fepA-entD</td>\n      <td>entD;fepA;</td>\n      <td>True</td>\n    </tr>\n    <tr>\n      <th>4238</th>\n      <td>RDBECOLIRIC06255</td>\n      <td>tf-tu</td>\n      <td>RDBECOLITFC00093</td>\n      <td>Fur</td>\n      <td>Fur-a [2Fe-2S] iron-sulfur cluster DNA-binding...</td>\n      <td>RDBECOLITUC03881:fhuACDB</td>\n      <td>RDBECOLITUC03881</td>\n      <td>37026477</td>\n      <td>RDBECOLITUC03881</td>\n      <td>fhuACDB</td>\n      <td>fhuACDB</td>\n      <td>fhuB;fhuD;fhuC;fhuA;</td>\n      <td>True</td>\n    </tr>\n    <tr>\n      <th>4239</th>\n      <td>RDBECOLIRIC06256</td>\n      <td>tf-tu</td>\n      <td>RDBECOLITFC00093</td>\n      <td>Fur</td>\n      <td>Fur-a [2Fe-2S] iron-sulfur cluster DNA-binding...</td>\n      <td>RDBECOLITUC03882:glnLG</td>\n      <td>RDBECOLITUC03882</td>\n      <td>37026477</td>\n      <td>RDBECOLITUC03882</td>\n      <td>glnLG</td>\n      <td>glnAZLG</td>\n      <td>glnG;glnL;</td>\n      <td>True</td>\n    </tr>\n    <tr>\n      <th>4240</th>\n      <td>RDBECOLIRIC06259</td>\n      <td>tf-tu</td>\n      <td>RDBECOLITFC00093</td>\n      <td>Fur</td>\n      <td>Fur-a [2Fe-2S] iron-sulfur cluster DNA-binding...</td>\n      <td>RDBECOLITUC03883:dppBCDF</td>\n      <td>RDBECOLITUC03883</td>\n      <td>37026477</td>\n      <td>RDBECOLITUC03883</td>\n      <td>dppBCDF</td>\n      <td>dppABCDF</td>\n      <td>dppF;dppD;dppC;dppB;</td>\n      <td>True</td>\n    </tr>\n  </tbody>\n</table>\n<p>4241 rows × 13 columns</p>\n</div>"
     },
     "execution_count": 282,
     "metadata": {},
     "output_type": "execute_result"
    }
   ],
   "source": [
    "temp_merge"
   ],
   "metadata": {
    "collapsed": false,
    "ExecuteTime": {
     "end_time": "2024-03-29T15:53:57.496689Z",
     "start_time": "2024-03-29T15:53:57.476465Z"
    }
   },
   "id": "d6cc68f554ed334f",
   "execution_count": 282
  },
  {
   "cell_type": "code",
   "outputs": [
    {
     "data": {
      "text/plain": "mod_conformation\nTrue     2593\nFalse    1648\nName: count, dtype: int64"
     },
     "execution_count": 283,
     "metadata": {},
     "output_type": "execute_result"
    }
   ],
   "source": [
    "# Let's see how many trues and falses we got.\n",
    "counter = temp_merge['mod_conformation'].value_counts()\n",
    "counter"
   ],
   "metadata": {
    "collapsed": false,
    "ExecuteTime": {
     "end_time": "2024-03-29T15:53:57.631605Z",
     "start_time": "2024-03-29T15:53:57.620832Z"
    }
   },
   "id": "cc587845a879cdf0",
   "execution_count": 283
  },
  {
   "cell_type": "code",
   "outputs": [
    {
     "data": {
      "text/plain": "           regulatorId regulatorName  \\\n0     RDBECOLITFC00023          GadW   \n1     RDBECOLITFC00023          GadW   \n2     RDBECOLITFC00088          GalR   \n3     RDBECOLITFC00033          GalS   \n4     RDBECOLITFC00088          GalR   \n...                ...           ...   \n4236  RDBECOLITFC00093           Fur   \n4237  RDBECOLITFC00093           Fur   \n4238  RDBECOLITFC00093           Fur   \n4239  RDBECOLITFC00093           Fur   \n4240  RDBECOLITFC00093           Fur   \n\n                                   reg_active_conf_Name  mod_conformation  \\\n0                                                  GadW             False   \n1                                                  GadW             False   \n2                                      GalR-D-galactose              True   \n3                                      GalS-D-galactose              True   \n4                                      GalR-D-galactose              True   \n...                                                 ...               ...   \n4236  Fur-a [2Fe-2S] iron-sulfur cluster DNA-binding...              True   \n4237  Fur-a [2Fe-2S] iron-sulfur cluster DNA-binding...              True   \n4238  Fur-a [2Fe-2S] iron-sulfur cluster DNA-binding...              True   \n4239  Fur-a [2Fe-2S] iron-sulfur cluster DNA-binding...              True   \n4240  Fur-a [2Fe-2S] iron-sulfur cluster DNA-binding...              True   \n\n                  tuId      tuName               tuGenes  \n0     RDBECOLITUC03133    slp-dctR             dctR;slp;  \n1     RDBECOLITUC03315  hdeAB-yhiD       yhiD;hdeB;hdeA;  \n2     RDBECOLITUC02515        galP                 galP;  \n3     RDBECOLITUC02515        galP                 galP;  \n4     RDBECOLITUC02515        galP                 galP;  \n...                ...         ...                   ...  \n4236  RDBECOLITUC01910        uxaB                 uxaB;  \n4237  RDBECOLITUC03880   fepA-entD            entD;fepA;  \n4238  RDBECOLITUC03881     fhuACDB  fhuB;fhuD;fhuC;fhuA;  \n4239  RDBECOLITUC03882       glnLG            glnG;glnL;  \n4240  RDBECOLITUC03883     dppBCDF  dppF;dppD;dppC;dppB;  \n\n[4241 rows x 7 columns]",
      "text/html": "<div>\n<style scoped>\n    .dataframe tbody tr th:only-of-type {\n        vertical-align: middle;\n    }\n\n    .dataframe tbody tr th {\n        vertical-align: top;\n    }\n\n    .dataframe thead th {\n        text-align: right;\n    }\n</style>\n<table border=\"1\" class=\"dataframe\">\n  <thead>\n    <tr style=\"text-align: right;\">\n      <th></th>\n      <th>regulatorId</th>\n      <th>regulatorName</th>\n      <th>reg_active_conf_Name</th>\n      <th>mod_conformation</th>\n      <th>tuId</th>\n      <th>tuName</th>\n      <th>tuGenes</th>\n    </tr>\n  </thead>\n  <tbody>\n    <tr>\n      <th>0</th>\n      <td>RDBECOLITFC00023</td>\n      <td>GadW</td>\n      <td>GadW</td>\n      <td>False</td>\n      <td>RDBECOLITUC03133</td>\n      <td>slp-dctR</td>\n      <td>dctR;slp;</td>\n    </tr>\n    <tr>\n      <th>1</th>\n      <td>RDBECOLITFC00023</td>\n      <td>GadW</td>\n      <td>GadW</td>\n      <td>False</td>\n      <td>RDBECOLITUC03315</td>\n      <td>hdeAB-yhiD</td>\n      <td>yhiD;hdeB;hdeA;</td>\n    </tr>\n    <tr>\n      <th>2</th>\n      <td>RDBECOLITFC00088</td>\n      <td>GalR</td>\n      <td>GalR-D-galactose</td>\n      <td>True</td>\n      <td>RDBECOLITUC02515</td>\n      <td>galP</td>\n      <td>galP;</td>\n    </tr>\n    <tr>\n      <th>3</th>\n      <td>RDBECOLITFC00033</td>\n      <td>GalS</td>\n      <td>GalS-D-galactose</td>\n      <td>True</td>\n      <td>RDBECOLITUC02515</td>\n      <td>galP</td>\n      <td>galP;</td>\n    </tr>\n    <tr>\n      <th>4</th>\n      <td>RDBECOLITFC00088</td>\n      <td>GalR</td>\n      <td>GalR-D-galactose</td>\n      <td>True</td>\n      <td>RDBECOLITUC02515</td>\n      <td>galP</td>\n      <td>galP;</td>\n    </tr>\n    <tr>\n      <th>...</th>\n      <td>...</td>\n      <td>...</td>\n      <td>...</td>\n      <td>...</td>\n      <td>...</td>\n      <td>...</td>\n      <td>...</td>\n    </tr>\n    <tr>\n      <th>4236</th>\n      <td>RDBECOLITFC00093</td>\n      <td>Fur</td>\n      <td>Fur-a [2Fe-2S] iron-sulfur cluster DNA-binding...</td>\n      <td>True</td>\n      <td>RDBECOLITUC01910</td>\n      <td>uxaB</td>\n      <td>uxaB;</td>\n    </tr>\n    <tr>\n      <th>4237</th>\n      <td>RDBECOLITFC00093</td>\n      <td>Fur</td>\n      <td>Fur-a [2Fe-2S] iron-sulfur cluster DNA-binding...</td>\n      <td>True</td>\n      <td>RDBECOLITUC03880</td>\n      <td>fepA-entD</td>\n      <td>entD;fepA;</td>\n    </tr>\n    <tr>\n      <th>4238</th>\n      <td>RDBECOLITFC00093</td>\n      <td>Fur</td>\n      <td>Fur-a [2Fe-2S] iron-sulfur cluster DNA-binding...</td>\n      <td>True</td>\n      <td>RDBECOLITUC03881</td>\n      <td>fhuACDB</td>\n      <td>fhuB;fhuD;fhuC;fhuA;</td>\n    </tr>\n    <tr>\n      <th>4239</th>\n      <td>RDBECOLITFC00093</td>\n      <td>Fur</td>\n      <td>Fur-a [2Fe-2S] iron-sulfur cluster DNA-binding...</td>\n      <td>True</td>\n      <td>RDBECOLITUC03882</td>\n      <td>glnLG</td>\n      <td>glnG;glnL;</td>\n    </tr>\n    <tr>\n      <th>4240</th>\n      <td>RDBECOLITFC00093</td>\n      <td>Fur</td>\n      <td>Fur-a [2Fe-2S] iron-sulfur cluster DNA-binding...</td>\n      <td>True</td>\n      <td>RDBECOLITUC03883</td>\n      <td>dppBCDF</td>\n      <td>dppF;dppD;dppC;dppB;</td>\n    </tr>\n  </tbody>\n</table>\n<p>4241 rows × 7 columns</p>\n</div>"
     },
     "execution_count": 284,
     "metadata": {},
     "output_type": "execute_result"
    }
   ],
   "source": [
    "useful_set = temp_merge[['regulatorId','regulatorName','reg_active_conf_Name','mod_conformation', 'tuId', 'tuName', 'tuGenes']].copy()\n",
    "useful_set"
   ],
   "metadata": {
    "collapsed": false,
    "ExecuteTime": {
     "end_time": "2024-03-29T15:53:57.748994Z",
     "start_time": "2024-03-29T15:53:57.732527Z"
    }
   },
   "id": "818d0b907fae7cbe",
   "execution_count": 284
  },
  {
   "cell_type": "markdown",
   "source": [
    "Let's count the duplicated rows:"
   ],
   "metadata": {
    "collapsed": false
   },
   "id": "90eacd5fa7ee44c2"
  },
  {
   "cell_type": "code",
   "outputs": [
    {
     "name": "stdout",
     "output_type": "stream",
     "text": [
      "1576\n"
     ]
    }
   ],
   "source": [
    "duplicates_count = useful_set.duplicated().sum()\n",
    "print(duplicates_count)"
   ],
   "metadata": {
    "collapsed": false,
    "ExecuteTime": {
     "end_time": "2024-03-29T15:53:57.991993Z",
     "start_time": "2024-03-29T15:53:57.981313Z"
    }
   },
   "id": "8ef58ec806ccab4e",
   "execution_count": 285
  },
  {
   "cell_type": "markdown",
   "source": [
    "We have a lot of duplicated rows so we have to remove them:"
   ],
   "metadata": {
    "collapsed": false
   },
   "id": "a2c5c167e24c9da9"
  },
  {
   "cell_type": "code",
   "outputs": [
    {
     "data": {
      "text/plain": "           regulatorId regulatorName  \\\n0     RDBECOLITFC00023          GadW   \n1     RDBECOLITFC00023          GadW   \n2     RDBECOLITFC00088          GalR   \n3     RDBECOLITFC00033          GalS   \n4     RDBECOLITFC00027          NagC   \n...                ...           ...   \n2660  RDBECOLITFC00093           Fur   \n2661  RDBECOLITFC00093           Fur   \n2662  RDBECOLITFC00093           Fur   \n2663  RDBECOLITFC00093           Fur   \n2664  RDBECOLITFC00093           Fur   \n\n                                   reg_active_conf_Name  mod_conformation  \\\n0                                                  GadW             False   \n1                                                  GadW             False   \n2                                      GalR-D-galactose              True   \n3                                      GalS-D-galactose              True   \n4                                                  NagC             False   \n...                                                 ...               ...   \n2660  Fur-a [2Fe-2S] iron-sulfur cluster DNA-binding...              True   \n2661  Fur-a [2Fe-2S] iron-sulfur cluster DNA-binding...              True   \n2662  Fur-a [2Fe-2S] iron-sulfur cluster DNA-binding...              True   \n2663  Fur-a [2Fe-2S] iron-sulfur cluster DNA-binding...              True   \n2664  Fur-a [2Fe-2S] iron-sulfur cluster DNA-binding...              True   \n\n                  tuId      tuName               tuGenes  \n0     RDBECOLITUC03133    slp-dctR             dctR;slp;  \n1     RDBECOLITUC03315  hdeAB-yhiD       yhiD;hdeB;hdeA;  \n2     RDBECOLITUC02515        galP                 galP;  \n3     RDBECOLITUC02515        galP                 galP;  \n4     RDBECOLITUC02515        galP                 galP;  \n...                ...         ...                   ...  \n2660  RDBECOLITUC01910        uxaB                 uxaB;  \n2661  RDBECOLITUC03880   fepA-entD            entD;fepA;  \n2662  RDBECOLITUC03881     fhuACDB  fhuB;fhuD;fhuC;fhuA;  \n2663  RDBECOLITUC03882       glnLG            glnG;glnL;  \n2664  RDBECOLITUC03883     dppBCDF  dppF;dppD;dppC;dppB;  \n\n[2665 rows x 7 columns]",
      "text/html": "<div>\n<style scoped>\n    .dataframe tbody tr th:only-of-type {\n        vertical-align: middle;\n    }\n\n    .dataframe tbody tr th {\n        vertical-align: top;\n    }\n\n    .dataframe thead th {\n        text-align: right;\n    }\n</style>\n<table border=\"1\" class=\"dataframe\">\n  <thead>\n    <tr style=\"text-align: right;\">\n      <th></th>\n      <th>regulatorId</th>\n      <th>regulatorName</th>\n      <th>reg_active_conf_Name</th>\n      <th>mod_conformation</th>\n      <th>tuId</th>\n      <th>tuName</th>\n      <th>tuGenes</th>\n    </tr>\n  </thead>\n  <tbody>\n    <tr>\n      <th>0</th>\n      <td>RDBECOLITFC00023</td>\n      <td>GadW</td>\n      <td>GadW</td>\n      <td>False</td>\n      <td>RDBECOLITUC03133</td>\n      <td>slp-dctR</td>\n      <td>dctR;slp;</td>\n    </tr>\n    <tr>\n      <th>1</th>\n      <td>RDBECOLITFC00023</td>\n      <td>GadW</td>\n      <td>GadW</td>\n      <td>False</td>\n      <td>RDBECOLITUC03315</td>\n      <td>hdeAB-yhiD</td>\n      <td>yhiD;hdeB;hdeA;</td>\n    </tr>\n    <tr>\n      <th>2</th>\n      <td>RDBECOLITFC00088</td>\n      <td>GalR</td>\n      <td>GalR-D-galactose</td>\n      <td>True</td>\n      <td>RDBECOLITUC02515</td>\n      <td>galP</td>\n      <td>galP;</td>\n    </tr>\n    <tr>\n      <th>3</th>\n      <td>RDBECOLITFC00033</td>\n      <td>GalS</td>\n      <td>GalS-D-galactose</td>\n      <td>True</td>\n      <td>RDBECOLITUC02515</td>\n      <td>galP</td>\n      <td>galP;</td>\n    </tr>\n    <tr>\n      <th>4</th>\n      <td>RDBECOLITFC00027</td>\n      <td>NagC</td>\n      <td>NagC</td>\n      <td>False</td>\n      <td>RDBECOLITUC02515</td>\n      <td>galP</td>\n      <td>galP;</td>\n    </tr>\n    <tr>\n      <th>...</th>\n      <td>...</td>\n      <td>...</td>\n      <td>...</td>\n      <td>...</td>\n      <td>...</td>\n      <td>...</td>\n      <td>...</td>\n    </tr>\n    <tr>\n      <th>2660</th>\n      <td>RDBECOLITFC00093</td>\n      <td>Fur</td>\n      <td>Fur-a [2Fe-2S] iron-sulfur cluster DNA-binding...</td>\n      <td>True</td>\n      <td>RDBECOLITUC01910</td>\n      <td>uxaB</td>\n      <td>uxaB;</td>\n    </tr>\n    <tr>\n      <th>2661</th>\n      <td>RDBECOLITFC00093</td>\n      <td>Fur</td>\n      <td>Fur-a [2Fe-2S] iron-sulfur cluster DNA-binding...</td>\n      <td>True</td>\n      <td>RDBECOLITUC03880</td>\n      <td>fepA-entD</td>\n      <td>entD;fepA;</td>\n    </tr>\n    <tr>\n      <th>2662</th>\n      <td>RDBECOLITFC00093</td>\n      <td>Fur</td>\n      <td>Fur-a [2Fe-2S] iron-sulfur cluster DNA-binding...</td>\n      <td>True</td>\n      <td>RDBECOLITUC03881</td>\n      <td>fhuACDB</td>\n      <td>fhuB;fhuD;fhuC;fhuA;</td>\n    </tr>\n    <tr>\n      <th>2663</th>\n      <td>RDBECOLITFC00093</td>\n      <td>Fur</td>\n      <td>Fur-a [2Fe-2S] iron-sulfur cluster DNA-binding...</td>\n      <td>True</td>\n      <td>RDBECOLITUC03882</td>\n      <td>glnLG</td>\n      <td>glnG;glnL;</td>\n    </tr>\n    <tr>\n      <th>2664</th>\n      <td>RDBECOLITFC00093</td>\n      <td>Fur</td>\n      <td>Fur-a [2Fe-2S] iron-sulfur cluster DNA-binding...</td>\n      <td>True</td>\n      <td>RDBECOLITUC03883</td>\n      <td>dppBCDF</td>\n      <td>dppF;dppD;dppC;dppB;</td>\n    </tr>\n  </tbody>\n</table>\n<p>2665 rows × 7 columns</p>\n</div>"
     },
     "execution_count": 286,
     "metadata": {},
     "output_type": "execute_result"
    }
   ],
   "source": [
    "no_dupl_set = useful_set.drop_duplicates()\n",
    "no_dupl_set.reset_index(drop = True, inplace = True) # resettin the indeces\n",
    "no_dupl_set"
   ],
   "metadata": {
    "collapsed": false,
    "ExecuteTime": {
     "end_time": "2024-03-29T15:53:58.154111Z",
     "start_time": "2024-03-29T15:53:58.132302Z"
    }
   },
   "id": "9b9b770ac650fd15",
   "execution_count": 286
  },
  {
   "cell_type": "code",
   "outputs": [
    {
     "data": {
      "text/plain": "           regulatorId regulatorName  \\\n0     RDBECOLITFC00023          GadW   \n1     RDBECOLITFC00023          GadW   \n2     RDBECOLITFC00023          GadW   \n3     RDBECOLITFC00023          GadW   \n4     RDBECOLITFC00023          GadW   \n...                ...           ...   \n5939  RDBECOLITFC00093           Fur   \n5940  RDBECOLITFC00093           Fur   \n5941  RDBECOLITFC00093           Fur   \n5942  RDBECOLITFC00093           Fur   \n5943  RDBECOLITFC00093           Fur   \n\n                                   reg_active_conf_Name  mod_conformation  \\\n0                                                  GadW             False   \n1                                                  GadW             False   \n2                                                  GadW             False   \n3                                                  GadW             False   \n4                                                  GadW             False   \n...                                                 ...               ...   \n5939  Fur-a [2Fe-2S] iron-sulfur cluster DNA-binding...              True   \n5940  Fur-a [2Fe-2S] iron-sulfur cluster DNA-binding...              True   \n5941  Fur-a [2Fe-2S] iron-sulfur cluster DNA-binding...              True   \n5942  Fur-a [2Fe-2S] iron-sulfur cluster DNA-binding...              True   \n5943  Fur-a [2Fe-2S] iron-sulfur cluster DNA-binding...              True   \n\n                  tuId      tuName tuGenes  \n0     RDBECOLITUC03133    slp-dctR    dctR  \n1     RDBECOLITUC03133    slp-dctR     slp  \n2     RDBECOLITUC03315  hdeAB-yhiD    yhiD  \n3     RDBECOLITUC03315  hdeAB-yhiD    hdeB  \n4     RDBECOLITUC03315  hdeAB-yhiD    hdeA  \n...                ...         ...     ...  \n5939  RDBECOLITUC03882       glnLG    glnL  \n5940  RDBECOLITUC03883     dppBCDF    dppF  \n5941  RDBECOLITUC03883     dppBCDF    dppD  \n5942  RDBECOLITUC03883     dppBCDF    dppC  \n5943  RDBECOLITUC03883     dppBCDF    dppB  \n\n[5944 rows x 7 columns]",
      "text/html": "<div>\n<style scoped>\n    .dataframe tbody tr th:only-of-type {\n        vertical-align: middle;\n    }\n\n    .dataframe tbody tr th {\n        vertical-align: top;\n    }\n\n    .dataframe thead th {\n        text-align: right;\n    }\n</style>\n<table border=\"1\" class=\"dataframe\">\n  <thead>\n    <tr style=\"text-align: right;\">\n      <th></th>\n      <th>regulatorId</th>\n      <th>regulatorName</th>\n      <th>reg_active_conf_Name</th>\n      <th>mod_conformation</th>\n      <th>tuId</th>\n      <th>tuName</th>\n      <th>tuGenes</th>\n    </tr>\n  </thead>\n  <tbody>\n    <tr>\n      <th>0</th>\n      <td>RDBECOLITFC00023</td>\n      <td>GadW</td>\n      <td>GadW</td>\n      <td>False</td>\n      <td>RDBECOLITUC03133</td>\n      <td>slp-dctR</td>\n      <td>dctR</td>\n    </tr>\n    <tr>\n      <th>1</th>\n      <td>RDBECOLITFC00023</td>\n      <td>GadW</td>\n      <td>GadW</td>\n      <td>False</td>\n      <td>RDBECOLITUC03133</td>\n      <td>slp-dctR</td>\n      <td>slp</td>\n    </tr>\n    <tr>\n      <th>2</th>\n      <td>RDBECOLITFC00023</td>\n      <td>GadW</td>\n      <td>GadW</td>\n      <td>False</td>\n      <td>RDBECOLITUC03315</td>\n      <td>hdeAB-yhiD</td>\n      <td>yhiD</td>\n    </tr>\n    <tr>\n      <th>3</th>\n      <td>RDBECOLITFC00023</td>\n      <td>GadW</td>\n      <td>GadW</td>\n      <td>False</td>\n      <td>RDBECOLITUC03315</td>\n      <td>hdeAB-yhiD</td>\n      <td>hdeB</td>\n    </tr>\n    <tr>\n      <th>4</th>\n      <td>RDBECOLITFC00023</td>\n      <td>GadW</td>\n      <td>GadW</td>\n      <td>False</td>\n      <td>RDBECOLITUC03315</td>\n      <td>hdeAB-yhiD</td>\n      <td>hdeA</td>\n    </tr>\n    <tr>\n      <th>...</th>\n      <td>...</td>\n      <td>...</td>\n      <td>...</td>\n      <td>...</td>\n      <td>...</td>\n      <td>...</td>\n      <td>...</td>\n    </tr>\n    <tr>\n      <th>5939</th>\n      <td>RDBECOLITFC00093</td>\n      <td>Fur</td>\n      <td>Fur-a [2Fe-2S] iron-sulfur cluster DNA-binding...</td>\n      <td>True</td>\n      <td>RDBECOLITUC03882</td>\n      <td>glnLG</td>\n      <td>glnL</td>\n    </tr>\n    <tr>\n      <th>5940</th>\n      <td>RDBECOLITFC00093</td>\n      <td>Fur</td>\n      <td>Fur-a [2Fe-2S] iron-sulfur cluster DNA-binding...</td>\n      <td>True</td>\n      <td>RDBECOLITUC03883</td>\n      <td>dppBCDF</td>\n      <td>dppF</td>\n    </tr>\n    <tr>\n      <th>5941</th>\n      <td>RDBECOLITFC00093</td>\n      <td>Fur</td>\n      <td>Fur-a [2Fe-2S] iron-sulfur cluster DNA-binding...</td>\n      <td>True</td>\n      <td>RDBECOLITUC03883</td>\n      <td>dppBCDF</td>\n      <td>dppD</td>\n    </tr>\n    <tr>\n      <th>5942</th>\n      <td>RDBECOLITFC00093</td>\n      <td>Fur</td>\n      <td>Fur-a [2Fe-2S] iron-sulfur cluster DNA-binding...</td>\n      <td>True</td>\n      <td>RDBECOLITUC03883</td>\n      <td>dppBCDF</td>\n      <td>dppC</td>\n    </tr>\n    <tr>\n      <th>5943</th>\n      <td>RDBECOLITFC00093</td>\n      <td>Fur</td>\n      <td>Fur-a [2Fe-2S] iron-sulfur cluster DNA-binding...</td>\n      <td>True</td>\n      <td>RDBECOLITUC03883</td>\n      <td>dppBCDF</td>\n      <td>dppB</td>\n    </tr>\n  </tbody>\n</table>\n<p>5944 rows × 7 columns</p>\n</div>"
     },
     "execution_count": 287,
     "metadata": {},
     "output_type": "execute_result"
    }
   ],
   "source": [
    "exploded_set = pd.DataFrame()\n",
    "\n",
    "for num in no_dupl_set.index:\n",
    "\n",
    "    row = no_dupl_set.iloc[num, :]\n",
    "\n",
    "    tugenes_list = row['tuGenes'].split(';')\n",
    "    tugenes_list.remove('')\n",
    "    \n",
    "    row = row.drop(['tuGenes'])\n",
    "    \n",
    "    if len(tugenes_list) > 1:\n",
    "        for gene in tugenes_list:\n",
    "            riga = pd.DataFrame([row])\n",
    "            \n",
    "            riga['tuGenes'] = gene\n",
    "            \n",
    "            exploded_set = pd.concat([exploded_set, riga], axis = 'rows')\n",
    "            \n",
    "    else:\n",
    "        gene = tugenes_list[0]\n",
    "        riga = pd.DataFrame([row])\n",
    "        riga['tuGenes'] = gene\n",
    "        exploded_set = pd.concat([exploded_set, riga])\n",
    "        \n",
    "exploded_set.reset_index(drop = True, inplace = True)\n",
    "exploded_set"
   ],
   "metadata": {
    "collapsed": false,
    "ExecuteTime": {
     "end_time": "2024-03-29T15:54:06.786977Z",
     "start_time": "2024-03-29T15:53:58.290211Z"
    }
   },
   "id": "5b6104e409c5def9",
   "execution_count": 287
  },
  {
   "cell_type": "markdown",
   "source": [
    "Searching for duplicates in the `exploded_set`:"
   ],
   "metadata": {
    "collapsed": false
   },
   "id": "26c0e4dbf2cd1baa"
  },
  {
   "cell_type": "code",
   "outputs": [
    {
     "name": "stdout",
     "output_type": "stream",
     "text": [
      "0\n"
     ]
    }
   ],
   "source": [
    "duplicates_count = exploded_set.duplicated().sum()\n",
    "print(duplicates_count)"
   ],
   "metadata": {
    "collapsed": false,
    "ExecuteTime": {
     "end_time": "2024-03-29T15:54:06.798756Z",
     "start_time": "2024-03-29T15:54:06.789181Z"
    }
   },
   "id": "a57c5ec9b30cc235",
   "execution_count": 288
  },
  {
   "cell_type": "markdown",
   "source": [
    "Searching a regulator which needs to be phosphorylated to be active."
   ],
   "metadata": {
    "collapsed": false
   },
   "id": "67178747281b372a"
  },
  {
   "cell_type": "code",
   "outputs": [
    {
     "data": {
      "text/plain": "           regulatorId regulatorName reg_active_conf_Name  mod_conformation  \\\n394   RDBECOLITFC00170          CpxR  CpxR-phosphorylated              True   \n395   RDBECOLITFC00170          CpxR  CpxR-phosphorylated              True   \n396   RDBECOLITFC00170          CpxR  CpxR-phosphorylated              True   \n397   RDBECOLITFC00170          CpxR  CpxR-phosphorylated              True   \n714   RDBECOLITFC00170          CpxR  CpxR-phosphorylated              True   \n...                ...           ...                  ...               ...   \n5392  RDBECOLITFC00170          CpxR  CpxR-phosphorylated              True   \n5799  RDBECOLITFC00170          CpxR  CpxR-phosphorylated              True   \n5800  RDBECOLITFC00170          CpxR  CpxR-phosphorylated              True   \n5801  RDBECOLITFC00170          CpxR  CpxR-phosphorylated              True   \n5802  RDBECOLITFC00170          CpxR  CpxR-phosphorylated              True   \n\n                  tuId     tuName tuGenes  \n394   RDBECOLITUC03415    csgDEFG    csgG  \n395   RDBECOLITUC03415    csgDEFG    csgF  \n396   RDBECOLITUC03415    csgDEFG    csgE  \n397   RDBECOLITUC03415    csgDEFG    csgD  \n714   RDBECOLITUC03413     csgBAC    csgC  \n...                ...        ...     ...  \n5392  RDBECOLITUC02574        tsr     tsr  \n5799  RDBECOLITUC03145      carAB    carA  \n5800  RDBECOLITUC03145      carAB    carB  \n5801  RDBECOLITUC03401  focA-pflB    pflB  \n5802  RDBECOLITUC03401  focA-pflB    focA  \n\n[88 rows x 7 columns]",
      "text/html": "<div>\n<style scoped>\n    .dataframe tbody tr th:only-of-type {\n        vertical-align: middle;\n    }\n\n    .dataframe tbody tr th {\n        vertical-align: top;\n    }\n\n    .dataframe thead th {\n        text-align: right;\n    }\n</style>\n<table border=\"1\" class=\"dataframe\">\n  <thead>\n    <tr style=\"text-align: right;\">\n      <th></th>\n      <th>regulatorId</th>\n      <th>regulatorName</th>\n      <th>reg_active_conf_Name</th>\n      <th>mod_conformation</th>\n      <th>tuId</th>\n      <th>tuName</th>\n      <th>tuGenes</th>\n    </tr>\n  </thead>\n  <tbody>\n    <tr>\n      <th>394</th>\n      <td>RDBECOLITFC00170</td>\n      <td>CpxR</td>\n      <td>CpxR-phosphorylated</td>\n      <td>True</td>\n      <td>RDBECOLITUC03415</td>\n      <td>csgDEFG</td>\n      <td>csgG</td>\n    </tr>\n    <tr>\n      <th>395</th>\n      <td>RDBECOLITFC00170</td>\n      <td>CpxR</td>\n      <td>CpxR-phosphorylated</td>\n      <td>True</td>\n      <td>RDBECOLITUC03415</td>\n      <td>csgDEFG</td>\n      <td>csgF</td>\n    </tr>\n    <tr>\n      <th>396</th>\n      <td>RDBECOLITFC00170</td>\n      <td>CpxR</td>\n      <td>CpxR-phosphorylated</td>\n      <td>True</td>\n      <td>RDBECOLITUC03415</td>\n      <td>csgDEFG</td>\n      <td>csgE</td>\n    </tr>\n    <tr>\n      <th>397</th>\n      <td>RDBECOLITFC00170</td>\n      <td>CpxR</td>\n      <td>CpxR-phosphorylated</td>\n      <td>True</td>\n      <td>RDBECOLITUC03415</td>\n      <td>csgDEFG</td>\n      <td>csgD</td>\n    </tr>\n    <tr>\n      <th>714</th>\n      <td>RDBECOLITFC00170</td>\n      <td>CpxR</td>\n      <td>CpxR-phosphorylated</td>\n      <td>True</td>\n      <td>RDBECOLITUC03413</td>\n      <td>csgBAC</td>\n      <td>csgC</td>\n    </tr>\n    <tr>\n      <th>...</th>\n      <td>...</td>\n      <td>...</td>\n      <td>...</td>\n      <td>...</td>\n      <td>...</td>\n      <td>...</td>\n      <td>...</td>\n    </tr>\n    <tr>\n      <th>5392</th>\n      <td>RDBECOLITFC00170</td>\n      <td>CpxR</td>\n      <td>CpxR-phosphorylated</td>\n      <td>True</td>\n      <td>RDBECOLITUC02574</td>\n      <td>tsr</td>\n      <td>tsr</td>\n    </tr>\n    <tr>\n      <th>5799</th>\n      <td>RDBECOLITFC00170</td>\n      <td>CpxR</td>\n      <td>CpxR-phosphorylated</td>\n      <td>True</td>\n      <td>RDBECOLITUC03145</td>\n      <td>carAB</td>\n      <td>carA</td>\n    </tr>\n    <tr>\n      <th>5800</th>\n      <td>RDBECOLITFC00170</td>\n      <td>CpxR</td>\n      <td>CpxR-phosphorylated</td>\n      <td>True</td>\n      <td>RDBECOLITUC03145</td>\n      <td>carAB</td>\n      <td>carB</td>\n    </tr>\n    <tr>\n      <th>5801</th>\n      <td>RDBECOLITFC00170</td>\n      <td>CpxR</td>\n      <td>CpxR-phosphorylated</td>\n      <td>True</td>\n      <td>RDBECOLITUC03401</td>\n      <td>focA-pflB</td>\n      <td>pflB</td>\n    </tr>\n    <tr>\n      <th>5802</th>\n      <td>RDBECOLITFC00170</td>\n      <td>CpxR</td>\n      <td>CpxR-phosphorylated</td>\n      <td>True</td>\n      <td>RDBECOLITUC03401</td>\n      <td>focA-pflB</td>\n      <td>focA</td>\n    </tr>\n  </tbody>\n</table>\n<p>88 rows × 7 columns</p>\n</div>"
     },
     "execution_count": 289,
     "metadata": {},
     "output_type": "execute_result"
    }
   ],
   "source": [
    "cpxr = exploded_set[exploded_set['regulatorName'] == 'CpxR']\n",
    "cpxr"
   ],
   "metadata": {
    "collapsed": false,
    "ExecuteTime": {
     "end_time": "2024-03-29T15:54:06.815496Z",
     "start_time": "2024-03-29T15:54:06.801324Z"
    }
   },
   "id": "d8d9ad3eaf9d0ff4",
   "execution_count": 289
  },
  {
   "cell_type": "markdown",
   "source": [
    "## Data Import from GitHub\n",
    "I downloaded the [GitHub SBRG repository](https://github.com/SBRG/precise-db/tree/master/data) and imported the `log_tpm_norm.csv` file as it'll be our working dataset."
   ],
   "metadata": {
    "collapsed": false
   },
   "id": "bc08e3b8d01ab169"
  },
  {
   "cell_type": "code",
   "outputs": [
    {
     "data": {
      "text/plain": "(3923, 279)"
     },
     "execution_count": 301,
     "metadata": {},
     "output_type": "execute_result"
    },
    {
     "data": {
      "text/plain": "     ecoli_b_id  control__wt_glc__1  control__wt_glc__2  fur__wt_dpd__1  \\\n0         b0002           -0.061772            0.061772        0.636527   \n1         b0003           -0.053742            0.053742        0.954439   \n2         b0004           -0.065095            0.065095       -0.202697   \n3         b0005            0.028802           -0.028802       -0.865171   \n4         b0006            0.009087           -0.009087       -0.131039   \n...         ...                 ...                 ...             ...   \n3918      b4688           -0.261325            0.261325       -1.425581   \n3919      b4693           -0.278909            0.278909        1.361362   \n3920    b4696_1            0.050526           -0.050526        1.166436   \n3921    b4696_2           -0.031653            0.031653        0.785573   \n3922      b4705            0.724324           -0.724324       -4.350151   \n\n      fur__wt_dpd__2  fur__wt_fe__1  fur__wt_fe__2  fur__delfur_dpd__1  \\\n0           0.819793      -0.003615      -0.289353           -1.092023   \n1           1.334385       0.307588       0.128414           -0.872563   \n2           0.119195      -0.264995      -0.546017           -1.918349   \n3          -0.951179       0.428769       0.123564           -1.660351   \n4          -0.124079      -0.144870      -0.090152           -0.219917   \n...              ...            ...            ...                 ...   \n3918       -2.734490       0.181893       0.514395           -1.943947   \n3919        1.020310       0.608108       0.988541            2.558416   \n3920        1.043373      -0.531441      -0.581626            0.914055   \n3921        0.881353      -0.477271      -0.916095            0.837603   \n3922       -4.317498      -0.747489      -1.257045           -3.308337   \n\n      fur__delfur_dpd__2  fur__delfur_fe2__1  ...  efeU__menFentC_ale29__1  \\\n0              -0.777289            0.161343  ...                -0.797097   \n1              -0.277893            0.428542  ...                -0.309105   \n2              -1.577736           -0.474815  ...                -0.184898   \n3              -1.531147            0.240353  ...                -0.308221   \n4              -0.046648           -0.044537  ...                 1.464603   \n...                  ...                 ...  ...                      ...   \n3918           -1.992701            0.066037  ...                -0.885297   \n3919            2.142724            3.120867  ...                -0.374963   \n3920            0.731165           -0.127269  ...                 0.261604   \n3921            0.801393           -0.071710  ...                -0.499371   \n3922           -4.421970           -2.679693  ...                -1.968530   \n\n      efeU__menFentC_ale29__2  efeU__menFentC_ale30__1  \\\n0                   -0.791859                 0.080114   \n1                   -0.352535                -0.155074   \n2                   -0.225615                 0.019575   \n3                   -0.581714                 0.018820   \n4                    1.415706                 1.230831   \n...                       ...                      ...   \n3918                -0.462485                -2.734490   \n3919                 0.856574                -1.147824   \n3920                 0.278426                 0.201089   \n3921                 0.398783                 0.096609   \n3922                -1.365300                -5.468290   \n\n      efeU__menFentC_ale30__2  efeU__menFentCubiC_ale36__1  \\\n0                    0.102154                     0.608180   \n1                   -0.077145                     0.447030   \n2                    0.063986                     0.483343   \n3                    0.004040                    -1.228763   \n4                    1.165153                     0.447447   \n...                       ...                          ...   \n3918                -1.451148                    -1.379069   \n3919                -0.814089                     2.054471   \n3920                -0.017780                     0.138178   \n3921                -0.103446                    -0.519098   \n3922                -2.997169                    -3.673367   \n\n      efeU__menFentCubiC_ale36__2  efeU__menFentCubiC_ale37__1  \\\n0                        0.657673                     0.813105   \n1                        0.439881                     0.554528   \n2                        0.452754                     0.524828   \n3                       -1.451750                    -0.839203   \n4                        0.458852                     0.421417   \n...                           ...                          ...   \n3918                    -1.567420                    -0.999610   \n3919                     1.853620                     1.957717   \n3920                     0.122287                     0.504402   \n3921                     0.615363                     0.343959   \n3922                    -3.161608                    -3.959910   \n\n      efeU__menFentCubiC_ale37__2  efeU__menFentCubiC_ale38__1  \\\n0                        0.854813                     0.427986   \n1                        0.569030                     0.154905   \n2                        0.581878                     0.293239   \n3                       -0.529349                    -0.413336   \n4                        0.408077                     1.151066   \n...                           ...                          ...   \n3918                    -1.726577                    -2.734490   \n3919                     1.943582                     2.233115   \n3920                     0.425213                     0.629383   \n3921                     0.580288                     0.366905   \n3922                    -4.088644                    -5.468290   \n\n      efeU__menFentCubiC_ale38__2  \n0                        0.484338  \n1                        0.294799  \n2                        0.341040  \n3                       -0.478682  \n4                        1.198529  \n...                           ...  \n3918                    -1.189069  \n3919                     2.023755  \n3920                     0.805945  \n3921                     0.702608  \n3922                    -5.468290  \n\n[3923 rows x 279 columns]",
      "text/html": "<div>\n<style scoped>\n    .dataframe tbody tr th:only-of-type {\n        vertical-align: middle;\n    }\n\n    .dataframe tbody tr th {\n        vertical-align: top;\n    }\n\n    .dataframe thead th {\n        text-align: right;\n    }\n</style>\n<table border=\"1\" class=\"dataframe\">\n  <thead>\n    <tr style=\"text-align: right;\">\n      <th></th>\n      <th>ecoli_b_id</th>\n      <th>control__wt_glc__1</th>\n      <th>control__wt_glc__2</th>\n      <th>fur__wt_dpd__1</th>\n      <th>fur__wt_dpd__2</th>\n      <th>fur__wt_fe__1</th>\n      <th>fur__wt_fe__2</th>\n      <th>fur__delfur_dpd__1</th>\n      <th>fur__delfur_dpd__2</th>\n      <th>fur__delfur_fe2__1</th>\n      <th>...</th>\n      <th>efeU__menFentC_ale29__1</th>\n      <th>efeU__menFentC_ale29__2</th>\n      <th>efeU__menFentC_ale30__1</th>\n      <th>efeU__menFentC_ale30__2</th>\n      <th>efeU__menFentCubiC_ale36__1</th>\n      <th>efeU__menFentCubiC_ale36__2</th>\n      <th>efeU__menFentCubiC_ale37__1</th>\n      <th>efeU__menFentCubiC_ale37__2</th>\n      <th>efeU__menFentCubiC_ale38__1</th>\n      <th>efeU__menFentCubiC_ale38__2</th>\n    </tr>\n  </thead>\n  <tbody>\n    <tr>\n      <th>0</th>\n      <td>b0002</td>\n      <td>-0.061772</td>\n      <td>0.061772</td>\n      <td>0.636527</td>\n      <td>0.819793</td>\n      <td>-0.003615</td>\n      <td>-0.289353</td>\n      <td>-1.092023</td>\n      <td>-0.777289</td>\n      <td>0.161343</td>\n      <td>...</td>\n      <td>-0.797097</td>\n      <td>-0.791859</td>\n      <td>0.080114</td>\n      <td>0.102154</td>\n      <td>0.608180</td>\n      <td>0.657673</td>\n      <td>0.813105</td>\n      <td>0.854813</td>\n      <td>0.427986</td>\n      <td>0.484338</td>\n    </tr>\n    <tr>\n      <th>1</th>\n      <td>b0003</td>\n      <td>-0.053742</td>\n      <td>0.053742</td>\n      <td>0.954439</td>\n      <td>1.334385</td>\n      <td>0.307588</td>\n      <td>0.128414</td>\n      <td>-0.872563</td>\n      <td>-0.277893</td>\n      <td>0.428542</td>\n      <td>...</td>\n      <td>-0.309105</td>\n      <td>-0.352535</td>\n      <td>-0.155074</td>\n      <td>-0.077145</td>\n      <td>0.447030</td>\n      <td>0.439881</td>\n      <td>0.554528</td>\n      <td>0.569030</td>\n      <td>0.154905</td>\n      <td>0.294799</td>\n    </tr>\n    <tr>\n      <th>2</th>\n      <td>b0004</td>\n      <td>-0.065095</td>\n      <td>0.065095</td>\n      <td>-0.202697</td>\n      <td>0.119195</td>\n      <td>-0.264995</td>\n      <td>-0.546017</td>\n      <td>-1.918349</td>\n      <td>-1.577736</td>\n      <td>-0.474815</td>\n      <td>...</td>\n      <td>-0.184898</td>\n      <td>-0.225615</td>\n      <td>0.019575</td>\n      <td>0.063986</td>\n      <td>0.483343</td>\n      <td>0.452754</td>\n      <td>0.524828</td>\n      <td>0.581878</td>\n      <td>0.293239</td>\n      <td>0.341040</td>\n    </tr>\n    <tr>\n      <th>3</th>\n      <td>b0005</td>\n      <td>0.028802</td>\n      <td>-0.028802</td>\n      <td>-0.865171</td>\n      <td>-0.951179</td>\n      <td>0.428769</td>\n      <td>0.123564</td>\n      <td>-1.660351</td>\n      <td>-1.531147</td>\n      <td>0.240353</td>\n      <td>...</td>\n      <td>-0.308221</td>\n      <td>-0.581714</td>\n      <td>0.018820</td>\n      <td>0.004040</td>\n      <td>-1.228763</td>\n      <td>-1.451750</td>\n      <td>-0.839203</td>\n      <td>-0.529349</td>\n      <td>-0.413336</td>\n      <td>-0.478682</td>\n    </tr>\n    <tr>\n      <th>4</th>\n      <td>b0006</td>\n      <td>0.009087</td>\n      <td>-0.009087</td>\n      <td>-0.131039</td>\n      <td>-0.124079</td>\n      <td>-0.144870</td>\n      <td>-0.090152</td>\n      <td>-0.219917</td>\n      <td>-0.046648</td>\n      <td>-0.044537</td>\n      <td>...</td>\n      <td>1.464603</td>\n      <td>1.415706</td>\n      <td>1.230831</td>\n      <td>1.165153</td>\n      <td>0.447447</td>\n      <td>0.458852</td>\n      <td>0.421417</td>\n      <td>0.408077</td>\n      <td>1.151066</td>\n      <td>1.198529</td>\n    </tr>\n    <tr>\n      <th>...</th>\n      <td>...</td>\n      <td>...</td>\n      <td>...</td>\n      <td>...</td>\n      <td>...</td>\n      <td>...</td>\n      <td>...</td>\n      <td>...</td>\n      <td>...</td>\n      <td>...</td>\n      <td>...</td>\n      <td>...</td>\n      <td>...</td>\n      <td>...</td>\n      <td>...</td>\n      <td>...</td>\n      <td>...</td>\n      <td>...</td>\n      <td>...</td>\n      <td>...</td>\n      <td>...</td>\n    </tr>\n    <tr>\n      <th>3918</th>\n      <td>b4688</td>\n      <td>-0.261325</td>\n      <td>0.261325</td>\n      <td>-1.425581</td>\n      <td>-2.734490</td>\n      <td>0.181893</td>\n      <td>0.514395</td>\n      <td>-1.943947</td>\n      <td>-1.992701</td>\n      <td>0.066037</td>\n      <td>...</td>\n      <td>-0.885297</td>\n      <td>-0.462485</td>\n      <td>-2.734490</td>\n      <td>-1.451148</td>\n      <td>-1.379069</td>\n      <td>-1.567420</td>\n      <td>-0.999610</td>\n      <td>-1.726577</td>\n      <td>-2.734490</td>\n      <td>-1.189069</td>\n    </tr>\n    <tr>\n      <th>3919</th>\n      <td>b4693</td>\n      <td>-0.278909</td>\n      <td>0.278909</td>\n      <td>1.361362</td>\n      <td>1.020310</td>\n      <td>0.608108</td>\n      <td>0.988541</td>\n      <td>2.558416</td>\n      <td>2.142724</td>\n      <td>3.120867</td>\n      <td>...</td>\n      <td>-0.374963</td>\n      <td>0.856574</td>\n      <td>-1.147824</td>\n      <td>-0.814089</td>\n      <td>2.054471</td>\n      <td>1.853620</td>\n      <td>1.957717</td>\n      <td>1.943582</td>\n      <td>2.233115</td>\n      <td>2.023755</td>\n    </tr>\n    <tr>\n      <th>3920</th>\n      <td>b4696_1</td>\n      <td>0.050526</td>\n      <td>-0.050526</td>\n      <td>1.166436</td>\n      <td>1.043373</td>\n      <td>-0.531441</td>\n      <td>-0.581626</td>\n      <td>0.914055</td>\n      <td>0.731165</td>\n      <td>-0.127269</td>\n      <td>...</td>\n      <td>0.261604</td>\n      <td>0.278426</td>\n      <td>0.201089</td>\n      <td>-0.017780</td>\n      <td>0.138178</td>\n      <td>0.122287</td>\n      <td>0.504402</td>\n      <td>0.425213</td>\n      <td>0.629383</td>\n      <td>0.805945</td>\n    </tr>\n    <tr>\n      <th>3921</th>\n      <td>b4696_2</td>\n      <td>-0.031653</td>\n      <td>0.031653</td>\n      <td>0.785573</td>\n      <td>0.881353</td>\n      <td>-0.477271</td>\n      <td>-0.916095</td>\n      <td>0.837603</td>\n      <td>0.801393</td>\n      <td>-0.071710</td>\n      <td>...</td>\n      <td>-0.499371</td>\n      <td>0.398783</td>\n      <td>0.096609</td>\n      <td>-0.103446</td>\n      <td>-0.519098</td>\n      <td>0.615363</td>\n      <td>0.343959</td>\n      <td>0.580288</td>\n      <td>0.366905</td>\n      <td>0.702608</td>\n    </tr>\n    <tr>\n      <th>3922</th>\n      <td>b4705</td>\n      <td>0.724324</td>\n      <td>-0.724324</td>\n      <td>-4.350151</td>\n      <td>-4.317498</td>\n      <td>-0.747489</td>\n      <td>-1.257045</td>\n      <td>-3.308337</td>\n      <td>-4.421970</td>\n      <td>-2.679693</td>\n      <td>...</td>\n      <td>-1.968530</td>\n      <td>-1.365300</td>\n      <td>-5.468290</td>\n      <td>-2.997169</td>\n      <td>-3.673367</td>\n      <td>-3.161608</td>\n      <td>-3.959910</td>\n      <td>-4.088644</td>\n      <td>-5.468290</td>\n      <td>-5.468290</td>\n    </tr>\n  </tbody>\n</table>\n<p>3923 rows × 279 columns</p>\n</div>"
     },
     "execution_count": 301,
     "metadata": {},
     "output_type": "execute_result"
    }
   ],
   "source": [
    "log_tpm = pd.read_csv(\"./SBRG/data/log_tpm_norm.csv\")\n",
    "log_tpm = log_tpm.rename(columns={\"Unnamed: 0\":'ecoli_b_id'}) # renaming the first column\n",
    "\n",
    "log_tpm.shape\n",
    "log_tpm"
   ],
   "metadata": {
    "collapsed": false,
    "ExecuteTime": {
     "end_time": "2024-03-29T16:02:07.277864Z",
     "start_time": "2024-03-29T16:02:06.909266Z"
    }
   },
   "id": "e40e34821d5360ab",
   "execution_count": 301
  },
  {
   "cell_type": "code",
   "outputs": [],
   "source": [
    "# all_b = pd.read_csv(\"./SBRG/data/gene_info.csv\")\n",
    "# all_b.shape\n",
    "# \n",
    "# all_b.drop_duplicates()\n",
    "# all_b.reset_index(drop = True, inplace = True)\n",
    "# all_b.shape\n",
    "# \n",
    "# all_b = all_b.rename(columns={\"Unnamed: 0\":'ecoli_b_id'})"
   ],
   "metadata": {
    "collapsed": false
   },
   "id": "3c1b6c027476e261"
  },
  {
   "cell_type": "markdown",
   "source": [
    "I downloaded this set from RegulonDB and not used the `gene_info.csv` file from the SBRG repository because it doesn't return duplicates in the GeneName column."
   ],
   "metadata": {
    "collapsed": false
   },
   "id": "16e9ff1586121fd4"
  },
  {
   "cell_type": "code",
   "outputs": [
    {
     "data": {
      "text/plain": "      GeneName                                    IdsFromOtherDbs\n0          alr  [STRING:511145.b4053][ASAP:ABE-0013272][ECHOBA...\n1         modB  [STRING:511145.b0764][ASAP:ABE-0002603][ECHOBA...\n2         cysZ  [STRING:511145.b2413][ASAP:ABE-0007953][ECHOBA...\n3          dfp  [STRING:511145.b3639][ASAP:ABE-0011896][ECHOBA...\n4         dcuB  [STRING:511145.b4123][ASAP:ABE-0013503][ECHOBA...\n...        ...                                                ...\n4754    asphoP                    [ECOCYC:G0-17124][REFSEQ:b4843]\n4755      ameF                    [ECOCYC:G0-17125][REFSEQ:b4844]\n4756      xtpA                    [ECOCYC:G0-17126][REFSEQ:b4845]\n4757      yrdG                    [ECOCYC:G0-17130][REFSEQ:b4846]\n4758  G0-17132                                  [ECOCYC:G0-17132]\n\n[4759 rows x 2 columns]",
      "text/html": "<div>\n<style scoped>\n    .dataframe tbody tr th:only-of-type {\n        vertical-align: middle;\n    }\n\n    .dataframe tbody tr th {\n        vertical-align: top;\n    }\n\n    .dataframe thead th {\n        text-align: right;\n    }\n</style>\n<table border=\"1\" class=\"dataframe\">\n  <thead>\n    <tr style=\"text-align: right;\">\n      <th></th>\n      <th>GeneName</th>\n      <th>IdsFromOtherDbs</th>\n    </tr>\n  </thead>\n  <tbody>\n    <tr>\n      <th>0</th>\n      <td>alr</td>\n      <td>[STRING:511145.b4053][ASAP:ABE-0013272][ECHOBA...</td>\n    </tr>\n    <tr>\n      <th>1</th>\n      <td>modB</td>\n      <td>[STRING:511145.b0764][ASAP:ABE-0002603][ECHOBA...</td>\n    </tr>\n    <tr>\n      <th>2</th>\n      <td>cysZ</td>\n      <td>[STRING:511145.b2413][ASAP:ABE-0007953][ECHOBA...</td>\n    </tr>\n    <tr>\n      <th>3</th>\n      <td>dfp</td>\n      <td>[STRING:511145.b3639][ASAP:ABE-0011896][ECHOBA...</td>\n    </tr>\n    <tr>\n      <th>4</th>\n      <td>dcuB</td>\n      <td>[STRING:511145.b4123][ASAP:ABE-0013503][ECHOBA...</td>\n    </tr>\n    <tr>\n      <th>...</th>\n      <td>...</td>\n      <td>...</td>\n    </tr>\n    <tr>\n      <th>4754</th>\n      <td>asphoP</td>\n      <td>[ECOCYC:G0-17124][REFSEQ:b4843]</td>\n    </tr>\n    <tr>\n      <th>4755</th>\n      <td>ameF</td>\n      <td>[ECOCYC:G0-17125][REFSEQ:b4844]</td>\n    </tr>\n    <tr>\n      <th>4756</th>\n      <td>xtpA</td>\n      <td>[ECOCYC:G0-17126][REFSEQ:b4845]</td>\n    </tr>\n    <tr>\n      <th>4757</th>\n      <td>yrdG</td>\n      <td>[ECOCYC:G0-17130][REFSEQ:b4846]</td>\n    </tr>\n    <tr>\n      <th>4758</th>\n      <td>G0-17132</td>\n      <td>[ECOCYC:G0-17132]</td>\n    </tr>\n  </tbody>\n</table>\n<p>4759 rows × 2 columns</p>\n</div>"
     },
     "execution_count": 307,
     "metadata": {},
     "output_type": "execute_result"
    },
    {
     "data": {
      "text/plain": "(4702, 2)"
     },
     "execution_count": 307,
     "metadata": {},
     "output_type": "execute_result"
    },
    {
     "data": {
      "text/plain": "     GeneName IdsFromOtherDbs\n0         alr           b4053\n1        modB           b0764\n2        cysZ           b2413\n3         dfp           b3639\n4        dcuB           b4123\n...       ...             ...\n4697   asompR           b4842\n4698   asphoP           b4843\n4699     ameF           b4844\n4700     xtpA           b4845\n4701     yrdG           b4846\n\n[4702 rows x 2 columns]",
      "text/html": "<div>\n<style scoped>\n    .dataframe tbody tr th:only-of-type {\n        vertical-align: middle;\n    }\n\n    .dataframe tbody tr th {\n        vertical-align: top;\n    }\n\n    .dataframe thead th {\n        text-align: right;\n    }\n</style>\n<table border=\"1\" class=\"dataframe\">\n  <thead>\n    <tr style=\"text-align: right;\">\n      <th></th>\n      <th>GeneName</th>\n      <th>IdsFromOtherDbs</th>\n    </tr>\n  </thead>\n  <tbody>\n    <tr>\n      <th>0</th>\n      <td>alr</td>\n      <td>b4053</td>\n    </tr>\n    <tr>\n      <th>1</th>\n      <td>modB</td>\n      <td>b0764</td>\n    </tr>\n    <tr>\n      <th>2</th>\n      <td>cysZ</td>\n      <td>b2413</td>\n    </tr>\n    <tr>\n      <th>3</th>\n      <td>dfp</td>\n      <td>b3639</td>\n    </tr>\n    <tr>\n      <th>4</th>\n      <td>dcuB</td>\n      <td>b4123</td>\n    </tr>\n    <tr>\n      <th>...</th>\n      <td>...</td>\n      <td>...</td>\n    </tr>\n    <tr>\n      <th>4697</th>\n      <td>asompR</td>\n      <td>b4842</td>\n    </tr>\n    <tr>\n      <th>4698</th>\n      <td>asphoP</td>\n      <td>b4843</td>\n    </tr>\n    <tr>\n      <th>4699</th>\n      <td>ameF</td>\n      <td>b4844</td>\n    </tr>\n    <tr>\n      <th>4700</th>\n      <td>xtpA</td>\n      <td>b4845</td>\n    </tr>\n    <tr>\n      <th>4701</th>\n      <td>yrdG</td>\n      <td>b4846</td>\n    </tr>\n  </tbody>\n</table>\n<p>4702 rows × 2 columns</p>\n</div>"
     },
     "execution_count": 307,
     "metadata": {},
     "output_type": "execute_result"
    }
   ],
   "source": [
    "second_way = pd.read_csv('./Data from RegulonDB/GeneName-bcodeset_selected.tsv', sep = '\\t')\n",
    "\n",
    "second_way = second_way.rename(columns={'2)geneName':'GeneName','7)otherDbsGeneIds':'IdsFromOtherDbs'})\n",
    "\n",
    "second_way\n",
    "\n",
    "# extracting only the b_id\n",
    "regex2 = r'\\[REFSEQ:(b\\d{4})\\]'\n",
    "\n",
    "for num in second_way.index:\n",
    "    matches = re.findall(regex2, second_way.loc[num, 'IdsFromOtherDbs'])\n",
    "    \n",
    "    if matches:\n",
    "        second_way.loc[num, 'IdsFromOtherDbs'] = matches[0]\n",
    "    else:\n",
    "        second_way.drop(index = num, inplace=True)\n",
    "\n",
    "second_way.reset_index(drop = True, inplace = True)\n",
    "second_way.shape\n",
    "second_way\n",
    "\n",
    "# things that might be useful in the future:\n",
    "# temp_col = pd.Series((i for i in tf_riset['reg_active_conf_Name'] if re.search(regex, i)), name = 'active_when_phosphorylated')\n",
    "# second_way.to_csv('./Data from RegulonDB/let_me_see.txt', sep = '\\t')"
   ],
   "metadata": {
    "collapsed": false,
    "ExecuteTime": {
     "end_time": "2024-03-29T16:21:58.552084Z",
     "start_time": "2024-03-29T16:21:57.930103Z"
    }
   },
   "id": "a3e4d5a78901e417",
   "execution_count": 307
  },
  {
   "cell_type": "code",
   "outputs": [
    {
     "data": {
      "text/plain": "(4691, 2)"
     },
     "execution_count": 328,
     "metadata": {},
     "output_type": "execute_result"
    },
    {
     "data": {
      "text/plain": "     GeneName IdsFromOtherDbs\n0         alr           b4053\n1        modB           b0764\n2        cysZ           b2413\n3         dfp           b3639\n4        dcuB           b4123\n...       ...             ...\n4697   asompR           b4842\n4698   asphoP           b4843\n4699     ameF           b4844\n4700     xtpA           b4845\n4701     yrdG           b4846\n\n[4691 rows x 2 columns]",
      "text/html": "<div>\n<style scoped>\n    .dataframe tbody tr th:only-of-type {\n        vertical-align: middle;\n    }\n\n    .dataframe tbody tr th {\n        vertical-align: top;\n    }\n\n    .dataframe thead th {\n        text-align: right;\n    }\n</style>\n<table border=\"1\" class=\"dataframe\">\n  <thead>\n    <tr style=\"text-align: right;\">\n      <th></th>\n      <th>GeneName</th>\n      <th>IdsFromOtherDbs</th>\n    </tr>\n  </thead>\n  <tbody>\n    <tr>\n      <th>0</th>\n      <td>alr</td>\n      <td>b4053</td>\n    </tr>\n    <tr>\n      <th>1</th>\n      <td>modB</td>\n      <td>b0764</td>\n    </tr>\n    <tr>\n      <th>2</th>\n      <td>cysZ</td>\n      <td>b2413</td>\n    </tr>\n    <tr>\n      <th>3</th>\n      <td>dfp</td>\n      <td>b3639</td>\n    </tr>\n    <tr>\n      <th>4</th>\n      <td>dcuB</td>\n      <td>b4123</td>\n    </tr>\n    <tr>\n      <th>...</th>\n      <td>...</td>\n      <td>...</td>\n    </tr>\n    <tr>\n      <th>4697</th>\n      <td>asompR</td>\n      <td>b4842</td>\n    </tr>\n    <tr>\n      <th>4698</th>\n      <td>asphoP</td>\n      <td>b4843</td>\n    </tr>\n    <tr>\n      <th>4699</th>\n      <td>ameF</td>\n      <td>b4844</td>\n    </tr>\n    <tr>\n      <th>4700</th>\n      <td>xtpA</td>\n      <td>b4845</td>\n    </tr>\n    <tr>\n      <th>4701</th>\n      <td>yrdG</td>\n      <td>b4846</td>\n    </tr>\n  </tbody>\n</table>\n<p>4691 rows × 2 columns</p>\n</div>"
     },
     "execution_count": 328,
     "metadata": {},
     "output_type": "execute_result"
    },
    {
     "data": {
      "text/plain": "     GeneName ecoli_b_id\n0         alr      b4053\n1        modB      b0764\n2        cysZ      b2413\n3         dfp      b3639\n4        dcuB      b4123\n...       ...        ...\n4697   asompR      b4842\n4698   asphoP      b4843\n4699     ameF      b4844\n4700     xtpA      b4845\n4701     yrdG      b4846\n\n[4691 rows x 2 columns]",
      "text/html": "<div>\n<style scoped>\n    .dataframe tbody tr th:only-of-type {\n        vertical-align: middle;\n    }\n\n    .dataframe tbody tr th {\n        vertical-align: top;\n    }\n\n    .dataframe thead th {\n        text-align: right;\n    }\n</style>\n<table border=\"1\" class=\"dataframe\">\n  <thead>\n    <tr style=\"text-align: right;\">\n      <th></th>\n      <th>GeneName</th>\n      <th>ecoli_b_id</th>\n    </tr>\n  </thead>\n  <tbody>\n    <tr>\n      <th>0</th>\n      <td>alr</td>\n      <td>b4053</td>\n    </tr>\n    <tr>\n      <th>1</th>\n      <td>modB</td>\n      <td>b0764</td>\n    </tr>\n    <tr>\n      <th>2</th>\n      <td>cysZ</td>\n      <td>b2413</td>\n    </tr>\n    <tr>\n      <th>3</th>\n      <td>dfp</td>\n      <td>b3639</td>\n    </tr>\n    <tr>\n      <th>4</th>\n      <td>dcuB</td>\n      <td>b4123</td>\n    </tr>\n    <tr>\n      <th>...</th>\n      <td>...</td>\n      <td>...</td>\n    </tr>\n    <tr>\n      <th>4697</th>\n      <td>asompR</td>\n      <td>b4842</td>\n    </tr>\n    <tr>\n      <th>4698</th>\n      <td>asphoP</td>\n      <td>b4843</td>\n    </tr>\n    <tr>\n      <th>4699</th>\n      <td>ameF</td>\n      <td>b4844</td>\n    </tr>\n    <tr>\n      <th>4700</th>\n      <td>xtpA</td>\n      <td>b4845</td>\n    </tr>\n    <tr>\n      <th>4701</th>\n      <td>yrdG</td>\n      <td>b4846</td>\n    </tr>\n  </tbody>\n</table>\n<p>4691 rows × 2 columns</p>\n</div>"
     },
     "execution_count": 328,
     "metadata": {},
     "output_type": "execute_result"
    }
   ],
   "source": [
    "all_b = second_way.drop_duplicates().copy()\n",
    "all_b.shape\n",
    "all_b\n",
    "all_b = all_b.rename(columns = {'IdsFromOtherDbs':'ecoli_b_id'})\n",
    "all_b"
   ],
   "metadata": {
    "collapsed": false,
    "ExecuteTime": {
     "end_time": "2024-03-29T16:37:27.444548Z",
     "start_time": "2024-03-29T16:37:27.421775Z"
    }
   },
   "id": "17c97fcea25e164b",
   "execution_count": 328
  },
  {
   "cell_type": "markdown",
   "source": [
    "Merging of the datasets:"
   ],
   "metadata": {
    "collapsed": false
   },
   "id": "1edf5e4b8e464078"
  },
  {
   "cell_type": "code",
   "outputs": [
    {
     "data": {
      "text/plain": "(3865, 280)"
     },
     "execution_count": 330,
     "metadata": {},
     "output_type": "execute_result"
    },
    {
     "data": {
      "text/plain": "     GeneName ecoli_b_id  control__wt_glc__1  control__wt_glc__2  \\\n0         alr      b4053           -0.042292            0.042292   \n1        modB      b0764            0.184964           -0.184964   \n2        cysZ      b2413           -0.043865            0.043865   \n3         dfp      b3639           -0.052513            0.052513   \n4        dcuB      b4123            0.365215           -0.365215   \n...       ...        ...                 ...                 ...   \n3860     mhpD      b0350            0.158453           -0.158453   \n3861     mhpF      b0351           -0.372588            0.372588   \n3862     hcaF      b2539            0.065282           -0.065282   \n3863     ruvA      b1861           -0.079333            0.079333   \n3864     ruvB      b1860           -0.049201            0.049201   \n\n      fur__wt_dpd__1  fur__wt_dpd__2  fur__wt_fe__1  fur__wt_fe__2  \\\n0          -0.740852       -0.866985      -0.168235      -0.376016   \n1          -0.596042       -0.593549      -0.005954      -0.235184   \n2           0.107350        0.180211      -0.212306      -0.282697   \n3           0.010719       -0.068170      -0.089001      -0.044974   \n4          -0.896131       -0.173375       0.400422       0.258877   \n...              ...             ...            ...            ...   \n3860        0.662125        0.086680       0.063934      -0.294443   \n3861        1.513200        1.251159       0.063993      -0.412425   \n3862        0.149477       -0.352588      -0.122738      -0.402794   \n3863        0.251261        0.038981      -0.247013      -0.240293   \n3864        0.779531        0.544714      -0.473499      -0.527092   \n\n      fur__delfur_dpd__1  fur__delfur_dpd__2  ...  efeU__menFentC_ale29__1  \\\n0              -0.633646           -0.713788  ...                -0.476805   \n1              -0.595247           -0.655526  ...                -0.332093   \n2               0.123492            0.074825  ...                -0.461764   \n3              -0.167640           -0.319147  ...                 0.191096   \n4              -0.348530           -0.482547  ...                 4.129609   \n...                  ...                 ...  ...                      ...   \n3860            0.553998            0.481348  ...                -1.524784   \n3861            1.083952            0.441693  ...                 0.695099   \n3862           -0.357749           -0.873491  ...                -0.915097   \n3863            0.210413            0.113396  ...                 0.025995   \n3864            0.491378            0.314996  ...                -0.123873   \n\n      efeU__menFentC_ale29__2  efeU__menFentC_ale30__1  \\\n0                   -0.508813                 0.026904   \n1                   -0.034741                 0.279264   \n2                   -0.377653                 0.203116   \n3                    0.149360                 0.009208   \n4                    4.256892                 0.929593   \n...                       ...                      ...   \n3860                -0.673153                -0.066243   \n3861                 0.888539                 0.432664   \n3862                -0.939694                -0.597442   \n3863                -0.019448                -0.019484   \n3864                -0.251831                -0.096787   \n\n      efeU__menFentC_ale30__2  efeU__menFentCubiC_ale36__1  \\\n0                   -0.127094                     0.109230   \n1                   -0.003593                     0.201033   \n2                    0.016200                     0.002025   \n3                    0.066414                    -0.123367   \n4                    0.728666                     1.911724   \n...                       ...                          ...   \n3860                -0.691109                    -0.328744   \n3861                 0.482035                     0.656983   \n3862                -1.301669                    -1.471270   \n3863                -0.116220                     0.113955   \n3864                -0.280817                     0.419506   \n\n      efeU__menFentCubiC_ale36__2  efeU__menFentCubiC_ale37__1  \\\n0                        0.000617                     0.271930   \n1                        0.177794                     0.248041   \n2                       -0.012040                     0.628398   \n3                       -0.268587                    -0.247457   \n4                        2.347201                     2.091809   \n...                           ...                          ...   \n3860                    -0.698742                     0.331235   \n3861                     0.454324                     0.499764   \n3862                    -1.357409                    -0.504646   \n3863                     0.125625                     0.121400   \n3864                     0.421189                     0.332478   \n\n      efeU__menFentCubiC_ale37__2  efeU__menFentCubiC_ale38__1  \\\n0                        0.297802                    -0.131690   \n1                        0.141078                    -0.165527   \n2                        0.698518                     0.420355   \n3                       -0.231516                     0.519031   \n4                        1.923489                     2.933930   \n...                           ...                          ...   \n3860                     0.157622                    -0.773144   \n3861                     0.693546                     0.286952   \n3862                    -0.870155                    -1.046379   \n3863                     0.304738                     0.436502   \n3864                     0.278090                    -0.182145   \n\n      efeU__menFentCubiC_ale38__2  \n0                        0.150876  \n1                       -0.100868  \n2                        0.275015  \n3                        0.343247  \n4                        2.729055  \n...                           ...  \n3860                    -0.025589  \n3861                     0.759214  \n3862                    -0.757495  \n3863                     0.384450  \n3864                     0.120059  \n\n[3865 rows x 280 columns]",
      "text/html": "<div>\n<style scoped>\n    .dataframe tbody tr th:only-of-type {\n        vertical-align: middle;\n    }\n\n    .dataframe tbody tr th {\n        vertical-align: top;\n    }\n\n    .dataframe thead th {\n        text-align: right;\n    }\n</style>\n<table border=\"1\" class=\"dataframe\">\n  <thead>\n    <tr style=\"text-align: right;\">\n      <th></th>\n      <th>GeneName</th>\n      <th>ecoli_b_id</th>\n      <th>control__wt_glc__1</th>\n      <th>control__wt_glc__2</th>\n      <th>fur__wt_dpd__1</th>\n      <th>fur__wt_dpd__2</th>\n      <th>fur__wt_fe__1</th>\n      <th>fur__wt_fe__2</th>\n      <th>fur__delfur_dpd__1</th>\n      <th>fur__delfur_dpd__2</th>\n      <th>...</th>\n      <th>efeU__menFentC_ale29__1</th>\n      <th>efeU__menFentC_ale29__2</th>\n      <th>efeU__menFentC_ale30__1</th>\n      <th>efeU__menFentC_ale30__2</th>\n      <th>efeU__menFentCubiC_ale36__1</th>\n      <th>efeU__menFentCubiC_ale36__2</th>\n      <th>efeU__menFentCubiC_ale37__1</th>\n      <th>efeU__menFentCubiC_ale37__2</th>\n      <th>efeU__menFentCubiC_ale38__1</th>\n      <th>efeU__menFentCubiC_ale38__2</th>\n    </tr>\n  </thead>\n  <tbody>\n    <tr>\n      <th>0</th>\n      <td>alr</td>\n      <td>b4053</td>\n      <td>-0.042292</td>\n      <td>0.042292</td>\n      <td>-0.740852</td>\n      <td>-0.866985</td>\n      <td>-0.168235</td>\n      <td>-0.376016</td>\n      <td>-0.633646</td>\n      <td>-0.713788</td>\n      <td>...</td>\n      <td>-0.476805</td>\n      <td>-0.508813</td>\n      <td>0.026904</td>\n      <td>-0.127094</td>\n      <td>0.109230</td>\n      <td>0.000617</td>\n      <td>0.271930</td>\n      <td>0.297802</td>\n      <td>-0.131690</td>\n      <td>0.150876</td>\n    </tr>\n    <tr>\n      <th>1</th>\n      <td>modB</td>\n      <td>b0764</td>\n      <td>0.184964</td>\n      <td>-0.184964</td>\n      <td>-0.596042</td>\n      <td>-0.593549</td>\n      <td>-0.005954</td>\n      <td>-0.235184</td>\n      <td>-0.595247</td>\n      <td>-0.655526</td>\n      <td>...</td>\n      <td>-0.332093</td>\n      <td>-0.034741</td>\n      <td>0.279264</td>\n      <td>-0.003593</td>\n      <td>0.201033</td>\n      <td>0.177794</td>\n      <td>0.248041</td>\n      <td>0.141078</td>\n      <td>-0.165527</td>\n      <td>-0.100868</td>\n    </tr>\n    <tr>\n      <th>2</th>\n      <td>cysZ</td>\n      <td>b2413</td>\n      <td>-0.043865</td>\n      <td>0.043865</td>\n      <td>0.107350</td>\n      <td>0.180211</td>\n      <td>-0.212306</td>\n      <td>-0.282697</td>\n      <td>0.123492</td>\n      <td>0.074825</td>\n      <td>...</td>\n      <td>-0.461764</td>\n      <td>-0.377653</td>\n      <td>0.203116</td>\n      <td>0.016200</td>\n      <td>0.002025</td>\n      <td>-0.012040</td>\n      <td>0.628398</td>\n      <td>0.698518</td>\n      <td>0.420355</td>\n      <td>0.275015</td>\n    </tr>\n    <tr>\n      <th>3</th>\n      <td>dfp</td>\n      <td>b3639</td>\n      <td>-0.052513</td>\n      <td>0.052513</td>\n      <td>0.010719</td>\n      <td>-0.068170</td>\n      <td>-0.089001</td>\n      <td>-0.044974</td>\n      <td>-0.167640</td>\n      <td>-0.319147</td>\n      <td>...</td>\n      <td>0.191096</td>\n      <td>0.149360</td>\n      <td>0.009208</td>\n      <td>0.066414</td>\n      <td>-0.123367</td>\n      <td>-0.268587</td>\n      <td>-0.247457</td>\n      <td>-0.231516</td>\n      <td>0.519031</td>\n      <td>0.343247</td>\n    </tr>\n    <tr>\n      <th>4</th>\n      <td>dcuB</td>\n      <td>b4123</td>\n      <td>0.365215</td>\n      <td>-0.365215</td>\n      <td>-0.896131</td>\n      <td>-0.173375</td>\n      <td>0.400422</td>\n      <td>0.258877</td>\n      <td>-0.348530</td>\n      <td>-0.482547</td>\n      <td>...</td>\n      <td>4.129609</td>\n      <td>4.256892</td>\n      <td>0.929593</td>\n      <td>0.728666</td>\n      <td>1.911724</td>\n      <td>2.347201</td>\n      <td>2.091809</td>\n      <td>1.923489</td>\n      <td>2.933930</td>\n      <td>2.729055</td>\n    </tr>\n    <tr>\n      <th>...</th>\n      <td>...</td>\n      <td>...</td>\n      <td>...</td>\n      <td>...</td>\n      <td>...</td>\n      <td>...</td>\n      <td>...</td>\n      <td>...</td>\n      <td>...</td>\n      <td>...</td>\n      <td>...</td>\n      <td>...</td>\n      <td>...</td>\n      <td>...</td>\n      <td>...</td>\n      <td>...</td>\n      <td>...</td>\n      <td>...</td>\n      <td>...</td>\n      <td>...</td>\n      <td>...</td>\n    </tr>\n    <tr>\n      <th>3860</th>\n      <td>mhpD</td>\n      <td>b0350</td>\n      <td>0.158453</td>\n      <td>-0.158453</td>\n      <td>0.662125</td>\n      <td>0.086680</td>\n      <td>0.063934</td>\n      <td>-0.294443</td>\n      <td>0.553998</td>\n      <td>0.481348</td>\n      <td>...</td>\n      <td>-1.524784</td>\n      <td>-0.673153</td>\n      <td>-0.066243</td>\n      <td>-0.691109</td>\n      <td>-0.328744</td>\n      <td>-0.698742</td>\n      <td>0.331235</td>\n      <td>0.157622</td>\n      <td>-0.773144</td>\n      <td>-0.025589</td>\n    </tr>\n    <tr>\n      <th>3861</th>\n      <td>mhpF</td>\n      <td>b0351</td>\n      <td>-0.372588</td>\n      <td>0.372588</td>\n      <td>1.513200</td>\n      <td>1.251159</td>\n      <td>0.063993</td>\n      <td>-0.412425</td>\n      <td>1.083952</td>\n      <td>0.441693</td>\n      <td>...</td>\n      <td>0.695099</td>\n      <td>0.888539</td>\n      <td>0.432664</td>\n      <td>0.482035</td>\n      <td>0.656983</td>\n      <td>0.454324</td>\n      <td>0.499764</td>\n      <td>0.693546</td>\n      <td>0.286952</td>\n      <td>0.759214</td>\n    </tr>\n    <tr>\n      <th>3862</th>\n      <td>hcaF</td>\n      <td>b2539</td>\n      <td>0.065282</td>\n      <td>-0.065282</td>\n      <td>0.149477</td>\n      <td>-0.352588</td>\n      <td>-0.122738</td>\n      <td>-0.402794</td>\n      <td>-0.357749</td>\n      <td>-0.873491</td>\n      <td>...</td>\n      <td>-0.915097</td>\n      <td>-0.939694</td>\n      <td>-0.597442</td>\n      <td>-1.301669</td>\n      <td>-1.471270</td>\n      <td>-1.357409</td>\n      <td>-0.504646</td>\n      <td>-0.870155</td>\n      <td>-1.046379</td>\n      <td>-0.757495</td>\n    </tr>\n    <tr>\n      <th>3863</th>\n      <td>ruvA</td>\n      <td>b1861</td>\n      <td>-0.079333</td>\n      <td>0.079333</td>\n      <td>0.251261</td>\n      <td>0.038981</td>\n      <td>-0.247013</td>\n      <td>-0.240293</td>\n      <td>0.210413</td>\n      <td>0.113396</td>\n      <td>...</td>\n      <td>0.025995</td>\n      <td>-0.019448</td>\n      <td>-0.019484</td>\n      <td>-0.116220</td>\n      <td>0.113955</td>\n      <td>0.125625</td>\n      <td>0.121400</td>\n      <td>0.304738</td>\n      <td>0.436502</td>\n      <td>0.384450</td>\n    </tr>\n    <tr>\n      <th>3864</th>\n      <td>ruvB</td>\n      <td>b1860</td>\n      <td>-0.049201</td>\n      <td>0.049201</td>\n      <td>0.779531</td>\n      <td>0.544714</td>\n      <td>-0.473499</td>\n      <td>-0.527092</td>\n      <td>0.491378</td>\n      <td>0.314996</td>\n      <td>...</td>\n      <td>-0.123873</td>\n      <td>-0.251831</td>\n      <td>-0.096787</td>\n      <td>-0.280817</td>\n      <td>0.419506</td>\n      <td>0.421189</td>\n      <td>0.332478</td>\n      <td>0.278090</td>\n      <td>-0.182145</td>\n      <td>0.120059</td>\n    </tr>\n  </tbody>\n</table>\n<p>3865 rows × 280 columns</p>\n</div>"
     },
     "execution_count": 330,
     "metadata": {},
     "output_type": "execute_result"
    }
   ],
   "source": [
    "merged_set = all_b.merge(log_tpm, left_on=\"ecoli_b_id\", right_on=\"ecoli_b_id\", how = 'inner')\n",
    "\n",
    "# merged_set = merged_set.drop(columns = [\"start\", \"stop\", \"strand\", \"operon\", \"length\"])\n",
    "\n",
    "merged_set.shape\n",
    "merged_set"
   ],
   "metadata": {
    "collapsed": false,
    "ExecuteTime": {
     "end_time": "2024-03-29T16:38:36.350318Z",
     "start_time": "2024-03-29T16:38:36.305670Z"
    }
   },
   "id": "df6c2e75c82aa9be",
   "execution_count": 330
  },
  {
   "cell_type": "code",
   "outputs": [
    {
     "data": {
      "text/plain": "Empty DataFrame\nColumns: [GeneName, ecoli_b_id, control__wt_glc__1, control__wt_glc__2, fur__wt_dpd__1, fur__wt_dpd__2, fur__wt_fe__1, fur__wt_fe__2, fur__delfur_dpd__1, fur__delfur_dpd__2, fur__delfur_fe2__1, fur__delfur_fe2__2, acid__wt_ph5__1, acid__wt_ph5__2, acid__delgadx_ph5__1, acid__delgadx_ph5__2, acid__delgadw_ph5__1, acid__delgadw_ph5__2, acid__delgade_ph5__1, acid__delgade_ph5__2, oxidative__wt_pq__1, oxidative__wt_pq__2, oxidative__deloxyr_pq__1, oxidative__deloxyr_pq__2, oxidative__delsoxr_pq__1, oxidative__delsoxr_pq__2, oxidative__delsoxs_pq__1, oxidative__delsoxs_pq__2, nac_ntrc__wt_csn__1, nac_ntrc__wt_csn__2, nac_ntrc__wt_cytd__1, nac_ntrc__wt_cytd__2, nac_ntrc__wt_gln__1, nac_ntrc__wt_gln__2, nac_ntrc__bw_delnac_csn__1, nac_ntrc__bw_delnac_csn__2, nac_ntrc__bw_delnac_cytd__1, nac_ntrc__bw_delnac_cytd__2, nac_ntrc__bw_delnac_gln__1, nac_ntrc__bw_delnac_gln__2, nac_ntrc__bw_delnac_nh4__1, nac_ntrc__bw_delnac_nh4__2, misc__wt_no_te__1, misc__wt_no_te__2, misc__bw_delcbl__1, misc__bw_delcbl__2, misc__bw_delfabr__1, misc__bw_delfabr__2, misc__bw_delfadr__1, misc__bw_delfadr__2, misc__nitr_031__1, omics__wt_glu__1, omics__wt_glu__2, omics__wt_gly__1, omics__wt_gly__2, omics__wt_thr__1, omics__wt_thr__2, omics__bw_ac__1, omics__bw_ac__2, omics__bw_fum__1, omics__bw_fum__2, omics__bw_glc__1, omics__bw_glc__2, omics__bw_pyr__1, omics__bw_pyr__2, ompr__wt_nacl__1, ompr__wt_nacl__2, ompr__bw_delompr_nacl__1, ompr__bw_delompr_nacl__2, minspan__wt_ade__1, minspan__wt_glc__1, minspan__wt_glc__2, minspan__wt_glc__3, minspan__wt_glc__4, minspan__wt_glc_anaero__1, minspan__wt_glc_anaero__2, minspan__wt_trp__1, minspan__bw_delcra_glc__1, minspan__bw_delcra_glc__2, minspan__bw_delcra_trp__1, minspan__bw_delmntr__1, minspan__bw_delnac_ade__1, minspan__bw_delnac_glc__1, cra_crp__wt_ac__1, cra_crp__wt_ac__2, cra_crp__wt_fru__1, cra_crp__wt_fru__2, cra_crp__delcra_ac__1, cra_crp__delcra_ac__2, cra_crp__delcra_fru__1, cra_crp__delcra_fru__2, cra_crp__delcra_glc__1, cra_crp__delcra_glc__2, rpoB__wt_031__1, rpoB__wt_044__1, rpoB__wt_lb__1, rpoB__wt_lb__2, rpoB__rpoBE546V_031__1, rpoB__rpoBE546V_044__1, rpoB__rpoBE546V_lb__1, ...]\nIndex: []\n\n[0 rows x 280 columns]",
      "text/html": "<div>\n<style scoped>\n    .dataframe tbody tr th:only-of-type {\n        vertical-align: middle;\n    }\n\n    .dataframe tbody tr th {\n        vertical-align: top;\n    }\n\n    .dataframe thead th {\n        text-align: right;\n    }\n</style>\n<table border=\"1\" class=\"dataframe\">\n  <thead>\n    <tr style=\"text-align: right;\">\n      <th></th>\n      <th>GeneName</th>\n      <th>ecoli_b_id</th>\n      <th>control__wt_glc__1</th>\n      <th>control__wt_glc__2</th>\n      <th>fur__wt_dpd__1</th>\n      <th>fur__wt_dpd__2</th>\n      <th>fur__wt_fe__1</th>\n      <th>fur__wt_fe__2</th>\n      <th>fur__delfur_dpd__1</th>\n      <th>fur__delfur_dpd__2</th>\n      <th>...</th>\n      <th>efeU__menFentC_ale29__1</th>\n      <th>efeU__menFentC_ale29__2</th>\n      <th>efeU__menFentC_ale30__1</th>\n      <th>efeU__menFentC_ale30__2</th>\n      <th>efeU__menFentCubiC_ale36__1</th>\n      <th>efeU__menFentCubiC_ale36__2</th>\n      <th>efeU__menFentCubiC_ale37__1</th>\n      <th>efeU__menFentCubiC_ale37__2</th>\n      <th>efeU__menFentCubiC_ale38__1</th>\n      <th>efeU__menFentCubiC_ale38__2</th>\n    </tr>\n  </thead>\n  <tbody>\n  </tbody>\n</table>\n<p>0 rows × 280 columns</p>\n</div>"
     },
     "execution_count": 333,
     "metadata": {},
     "output_type": "execute_result"
    },
    {
     "data": {
      "text/plain": "Empty DataFrame\nColumns: [GeneName, ecoli_b_id, control__wt_glc__1, control__wt_glc__2, fur__wt_dpd__1, fur__wt_dpd__2, fur__wt_fe__1, fur__wt_fe__2, fur__delfur_dpd__1, fur__delfur_dpd__2, fur__delfur_fe2__1, fur__delfur_fe2__2, acid__wt_ph5__1, acid__wt_ph5__2, acid__delgadx_ph5__1, acid__delgadx_ph5__2, acid__delgadw_ph5__1, acid__delgadw_ph5__2, acid__delgade_ph5__1, acid__delgade_ph5__2, oxidative__wt_pq__1, oxidative__wt_pq__2, oxidative__deloxyr_pq__1, oxidative__deloxyr_pq__2, oxidative__delsoxr_pq__1, oxidative__delsoxr_pq__2, oxidative__delsoxs_pq__1, oxidative__delsoxs_pq__2, nac_ntrc__wt_csn__1, nac_ntrc__wt_csn__2, nac_ntrc__wt_cytd__1, nac_ntrc__wt_cytd__2, nac_ntrc__wt_gln__1, nac_ntrc__wt_gln__2, nac_ntrc__bw_delnac_csn__1, nac_ntrc__bw_delnac_csn__2, nac_ntrc__bw_delnac_cytd__1, nac_ntrc__bw_delnac_cytd__2, nac_ntrc__bw_delnac_gln__1, nac_ntrc__bw_delnac_gln__2, nac_ntrc__bw_delnac_nh4__1, nac_ntrc__bw_delnac_nh4__2, misc__wt_no_te__1, misc__wt_no_te__2, misc__bw_delcbl__1, misc__bw_delcbl__2, misc__bw_delfabr__1, misc__bw_delfabr__2, misc__bw_delfadr__1, misc__bw_delfadr__2, misc__nitr_031__1, omics__wt_glu__1, omics__wt_glu__2, omics__wt_gly__1, omics__wt_gly__2, omics__wt_thr__1, omics__wt_thr__2, omics__bw_ac__1, omics__bw_ac__2, omics__bw_fum__1, omics__bw_fum__2, omics__bw_glc__1, omics__bw_glc__2, omics__bw_pyr__1, omics__bw_pyr__2, ompr__wt_nacl__1, ompr__wt_nacl__2, ompr__bw_delompr_nacl__1, ompr__bw_delompr_nacl__2, minspan__wt_ade__1, minspan__wt_glc__1, minspan__wt_glc__2, minspan__wt_glc__3, minspan__wt_glc__4, minspan__wt_glc_anaero__1, minspan__wt_glc_anaero__2, minspan__wt_trp__1, minspan__bw_delcra_glc__1, minspan__bw_delcra_glc__2, minspan__bw_delcra_trp__1, minspan__bw_delmntr__1, minspan__bw_delnac_ade__1, minspan__bw_delnac_glc__1, cra_crp__wt_ac__1, cra_crp__wt_ac__2, cra_crp__wt_fru__1, cra_crp__wt_fru__2, cra_crp__delcra_ac__1, cra_crp__delcra_ac__2, cra_crp__delcra_fru__1, cra_crp__delcra_fru__2, cra_crp__delcra_glc__1, cra_crp__delcra_glc__2, rpoB__wt_031__1, rpoB__wt_044__1, rpoB__wt_lb__1, rpoB__wt_lb__2, rpoB__rpoBE546V_031__1, rpoB__rpoBE546V_044__1, rpoB__rpoBE546V_lb__1, ...]\nIndex: []\n\n[0 rows x 280 columns]",
      "text/html": "<div>\n<style scoped>\n    .dataframe tbody tr th:only-of-type {\n        vertical-align: middle;\n    }\n\n    .dataframe tbody tr th {\n        vertical-align: top;\n    }\n\n    .dataframe thead th {\n        text-align: right;\n    }\n</style>\n<table border=\"1\" class=\"dataframe\">\n  <thead>\n    <tr style=\"text-align: right;\">\n      <th></th>\n      <th>GeneName</th>\n      <th>ecoli_b_id</th>\n      <th>control__wt_glc__1</th>\n      <th>control__wt_glc__2</th>\n      <th>fur__wt_dpd__1</th>\n      <th>fur__wt_dpd__2</th>\n      <th>fur__wt_fe__1</th>\n      <th>fur__wt_fe__2</th>\n      <th>fur__delfur_dpd__1</th>\n      <th>fur__delfur_dpd__2</th>\n      <th>...</th>\n      <th>efeU__menFentC_ale29__1</th>\n      <th>efeU__menFentC_ale29__2</th>\n      <th>efeU__menFentC_ale30__1</th>\n      <th>efeU__menFentC_ale30__2</th>\n      <th>efeU__menFentCubiC_ale36__1</th>\n      <th>efeU__menFentCubiC_ale36__2</th>\n      <th>efeU__menFentCubiC_ale37__1</th>\n      <th>efeU__menFentCubiC_ale37__2</th>\n      <th>efeU__menFentCubiC_ale38__1</th>\n      <th>efeU__menFentCubiC_ale38__2</th>\n    </tr>\n  </thead>\n  <tbody>\n  </tbody>\n</table>\n<p>0 rows × 280 columns</p>\n</div>"
     },
     "execution_count": 333,
     "metadata": {},
     "output_type": "execute_result"
    }
   ],
   "source": [
    "# checking for duplicates:\n",
    "dup1 = merged_set[merged_set['ecoli_b_id'].duplicated()]\n",
    "dup2 = merged_set[merged_set['GeneName'].duplicated()]\n",
    "\n",
    "\n",
    "dup1 # empty\n",
    "dup2 # empty"
   ],
   "metadata": {
    "collapsed": false,
    "ExecuteTime": {
     "end_time": "2024-03-29T16:39:39.877091Z",
     "start_time": "2024-03-29T16:39:39.813068Z"
    }
   },
   "id": "9116067b27638589",
   "execution_count": 333
  },
  {
   "cell_type": "markdown",
   "source": [
    "___\n",
    "___\n",
    "## Correlation tests\n",
    "___\n",
    "\n",
    "### 1) Let's check the normality\n",
    "\n",
    "To check for linearity, we can visually inspect the relationship between the variables using scatter plots. If the relationship appears linear, it suggests that the Pearson correlation coefficient may be appropriate."
   ],
   "metadata": {
    "collapsed": false
   },
   "id": "652e589204c44d3e"
  },
  {
   "cell_type": "code",
   "outputs": [],
   "source": [
    "# Assuming you have a DataFrame df with expression data\n",
    "# and a DataFrame tf_target_mapping with TFs and their most important target genes\n",
    "\n",
    "# Example: Extract TF gene expression and most important target gene expression\n",
    "for i in merged_set:\n",
    "    tf_name = merged_set.loc['ecoli_b_id']\n",
    "    for i in useful_set:\n",
    "        if tf_name == useful_set['regulatorName']:\n",
    "            index = useful_set.loc[i]\n",
    "            useful_set['tuGenes'][i] = merged_set\n",
    "        \n",
    "        target = useful_set['tuName']\n",
    "    \n",
    "    tf_gene = df.loc['TF_gene']\n",
    "    target_gene = df.loc[tf_target_mapping['Most_important_target_gene']]\n",
    "    \n",
    "    # Calculate Pearson correlation coefficient\n",
    "    correlation_coefficient = np.corrcoef(tf_gene, target_gene)[0, 1]\n",
    "\n",
    "# Visualize the relationship\n",
    "plt.scatter(tf_gene, target_gene)\n",
    "plt.xlabel('TF Gene Expression')\n",
    "plt.ylabel('Target Gene Expression')\n",
    "plt.title(f'Scatter Plot of TF Gene vs. Most Important Target Gene (Correlation: {correlation_coefficient:.2f})')\n",
    "plt.show()\n"
   ],
   "metadata": {
    "collapsed": false
   },
   "id": "ae754e24b8fe192c"
  }
 ],
 "metadata": {
  "kernelspec": {
   "display_name": "Python 3",
   "language": "python",
   "name": "python3"
  },
  "language_info": {
   "codemirror_mode": {
    "name": "ipython",
    "version": 2
   },
   "file_extension": ".py",
   "mimetype": "text/x-python",
   "name": "python",
   "nbconvert_exporter": "python",
   "pygments_lexer": "ipython2",
   "version": "2.7.6"
  }
 },
 "nbformat": 4,
 "nbformat_minor": 5
}
